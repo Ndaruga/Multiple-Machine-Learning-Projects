{
 "cells": [
  {
   "cell_type": "markdown",
   "metadata": {},
   "source": [
    "# Dimensionality reducion on MNIST digit data"
   ]
  },
  {
   "cell_type": "code",
   "execution_count": 1,
   "metadata": {},
   "outputs": [
    {
     "name": "stdout",
     "output_type": "stream",
     "text": [
      "Requirement already satisfied: python-mnist in c:\\users\\ndaru\\anaconda3\\lib\\site-packages (0.7)\n",
      "Note: you may need to restart the kernel to use updated packages.\n"
     ]
    }
   ],
   "source": [
    "%pip install python-mnist\n",
    "%matplotlib inline\n",
    "\n",
    "import time\n",
    "import tensorflow as tf\n",
    "from keras.datasets import mnist\n",
    "from keras.utils import to_categorical\n",
    "import matplotlib.pyplot as plt\n",
    "import numpy as np\n",
    "import pandas as pd\n",
    "import seaborn as sns\n",
    "from sklearn.manifold import TSNE\n",
    "\n",
    "import warnings\n",
    "warnings.filterwarnings(action='ignore', category=FutureWarning)\n"
   ]
  },
  {
   "cell_type": "code",
   "execution_count": 2,
   "metadata": {},
   "outputs": [
    {
     "name": "stdout",
     "output_type": "stream",
     "text": [
      "Train data\n",
      "X Train: (60000, 28, 28)\n",
      "y train: (60000,)\n",
      "****************************************************************************************************\n",
      "Test data\n",
      "X Test: (10000, 28, 28)\n",
      "Y Text: (10000,)\n"
     ]
    }
   ],
   "source": [
    "# Load the data\n",
    "\n",
    "(X_train,y_train),(X_test,y_test) = mnist.load_data()\n",
    "print(\"Train data\")\n",
    "print(f\"X Train: {X_train.shape}\")\n",
    "print(f\"y train: {y_train.shape}\")\n",
    "print(\"*\"*100)\n",
    "print(\"Test data\")\n",
    "print(f\"X Test: {X_test.shape}\")\n",
    "print(f\"Y Text: {y_test.shape}\")\n"
   ]
  },
  {
   "cell_type": "markdown",
   "metadata": {},
   "source": [
    "From the data above, we can already tell a few things\n",
    "<li>The Train and test data has 60000 and 10000 images respectively</li>\n",
    "<li>The images have a dimention of 28 by 28 pixels</li>"
   ]
  },
  {
   "cell_type": "markdown",
   "metadata": {},
   "source": [
    "### Plotting the images"
   ]
  },
  {
   "cell_type": "code",
   "execution_count": 3,
   "metadata": {},
   "outputs": [
    {
     "data": {
      "image/png": "[encoded data removed]",
      "text/plain": [
       "<Figure size 576x288 with 2 Axes>"
      ]
     },
     "metadata": {
      "needs_background": "light"
     },
     "output_type": "display_data"
    }
   ],
   "source": [
    "# Plot the first image on the train and test data\n",
    "\n",
    "fig = plt.figure(figsize=(8,4))\n",
    "\n",
    "fig.add_subplot(121)\n",
    "plt.title(\"Train data img 1\")\n",
    "img_train = y_train[0]\n",
    "plt.imshow(X_train[0])\n",
    "\n",
    "fig.add_subplot(122)\n",
    "plt.title(\"Test data img 1\")\n",
    "img_test = y_test[0]\n",
    "plt.imshow(X_test[0])\n",
    "\n",
    "plt.show()\n",
    "\n",
    "# display(X_train)"
   ]
  },
  {
   "cell_type": "markdown",
   "metadata": {},
   "source": [
    "The above images show that the digit images are in <strong>RGB colour channels</strong> and we need to turn them into grayscale\n",
    "<br>\n"
   ]
  },
  {
   "cell_type": "code",
   "execution_count": 4,
   "metadata": {},
   "outputs": [
    {
     "data": {
      "image/png": "[encoded data removed]",
      "text/plain": [
       "<Figure size 864x720 with 9 Axes>"
      ]
     },
     "metadata": {
      "needs_background": "light"
     },
     "output_type": "display_data"
    }
   ],
   "source": [
    "#  We can go further to plot the first few images in train\n",
    "fig = plt.figure(figsize = (12,10))\n",
    "\n",
    "for imgs in range(9):\n",
    "    fig.add_subplot(330 + 1 + imgs)\n",
    "    plt.imshow(X_train[imgs], cmap='gray')\n",
    "plt.show()"
   ]
  },
  {
   "cell_type": "code",
   "execution_count": null,
   "metadata": {},
   "outputs": [],
   "source": []
  },
  {
   "cell_type": "markdown",
   "metadata": {},
   "source": [
    "### Reashaping"
   ]
  },
  {
   "cell_type": "markdown",
   "metadata": {},
   "source": [
    "Since we are interesed in dimentionality reduction, <br>we will need to reshape the data arrays into a <strong>single colour channel</strong>"
   ]
  },
  {
   "cell_type": "code",
   "execution_count": 5,
   "metadata": {},
   "outputs": [
    {
     "data": {
      "text/plain": [
       "(60000, 28, 28)"
      ]
     },
     "metadata": {},
     "output_type": "display_data"
    },
    {
     "name": "stdout",
     "output_type": "stream",
     "text": [
      "After reshaping, we get \n",
      "\tX_test dim: (10000, 28, 28)\n",
      "\tX_train dim: (60000, 28, 28)\n"
     ]
    }
   ],
   "source": [
    "# Reshape the X_train and X_test\n",
    "\n",
    "display(X_train.shape)\n",
    "\n",
    "\n",
    "Xtrain = X_train.reshape((X_train.shape[0], 28,28,1))\n",
    "Xtest = X_test.reshape((X_test.shape[0], 28,28,1))\n",
    "\n",
    "print(f\"After reshaping, we get \\n\\tX_test dim: {X_test.shape}\\n\\tX_train dim: {X_train.shape}\")"
   ]
  },
  {
   "cell_type": "code",
   "execution_count": null,
   "metadata": {},
   "outputs": [],
   "source": []
  },
  {
   "cell_type": "markdown",
   "metadata": {},
   "source": [
    "#### Transforming the data into High dimention\n",
    "<li>Part 1: Use the 10 categories and see the result</li>\n",
    "<li>Part 2: Use the 784 fratures <strong>28 X 28 </strong> and see the result</li>"
   ]
  },
  {
   "cell_type": "markdown",
   "metadata": {},
   "source": []
  },
  {
   "cell_type": "markdown",
   "metadata": {},
   "source": [
    "### Part 1: Using the 10 categorical digits"
   ]
  },
  {
   "cell_type": "code",
   "execution_count": 6,
   "metadata": {},
   "outputs": [
    {
     "name": "stdout",
     "output_type": "stream",
     "text": [
      "[0. 0. 0. 0. 0. 1. 0. 0. 0. 0.]\n",
      "****************************************************************************************************\n",
      "(60000, 10)\n"
     ]
    }
   ],
   "source": [
    "Ytrain = to_categorical(y_train)\n",
    "Ytest = to_categorical(y_test)\n",
    "\n",
    "print(Ytrain[0])\n",
    "print('*'*100)\n",
    "print(Ytrain.shape)"
   ]
  },
  {
   "cell_type": "markdown",
   "metadata": {},
   "source": [
    "From the results above we can see that the Ytrain shape after one hot encoding we get 10 categories. <br>\n",
    "This is because the digits range from 0 -9 which are 10 10 categories\n"
   ]
  },
  {
   "cell_type": "code",
   "execution_count": 7,
   "metadata": {},
   "outputs": [
    {
     "data": {
      "text/plain": [
       "numpy.ndarray"
      ]
     },
     "execution_count": 7,
     "metadata": {},
     "output_type": "execute_result"
    }
   ],
   "source": [
    "type(Ytrain)"
   ]
  },
  {
   "cell_type": "markdown",
   "metadata": {},
   "source": [
    "## Visualizaton using t-SNE\n",
    "\n",
    "T-Dristribted Stochastic Neighbour Embedding (t-SNE) is a non linear dimentionality reduction techique that well suits vizualization of high dimension data especially on a 2D plot using conditional probalbility.<br>\n",
    "t-SNE uses Gausian distribution"
   ]
  },
  {
   "cell_type": "markdown",
   "metadata": {},
   "source": [
    "#### Converng data into a pandas dataframe for easier handling"
   ]
  },
  {
   "cell_type": "code",
   "execution_count": 8,
   "metadata": {},
   "outputs": [
    {
     "name": "stdout",
     "output_type": "stream",
     "text": [
      "----------------------------------------------------------------------------------------------------\n"
     ]
    },
    {
     "data": {
      "text/plain": [
       "0    1    2    3    4    5    6    7    8    9  \n",
       "0.0  1.0  0.0  0.0  0.0  0.0  0.0  0.0  0.0  0.0    6742\n",
       "     0.0  0.0  0.0  0.0  0.0  0.0  1.0  0.0  0.0    6265\n",
       "               1.0  0.0  0.0  0.0  0.0  0.0  0.0    6131\n",
       "          1.0  0.0  0.0  0.0  0.0  0.0  0.0  0.0    5958\n",
       "          0.0  0.0  0.0  0.0  0.0  0.0  0.0  1.0    5949\n",
       "1.0  0.0  0.0  0.0  0.0  0.0  0.0  0.0  0.0  0.0    5923\n",
       "0.0  0.0  0.0  0.0  0.0  0.0  1.0  0.0  0.0  0.0    5918\n",
       "                              0.0  0.0  1.0  0.0    5851\n",
       "                    1.0  0.0  0.0  0.0  0.0  0.0    5842\n",
       "                    0.0  1.0  0.0  0.0  0.0  0.0    5421\n",
       "dtype: int64"
      ]
     },
     "metadata": {},
     "output_type": "display_data"
    }
   ],
   "source": [
    "cols = np.arange(10)\n",
    "\n",
    "train_df = pd.DataFrame(Ytrain, columns = cols)\n",
    "train_df.head()\n",
    "\n",
    "print('-'*100)\n",
    "display(train_df.value_counts())"
   ]
  },
  {
   "cell_type": "code",
   "execution_count": 9,
   "metadata": {},
   "outputs": [
    {
     "name": "stdout",
     "output_type": "stream",
     "text": [
      "[t-SNE] Computing 91 nearest neighbors...\n",
      "[t-SNE] Indexed 60000 samples in 11.688s...\n",
      "[t-SNE] Computed neighbors for 60000 samples in 38.539s...\n",
      "[t-SNE] Computed conditional probabilities for sample 1000 / 60000\n",
      "[t-SNE] Computed conditional probabilities for sample 2000 / 60000\n",
      "[t-SNE] Computed conditional probabilities for sample 3000 / 60000\n",
      "[t-SNE] Computed conditional probabilities for sample 4000 / 60000\n",
      "[t-SNE] Computed conditional probabilities for sample 5000 / 60000\n",
      "[t-SNE] Computed conditional probabilities for sample 6000 / 60000\n",
      "[t-SNE] Computed conditional probabilities for sample 7000 / 60000\n",
      "[t-SNE] Computed conditional probabilities for sample 8000 / 60000\n",
      "[t-SNE] Computed conditional probabilities for sample 9000 / 60000\n",
      "[t-SNE] Computed conditional probabilities for sample 10000 / 60000\n",
      "[t-SNE] Computed conditional probabilities for sample 11000 / 60000\n",
      "[t-SNE] Computed conditional probabilities for sample 12000 / 60000\n",
      "[t-SNE] Computed conditional probabilities for sample 13000 / 60000\n",
      "[t-SNE] Computed conditional probabilities for sample 14000 / 60000\n",
      "[t-SNE] Computed conditional probabilities for sample 15000 / 60000\n",
      "[t-SNE] Computed conditional probabilities for sample 16000 / 60000\n",
      "[t-SNE] Computed conditional probabilities for sample 17000 / 60000\n",
      "[t-SNE] Computed conditional probabilities for sample 18000 / 60000\n",
      "[t-SNE] Computed conditional probabilities for sample 19000 / 60000\n",
      "[t-SNE] Computed conditional probabilities for sample 20000 / 60000\n",
      "[t-SNE] Computed conditional probabilities for sample 21000 / 60000\n",
      "[t-SNE] Computed conditional probabilities for sample 22000 / 60000\n",
      "[t-SNE] Computed conditional probabilities for sample 23000 / 60000\n",
      "[t-SNE] Computed conditional probabilities for sample 24000 / 60000\n",
      "[t-SNE] Computed conditional probabilities for sample 25000 / 60000\n",
      "[t-SNE] Computed conditional probabilities for sample 26000 / 60000\n",
      "[t-SNE] Computed conditional probabilities for sample 27000 / 60000\n",
      "[t-SNE] Computed conditional probabilities for sample 28000 / 60000\n",
      "[t-SNE] Computed conditional probabilities for sample 29000 / 60000\n",
      "[t-SNE] Computed conditional probabilities for sample 30000 / 60000\n",
      "[t-SNE] Computed conditional probabilities for sample 31000 / 60000\n",
      "[t-SNE] Computed conditional probabilities for sample 32000 / 60000\n",
      "[t-SNE] Computed conditional probabilities for sample 33000 / 60000\n",
      "[t-SNE] Computed conditional probabilities for sample 34000 / 60000\n",
      "[t-SNE] Computed conditional probabilities for sample 35000 / 60000\n",
      "[t-SNE] Computed conditional probabilities for sample 36000 / 60000\n",
      "[t-SNE] Computed conditional probabilities for sample 37000 / 60000\n",
      "[t-SNE] Computed conditional probabilities for sample 38000 / 60000\n",
      "[t-SNE] Computed conditional probabilities for sample 39000 / 60000\n",
      "[t-SNE] Computed conditional probabilities for sample 40000 / 60000\n",
      "[t-SNE] Computed conditional probabilities for sample 41000 / 60000\n",
      "[t-SNE] Computed conditional probabilities for sample 42000 / 60000\n",
      "[t-SNE] Computed conditional probabilities for sample 43000 / 60000\n",
      "[t-SNE] Computed conditional probabilities for sample 44000 / 60000\n",
      "[t-SNE] Computed conditional probabilities for sample 45000 / 60000\n",
      "[t-SNE] Computed conditional probabilities for sample 46000 / 60000\n",
      "[t-SNE] Computed conditional probabilities for sample 47000 / 60000\n",
      "[t-SNE] Computed conditional probabilities for sample 48000 / 60000\n",
      "[t-SNE] Computed conditional probabilities for sample 49000 / 60000\n",
      "[t-SNE] Computed conditional probabilities for sample 50000 / 60000\n",
      "[t-SNE] Computed conditional probabilities for sample 51000 / 60000\n",
      "[t-SNE] Computed conditional probabilities for sample 52000 / 60000\n",
      "[t-SNE] Computed conditional probabilities for sample 53000 / 60000\n",
      "[t-SNE] Computed conditional probabilities for sample 54000 / 60000\n",
      "[t-SNE] Computed conditional probabilities for sample 55000 / 60000\n",
      "[t-SNE] Computed conditional probabilities for sample 56000 / 60000\n",
      "[t-SNE] Computed conditional probabilities for sample 57000 / 60000\n",
      "[t-SNE] Computed conditional probabilities for sample 58000 / 60000\n",
      "[t-SNE] Computed conditional probabilities for sample 59000 / 60000\n",
      "[t-SNE] Computed conditional probabilities for sample 60000 / 60000\n",
      "[t-SNE] Mean sigma: 0.000000\n",
      "[t-SNE] KL divergence after 250 iterations with early exaggeration: 81.989052\n",
      "[t-SNE] KL divergence after 300 iterations: 3.828633\n",
      "Learning completed in 360.8008952140808 seconds\n"
     ]
    },
    {
     "data": {
      "text/plain": [
       "(60000, 2)"
      ]
     },
     "execution_count": 9,
     "metadata": {},
     "output_type": "execute_result"
    }
   ],
   "source": [
    "\n",
    "start_time = time.time()\n",
    "tsne = TSNE(n_components = 2, verbose=1, learning_rate=300, n_iter=300)\n",
    "tsne_result = tsne.fit_transform(X=train_df)\n",
    "end_time = time.time()\n",
    "print(\"Learning completed in {} seconds\".format(end_time - start_time))\n",
    "tsne_result.shape"
   ]
  },
  {
   "cell_type": "code",
   "execution_count": 10,
   "metadata": {},
   "outputs": [
    {
     "data": {
      "text/html": [
       "<div>\n",
       "<style scoped>\n",
       "    .dataframe tbody tr th:only-of-type {\n",
       "        vertical-align: middle;\n",
       "    }\n",
       "\n",
       "    .dataframe tbody tr th {\n",
       "        vertical-align: top;\n",
       "    }\n",
       "\n",
       "    .dataframe thead th {\n",
       "        text-align: right;\n",
       "    }\n",
       "</style>\n",
       "<table border=\"1\" class=\"dataframe\">\n",
       "  <thead>\n",
       "    <tr style=\"text-align: right;\">\n",
       "      <th></th>\n",
       "      <th>t-SNE 1</th>\n",
       "      <th>t-SNE 2</th>\n",
       "    </tr>\n",
       "  </thead>\n",
       "  <tbody>\n",
       "    <tr>\n",
       "      <th>0</th>\n",
       "      <td>-2.578431</td>\n",
       "      <td>3.227650</td>\n",
       "    </tr>\n",
       "    <tr>\n",
       "      <th>1</th>\n",
       "      <td>1.255560</td>\n",
       "      <td>-2.966019</td>\n",
       "    </tr>\n",
       "    <tr>\n",
       "      <th>2</th>\n",
       "      <td>4.897130</td>\n",
       "      <td>-0.075099</td>\n",
       "    </tr>\n",
       "    <tr>\n",
       "      <th>3</th>\n",
       "      <td>-0.821152</td>\n",
       "      <td>0.477441</td>\n",
       "    </tr>\n",
       "    <tr>\n",
       "      <th>4</th>\n",
       "      <td>0.431805</td>\n",
       "      <td>4.888453</td>\n",
       "    </tr>\n",
       "  </tbody>\n",
       "</table>\n",
       "</div>"
      ],
      "text/plain": [
       "    t-SNE 1   t-SNE 2\n",
       "0 -2.578431  3.227650\n",
       "1  1.255560 -2.966019\n",
       "2  4.897130 -0.075099\n",
       "3 -0.821152  0.477441\n",
       "4  0.431805  4.888453"
      ]
     },
     "execution_count": 10,
     "metadata": {},
     "output_type": "execute_result"
    }
   ],
   "source": [
    "tsne_df = pd.DataFrame({\"t-SNE 1\":tsne_result[:,0], \"t-SNE 2\":tsne_result[:,1]})\n",
    "tsne_df.head()"
   ]
  },
  {
   "cell_type": "code",
   "execution_count": 11,
   "metadata": {},
   "outputs": [
    {
     "name": "stderr",
     "output_type": "stream",
     "text": [
      "No handles with labels found to put in legend.\n"
     ]
    },
    {
     "data": {
      "text/plain": [
       "<matplotlib.legend.Legend at 0x2c3afaf7940>"
      ]
     },
     "execution_count": 11,
     "metadata": {},
     "output_type": "execute_result"
    },
    {
     "data": {
      "image/png": "[encoded data removed]",
      "text/plain": [
       "<Figure size 1080x720 with 1 Axes>"
      ]
     },
     "metadata": {
      "needs_background": "light"
     },
     "output_type": "display_data"
    }
   ],
   "source": [
    "# Plotting the tsne data\n",
    "\n",
    "fig, ax = plt.subplots(1, figsize=(15,10))\n",
    "sns.scatterplot(x = 't-SNE 1', y= 't-SNE 2', data = tsne_df, ax = ax, s=20)\n",
    "lim = (tsne_result.min()-5, tsne_result.max()+5)\n",
    "ax.set_xlim(lim)\n",
    "ax.set_ylim(lim)\n",
    "ax.set_aspect('equal')\n",
    "ax.set_title('t-SNE Visualization on MNIST digit data', fontsize = 16, weight = 'bold')\n",
    "ax.legend(bbox_to_anchor = (1,1), loc =2, borderaxespad = 0.0)"
   ]
  },
  {
   "cell_type": "code",
   "execution_count": null,
   "metadata": {},
   "outputs": [],
   "source": []
  },
  {
   "cell_type": "code",
   "execution_count": null,
   "metadata": {},
   "outputs": [],
   "source": []
  },
  {
   "cell_type": "code",
   "execution_count": null,
   "metadata": {},
   "outputs": [],
   "source": []
  },
  {
   "cell_type": "code",
   "execution_count": null,
   "metadata": {},
   "outputs": [],
   "source": []
  },
  {
   "cell_type": "code",
   "execution_count": null,
   "metadata": {},
   "outputs": [],
   "source": []
  },
  {
   "cell_type": "code",
   "execution_count": null,
   "metadata": {},
   "outputs": [],
   "source": []
  },
  {
   "cell_type": "code",
   "execution_count": null,
   "metadata": {},
   "outputs": [],
   "source": []
  },
  {
   "cell_type": "code",
   "execution_count": null,
   "metadata": {},
   "outputs": [],
   "source": []
  },
  {
   "cell_type": "code",
   "execution_count": null,
   "metadata": {},
   "outputs": [],
   "source": []
  },
  {
   "cell_type": "code",
   "execution_count": null,
   "metadata": {},
   "outputs": [],
   "source": []
  },
  {
   "cell_type": "code",
   "execution_count": null,
   "metadata": {},
   "outputs": [],
   "source": []
  },
  {
   "cell_type": "code",
   "execution_count": null,
   "metadata": {},
   "outputs": [],
   "source": []
  },
  {
   "cell_type": "code",
   "execution_count": null,
   "metadata": {},
   "outputs": [],
   "source": []
  },
  {
   "cell_type": "code",
   "execution_count": 12,
   "metadata": {},
   "outputs": [
    {
     "name": "stdout",
     "output_type": "stream",
     "text": [
      "Note: you may need to restart the kernel to use updated packages.\n",
      "Successfully removed mnist\n"
     ]
    },
    {
     "name": "stderr",
     "output_type": "stream",
     "text": [
      "WARNING: Skipping mnist as it is not installed.\n"
     ]
    }
   ],
   "source": [
    "# Since we will no longer need Mnist data, we can uninstall the package\n",
    "%pip uninstall mnist\n",
    "print(\"Successfully removed mnist\")"
   ]
  }
 ],
 "metadata": {
  "kernelspec": {
   "display_name": "Python 3.8.8 ('base')",
   "language": "python",
   "name": "python3"
  },
  "language_info": {
   "codemirror_mode": {
    "name": "ipython",
    "version": 3
   },
   "file_extension": ".py",
   "mimetype": "text/x-python",
   "name": "python",
   "nbconvert_exporter": "python",
   "pygments_lexer": "ipython3",
   "version": "3.8.8"
  },
  "orig_nbformat": 4,
  "vscode": {
   "interpreter": {
    "hash": "04b2e48da8715d0e03ed003238e610aa18fc3abec3b418b1e66df75f2c0e936e"
   }
  }
 },
 "nbformat": 4,
 "nbformat_minor": 2
}
