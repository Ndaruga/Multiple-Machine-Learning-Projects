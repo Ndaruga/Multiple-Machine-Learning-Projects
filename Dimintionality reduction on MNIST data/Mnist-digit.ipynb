{
 "cells": [
  {
   "cell_type": "code",
   "execution_count": null,
   "metadata": {},
   "outputs": [],
   "source": []
  },
  {
   "cell_type": "code",
   "execution_count": 1,
   "metadata": {},
   "outputs": [
    {
     "name": "stdout",
     "output_type": "stream",
     "text": [
      "Requirement already satisfied: python-mnist in c:\\users\\ndaru\\anaconda3\\lib\\site-packages (0.7)\n",
      "Note: you may need to restart the kernel to use updated packages.\n"
     ]
    }
   ],
   "source": [
    "%pip install python-mnist\n",
    "%matplotlib inline\n",
    "import tensorflow as tf\n",
    "from keras.datasets import mnist\n",
    "from keras.utils import to_categorical\n",
    "import matplotlib.pyplot as plt\n",
    "import numpy as np\n"
   ]
  },
  {
   "cell_type": "code",
   "execution_count": 2,
   "metadata": {},
   "outputs": [
    {
     "name": "stdout",
     "output_type": "stream",
     "text": [
      "Train data\n",
      "X Train: (60000, 28, 28)\n",
      "y train: (60000,)\n",
      "****************************************************************************************************\n",
      "Test data\n",
      "X Test: (10000, 28, 28)\n",
      "Y Text: (10000,)\n"
     ]
    }
   ],
   "source": [
    "# Load the data\n",
    "\n",
    "(X_train,y_train),(X_test,y_test) = mnist.load_data()\n",
    "print(\"Train data\")\n",
    "print(f\"X Train: {X_train.shape}\")\n",
    "print(f\"y train: {y_train.shape}\")\n",
    "print(\"*\"*100)\n",
    "print(\"Test data\")\n",
    "print(f\"X Test: {X_test.shape}\")\n",
    "print(f\"Y Text: {y_test.shape}\")\n"
   ]
  },
  {
   "cell_type": "markdown",
   "metadata": {},
   "source": [
    "From the data above, we can already tell a few things\n",
    "<li>The Train and test data has 60000 and 10000 images respectively</li>\n",
    "<li>The images have a dimention of 28 by 28 pixels</li>"
   ]
  },
  {
   "cell_type": "markdown",
   "metadata": {},
   "source": [
    "### Plotting the images"
   ]
  },
  {
   "cell_type": "code",
   "execution_count": 3,
   "metadata": {},
   "outputs": [
    {
     "data": {
      "image/png": "[encoded data removed]",
      "text/plain": [
       "<Figure size 576x288 with 2 Axes>"
      ]
     },
     "metadata": {
      "needs_background": "light"
     },
     "output_type": "display_data"
    }
   ],
   "source": [
    "# Plot the first image on the train and test data\n",
    "\n",
    "fig = plt.figure(figsize=(8,4))\n",
    "\n",
    "fig.add_subplot(121)\n",
    "plt.title(\"Train data img 1\")\n",
    "img_train = y_train[0]\n",
    "plt.imshow(X_train[0])\n",
    "\n",
    "fig.add_subplot(122)\n",
    "plt.title(\"Test data img 1\")\n",
    "img_test = y_test[0]\n",
    "plt.imshow(X_test[0])\n",
    "\n",
    "plt.show()\n",
    "\n",
    "# display(X_train)"
   ]
  },
  {
   "cell_type": "markdown",
   "metadata": {},
   "source": [
    "The above images show that the digit images are in <strong>RGB colour channels</strong> and we need to turn them into grayscale\n",
    "<br>\n"
   ]
  },
  {
   "cell_type": "code",
   "execution_count": 4,
   "metadata": {},
   "outputs": [
    {
     "data": {
      "image/png": "[encoded data removed]",
      "text/plain": [
       "<Figure size 864x720 with 9 Axes>"
      ]
     },
     "metadata": {
      "needs_background": "light"
     },
     "output_type": "display_data"
    }
   ],
   "source": [
    "#  We can go further to plot the first few images in train\n",
    "fig = plt.figure(figsize = (12,10))\n",
    "\n",
    "for imgs in range(9):\n",
    "    fig.add_subplot(330 + 1 + imgs)\n",
    "    plt.imshow(X_train[imgs], cmap='gray')\n",
    "plt.show()"
   ]
  },
  {
   "cell_type": "code",
   "execution_count": null,
   "metadata": {},
   "outputs": [],
   "source": []
  },
  {
   "cell_type": "markdown",
   "metadata": {},
   "source": [
    "### Reashaping"
   ]
  },
  {
   "cell_type": "markdown",
   "metadata": {},
   "source": [
    "Since we are interesed in dimentionality reduction, <br>we will need to reshape the data arrays into a <strong>single colour channel</strong>"
   ]
  },
  {
   "cell_type": "code",
   "execution_count": 5,
   "metadata": {},
   "outputs": [
    {
     "data": {
      "text/plain": [
       "(60000, 28, 28)"
      ]
     },
     "metadata": {},
     "output_type": "display_data"
    },
    {
     "name": "stdout",
     "output_type": "stream",
     "text": [
      "After reshaping, we get \n",
      "\tX_test dim: (10000, 28, 28)\n",
      "\tX_train dim: (60000, 28, 28)\n"
     ]
    }
   ],
   "source": [
    "# Reshape the X_train and X_test\n",
    "\n",
    "display(X_train.shape)\n",
    "\n",
    "\n",
    "Xtrain = X_train.reshape((X_train.shape[0], 28,28,1))\n",
    "Xtest = X_test.reshape((X_test.shape[0], 28,28,1))\n",
    "\n",
    "print(f\"After reshaping, we get \\n\\tX_test dim: {X_test.shape}\\n\\tX_train dim: {X_train.shape}\")"
   ]
  },
  {
   "cell_type": "markdown",
   "metadata": {},
   "source": [
    "### One hot encodding"
   ]
  },
  {
   "cell_type": "code",
   "execution_count": 8,
   "metadata": {},
   "outputs": [
    {
     "name": "stdout",
     "output_type": "stream",
     "text": [
      "[0. 0. 0. 0. 0. 1. 0. 0. 0. 0.]\n",
      "****************************************************************************************************\n",
      "(60000, 10)\n"
     ]
    }
   ],
   "source": [
    "Ytrain = to_categorical(y_train)\n",
    "Ytest = to_categorical(y_test)\n",
    "\n",
    "print(Ytrain[0])\n",
    "print('*'*100)\n",
    "print(Ytrain.shape)"
   ]
  },
  {
   "cell_type": "code",
   "execution_count": null,
   "metadata": {},
   "outputs": [],
   "source": []
  },
  {
   "cell_type": "code",
   "execution_count": null,
   "metadata": {},
   "outputs": [],
   "source": []
  },
  {
   "cell_type": "code",
   "execution_count": null,
   "metadata": {},
   "outputs": [],
   "source": []
  },
  {
   "cell_type": "code",
   "execution_count": null,
   "metadata": {},
   "outputs": [],
   "source": []
  },
  {
   "cell_type": "code",
   "execution_count": null,
   "metadata": {},
   "outputs": [],
   "source": []
  },
  {
   "cell_type": "code",
   "execution_count": null,
   "metadata": {},
   "outputs": [],
   "source": []
  },
  {
   "cell_type": "code",
   "execution_count": null,
   "metadata": {},
   "outputs": [],
   "source": []
  },
  {
   "cell_type": "code",
   "execution_count": null,
   "metadata": {},
   "outputs": [],
   "source": []
  },
  {
   "cell_type": "code",
   "execution_count": null,
   "metadata": {},
   "outputs": [],
   "source": []
  },
  {
   "cell_type": "code",
   "execution_count": null,
   "metadata": {},
   "outputs": [],
   "source": []
  },
  {
   "cell_type": "code",
   "execution_count": null,
   "metadata": {},
   "outputs": [],
   "source": []
  },
  {
   "cell_type": "code",
   "execution_count": null,
   "metadata": {},
   "outputs": [],
   "source": []
  },
  {
   "cell_type": "code",
   "execution_count": null,
   "metadata": {},
   "outputs": [],
   "source": []
  },
  {
   "cell_type": "code",
   "execution_count": null,
   "metadata": {},
   "outputs": [],
   "source": []
  },
  {
   "cell_type": "code",
   "execution_count": null,
   "metadata": {},
   "outputs": [],
   "source": []
  },
  {
   "cell_type": "code",
   "execution_count": null,
   "metadata": {},
   "outputs": [],
   "source": []
  },
  {
   "cell_type": "code",
   "execution_count": null,
   "metadata": {},
   "outputs": [],
   "source": []
  },
  {
   "cell_type": "code",
   "execution_count": 7,
   "metadata": {},
   "outputs": [
    {
     "name": "stdout",
     "output_type": "stream",
     "text": [
      "Note: you may need to restart the kernel to use updated packages.\n",
      "Successfully removed mnist\n"
     ]
    },
    {
     "name": "stderr",
     "output_type": "stream",
     "text": [
      "WARNING: Skipping mnist as it is not installed.\n"
     ]
    }
   ],
   "source": [
    "# Since we will no longer need Mnist data, we can uninstall the package\n",
    "%pip uninstall mnist\n",
    "print(\"Successfully removed mnist\")"
   ]
  }
 ],
 "metadata": {
  "kernelspec": {
   "display_name": "Python 3.8.8 ('base')",
   "language": "python",
   "name": "python3"
  },
  "language_info": {
   "codemirror_mode": {
    "name": "ipython",
    "version": 3
   },
   "file_extension": ".py",
   "mimetype": "text/x-python",
   "name": "python",
   "nbconvert_exporter": "python",
   "pygments_lexer": "ipython3",
   "version": "3.8.8"
  },
  "orig_nbformat": 4,
  "vscode": {
   "interpreter": {
    "hash": "04b2e48da8715d0e03ed003238e610aa18fc3abec3b418b1e66df75f2c0e936e"
   }
  }
 },
 "nbformat": 4,
 "nbformat_minor": 2
}
