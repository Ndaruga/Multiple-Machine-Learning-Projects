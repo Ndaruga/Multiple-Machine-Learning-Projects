{
 "cells": [
  {
   "cell_type": "markdown",
   "metadata": {},
   "source": [
    "# Dimensionality reducion on MNIST digit data"
   ]
  },
  {
   "cell_type": "code",
   "execution_count": null,
   "metadata": {},
   "outputs": [],
   "source": []
  },
  {
   "cell_type": "code",
   "execution_count": 1,
   "metadata": {},
   "outputs": [],
   "source": [
    "# %pip install python-mnist\n",
    "%matplotlib inline\n",
    "\n",
    "import time\n",
    "import sys\n",
    "import tensorflow as tf\n",
    "from keras.datasets import mnist\n",
    "from sklearn.datasets import fetch_openml\n",
    "from sklearn.preprocessing import OneHotEncoder\n",
    "import matplotlib.pyplot as plt\n",
    "import numpy as np\n",
    "import pandas as pd\n",
    "import seaborn as sns\n",
    "from sklearn.manifold import TSNE\n",
    "\n",
    "import warnings\n",
    "warnings.filterwarnings(action='ignore', category=FutureWarning)\n"
   ]
  },
  {
   "cell_type": "code",
   "execution_count": 2,
   "metadata": {},
   "outputs": [
    {
     "name": "stdout",
     "output_type": "stream",
     "text": [
      "Train data\n",
      "X Train: (60000, 28, 28)\n",
      "y train: (60000,)\n",
      "****************************************************************************************************\n",
      "Test data\n",
      "X Test: (10000, 28, 28)\n",
      "Y Text: (10000,)\n"
     ]
    }
   ],
   "source": [
    "# Load the data\n",
    "\n",
    "(X_train,y_train),(X_test,y_test) = mnist.load_data()\n",
    "print(\"Train data\")\n",
    "print(f\"X Train: {X_train.shape}\")\n",
    "print(f\"y train: {y_train.shape}\")\n",
    "print(\"*\"*100)\n",
    "print(\"Test data\")\n",
    "print(f\"X Test: {X_test.shape}\")\n",
    "print(f\"Y Text: {y_test.shape}\")\n"
   ]
  },
  {
   "cell_type": "markdown",
   "metadata": {},
   "source": [
    "From the data above, we can already tell a few things\n",
    "<li>The Train and test data has 60000 and 10000 images respectively</li>\n",
    "<li>The images have a dimention of 28 by 28 pixels</li>"
   ]
  },
  {
   "cell_type": "markdown",
   "metadata": {},
   "source": [
    "#### join the datasets"
   ]
  },
  {
   "cell_type": "code",
   "execution_count": 3,
   "metadata": {},
   "outputs": [
    {
     "name": "stdout",
     "output_type": "stream",
     "text": [
      "X data: (70000, 28, 28) \n",
      "Y data: (70000,) \n"
     ]
    }
   ],
   "source": [
    "X_data = np.vstack((X_train, X_test))\n",
    "print(\"X data: {} \".format(X_data.shape))\n",
    "\n",
    "Y_data = np.hstack((y_train, y_test))\n",
    "print(\"Y data: {} \".format(Y_data.shape))"
   ]
  },
  {
   "cell_type": "code",
   "execution_count": 4,
   "metadata": {},
   "outputs": [
    {
     "name": "stdout",
     "output_type": "stream",
     "text": [
      "<class 'numpy.ndarray'>\n"
     ]
    }
   ],
   "source": [
    "print(type(Y_data))"
   ]
  },
  {
   "cell_type": "markdown",
   "metadata": {},
   "source": [
    "We have numpy arrays of X_data and Y_data"
   ]
  },
  {
   "cell_type": "markdown",
   "metadata": {},
   "source": [
    "### Plotting the images"
   ]
  },
  {
   "cell_type": "code",
   "execution_count": 5,
   "metadata": {},
   "outputs": [
    {
     "data": {
      "image/png": "[encoded data removed]",
      "text/plain": [
       "<Figure size 288x288 with 1 Axes>"
      ]
     },
     "metadata": {
      "needs_background": "light"
     },
     "output_type": "display_data"
    }
   ],
   "source": [
    "# Plot the first image on the data without alteing the colour\n",
    "\n",
    "fig = plt.figure(figsize=(4,4))\n",
    "\n",
    "plt.title(\"Image 1\")\n",
    "plt.imshow(X_data[0])\n",
    "plt.show()\n",
    "\n",
    "# display(X_train)"
   ]
  },
  {
   "cell_type": "markdown",
   "metadata": {},
   "source": [
    "The above images show that the digit images are in <strong>RGB colour channels</strong> and we need to turn them into grayscale\n",
    "<br>\n"
   ]
  },
  {
   "cell_type": "code",
   "execution_count": 7,
   "metadata": {},
   "outputs": [
    {
     "data": {
      "image/png": "[encoded data removed]",
      "text/plain": [
       "<Figure size 1152x360 with 14 Axes>"
      ]
     },
     "metadata": {
      "needs_background": "light"
     },
     "output_type": "display_data"
    }
   ],
   "source": [
    "#  We can go further to plot the first few images\n",
    "\n",
    "images = X_data[0:14]\n",
    "labels = Y_data[0:14]\n",
    "fig,axes = plt.subplots(2,7, figsize = (16,5))\n",
    "\n",
    "for img in range(14):\n",
    "    ax = axes[img//7, img%7]\n",
    "    ax.imshow(images[img], cmap=plt.cm.binary) # we show the digits in a binary colour\n",
    "    ax.set_title(\"Label: {}\".format(labels[img]))\n",
    "plt.tight_layout\n",
    "plt.show()"
   ]
  },
  {
   "cell_type": "code",
   "execution_count": null,
   "metadata": {
    "scrolled": true
   },
   "outputs": [],
   "source": [
    "# Lets see how the colour digits are distributed on the first image on the data.\n",
    "for i in X_data[1]:\n",
    "    print(i.tolist())"
   ]
  },
  {
   "cell_type": "markdown",
   "metadata": {},
   "source": [
    "We can clearly seee that this is number 0"
   ]
  },
  {
   "cell_type": "markdown",
   "metadata": {},
   "source": [
    "### Reashaping"
   ]
  },
  {
   "cell_type": "markdown",
   "metadata": {},
   "source": [
    "Since we are interesed in dimentionality reduction, <br>we will need to reshape the data arrays into a <strong>single colour channel</strong>"
   ]
  },
  {
   "cell_type": "code",
   "execution_count": null,
   "metadata": {},
   "outputs": [],
   "source": [
    "# Reshape the X_train and X_test\n",
    "\n",
    "display(X_data.shape)\n",
    "X_data = X_data.reshape((X_data.shape[0], 28,28,-1))\n",
    "\n",
    "\n",
    "print(f\"After reshaping, X_data dim: {X_data.shape}\")"
   ]
  },
  {
   "cell_type": "markdown",
   "metadata": {},
   "source": [
    "#### Transforming the data into High dimention\n",
    "<li>Part 1: Use the 10 categories and see the result</li>\n",
    "<li>Part 2: Use the 784 fratures <strong>28 X 28 </strong> and see the result</li>"
   ]
  },
  {
   "cell_type": "markdown",
   "metadata": {},
   "source": []
  },
  {
   "cell_type": "markdown",
   "metadata": {},
   "source": [
    "### Part 1: Using the 10 categorical digits"
   ]
  },
  {
   "cell_type": "code",
   "execution_count": null,
   "metadata": {},
   "outputs": [],
   "source": [
    "# One hot encodding and representation\n",
    "lr = np.arange(10)\n",
    "\n",
    "for label in range(10):\n",
    "    one_hot = (lr==label).astype(np.int)\n",
    "    print(\"label: \", label, \" in one-hot representation: \", one_hot)\n",
    "    \n",
    "print('*'*100)\n"
   ]
  },
  {
   "cell_type": "code",
   "execution_count": null,
   "metadata": {},
   "outputs": [],
   "source": [
    "# Onehot encodding\n",
    "encodded_data = pd.get_dummies(Y_data)\n",
    "print(encodded_data)"
   ]
  },
  {
   "cell_type": "markdown",
   "metadata": {},
   "source": [
    "From the results above we can see that the encoded data shape after one hot encoding we get 10 categories. <br>\n",
    "This is because the digits range from 0 -9 which are 10 10 categories"
   ]
  },
  {
   "cell_type": "code",
   "execution_count": null,
   "metadata": {},
   "outputs": [],
   "source": [
    "print(Y_data)\n",
    "print('-'*20)\n",
    "print(len(Y_data))"
   ]
  },
  {
   "cell_type": "code",
   "execution_count": null,
   "metadata": {},
   "outputs": [],
   "source": [
    "# converting the y_data numpy array to a pandas dataframe with column label\n",
    "\n",
    "Y_df = pd.DataFrame(Y_data, columns=['labels'])\n",
    "Y_df"
   ]
  },
  {
   "cell_type": "code",
   "execution_count": null,
   "metadata": {},
   "outputs": [],
   "source": []
  },
  {
   "cell_type": "markdown",
   "metadata": {},
   "source": [
    "## Visualizaton using t-SNE\n",
    "\n",
    "T-Dristribted Stochastic Neighbour Embedding (t-SNE) is a non linear dimentionality reduction techique that well suits vizualization of high dimension data especially on a 2D plot using conditional probalbility.<br>\n",
    "t-SNE uses Gausian distribution"
   ]
  },
  {
   "cell_type": "markdown",
   "metadata": {},
   "source": [
    "#### Converng data into a pandas dataframe for easier handling"
   ]
  },
  {
   "cell_type": "code",
   "execution_count": null,
   "metadata": {},
   "outputs": [],
   "source": [
    "# converting the one hot encoded data into a data frame and the concating labels \n",
    "\n",
    "enc_df = pd.DataFrame(encodded_data)\n",
    "train_df = pd.concat([enc_df, Y_df], axis=1)\n",
    "train_df.head()\n",
    "\n",
    "# print('-'*100)\n",
    "# display(train_df.value_counts())"
   ]
  },
  {
   "cell_type": "code",
   "execution_count": null,
   "metadata": {},
   "outputs": [],
   "source": [
    "# Function to compute t-SNE \n",
    "\n",
    "# def tSNE(dataframe):\n",
    "start_time = time.time()\n",
    "tsne = TSNE(n_components = 2, verbose=0, learning_rate=200, n_iter=500)\n",
    "tsne_result = tsne.fit_transform(X=enc_df)\n",
    "end_time = time.time()\n",
    "print(\"Learning completed in {} seconds\".format(end_time - start_time))\n",
    "\n",
    "    # return tsne_result\n"
   ]
  },
  {
   "cell_type": "code",
   "execution_count": null,
   "metadata": {},
   "outputs": [],
   "source": [
    "tsne_df1 = pd.DataFrame({\"t-SNE 1\":tsne_result[:,0], \"t-SNE 2\":tsne_result[:,1], \"label\":Y_df['labels']})\n",
    "tsne_df1.head()"
   ]
  },
  {
   "cell_type": "code",
   "execution_count": null,
   "metadata": {},
   "outputs": [],
   "source": [
    "# Plotting the tsne data\n",
    "\n",
    "fig, ax = plt.subplots(1, figsize=(15,10))\n",
    "sns.scatterplot(x = 't-SNE 1', y= 't-SNE 2', hue = 'label', data = tsne_df1, ax = ax, s=20)\n",
    "sns.color_palette(\"hls\", 10)\n",
    "lim = (tsne_result.min()-5, tsne_result.max()+5)\n",
    "ax.set_xlim(lim)\n",
    "ax.set_ylim(lim)\n",
    "ax.set_aspect('equal')\n",
    "ax.set_title('Part 1: t-SNE Visualization', fontsize = 16, weight = 'bold')\n",
    "ax.legend(bbox_to_anchor = (1,1), loc =2, borderaxespad = 0.0)"
   ]
  },
  {
   "cell_type": "markdown",
   "metadata": {},
   "source": [
    "### Part 2: Use the 784 features"
   ]
  },
  {
   "cell_type": "code",
   "execution_count": null,
   "metadata": {},
   "outputs": [],
   "source": [
    "X,y = fetch_openml(\"mnist_784\", version=1, return_X_y=True, as_frame=True)\n",
    "X = X/255.0"
   ]
  },
  {
   "cell_type": "code",
   "execution_count": null,
   "metadata": {},
   "outputs": [],
   "source": [
    "print(X.shape)\n",
    "print('='*50)\n",
    "print(y.shape)\n",
    "\n",
    "print(type(X))"
   ]
  },
  {
   "cell_type": "code",
   "execution_count": null,
   "metadata": {},
   "outputs": [],
   "source": [
    "cols = [str(col) for col in range(X.shape[1])]\n",
    "\n",
    "df2_X = pd.DataFrame(X, columns = cols).replace(np.NaN, 0)\n",
    "# df2_X = df2_X.replace(np.NaN, 0) #Replace the nan values with 0\n",
    "df2_X.tail()\n",
    "\n"
   ]
  },
  {
   "cell_type": "code",
   "execution_count": null,
   "metadata": {},
   "outputs": [],
   "source": [
    "\n",
    "start_time = time.time()\n",
    "tsne = TSNE(n_components = 2, verbose=1, learning_rate=200, n_iter=500)\n",
    "tsne_result2 = tsne.fit_transform(df2_X)\n",
    "end_time = time.time()\n",
    "print(\"Learning completed in {} seconds\".format(end_time - start_time))"
   ]
  },
  {
   "cell_type": "code",
   "execution_count": null,
   "metadata": {},
   "outputs": [],
   "source": [
    "display(tsne_result)"
   ]
  },
  {
   "cell_type": "code",
   "execution_count": null,
   "metadata": {},
   "outputs": [],
   "source": [
    "tsne_df2 = pd.DataFrame({\"t-SNE 1\":tsne_result2[:,0], \"t-SNE 2\":tsne_result2[:,1], \"label\":Y_df['labels']})\n",
    "fig, ax = plt.subplots(1, figsize=(15,10))\n",
    "sns.scatterplot(x = 't-SNE 1', y= 't-SNE 2', hue = 'label', data = tsne_df2, ax = ax, s=20)\n",
    "lim = (tsne_result2.min()-5, tsne_result2.max()+5)\n",
    "ax.set_xlim(lim)\n",
    "ax.set_ylim(lim)\n",
    "ax.set_aspect('equal')\n",
    "ax.set_title('Part 2: t-SNE Visualization with 784 features', fontsize = 16, weight = 'bold')\n",
    "ax.legend(bbox_to_anchor = (1,1), loc =2, borderaxespad = 0.0)"
   ]
  },
  {
   "cell_type": "code",
   "execution_count": null,
   "metadata": {},
   "outputs": [],
   "source": []
  },
  {
   "cell_type": "code",
   "execution_count": null,
   "metadata": {},
   "outputs": [],
   "source": []
  },
  {
   "cell_type": "code",
   "execution_count": null,
   "metadata": {},
   "outputs": [],
   "source": []
  },
  {
   "cell_type": "code",
   "execution_count": null,
   "metadata": {},
   "outputs": [],
   "source": []
  },
  {
   "cell_type": "code",
   "execution_count": null,
   "metadata": {},
   "outputs": [],
   "source": []
  },
  {
   "cell_type": "code",
   "execution_count": null,
   "metadata": {},
   "outputs": [],
   "source": []
  },
  {
   "cell_type": "code",
   "execution_count": null,
   "metadata": {},
   "outputs": [],
   "source": []
  },
  {
   "cell_type": "code",
   "execution_count": null,
   "metadata": {},
   "outputs": [],
   "source": []
  },
  {
   "cell_type": "code",
   "execution_count": null,
   "metadata": {},
   "outputs": [],
   "source": [
    "# Since we will no longer need Mnist data, we can uninstall the package\n",
    "%pip uninstall mnist\n",
    "print(\"Successfully removed mnist\")"
   ]
  }
 ],
 "metadata": {
  "kernelspec": {
   "display_name": "Python 3",
   "language": "python",
   "name": "python3"
  },
  "language_info": {
   "codemirror_mode": {
    "name": "ipython",
    "version": 3
   },
   "file_extension": ".py",
   "mimetype": "text/x-python",
   "name": "python",
   "nbconvert_exporter": "python",
   "pygments_lexer": "ipython3",
   "version": "3.8.8"
  },
  "vscode": {
   "interpreter": {
    "hash": "04b2e48da8715d0e03ed003238e610aa18fc3abec3b418b1e66df75f2c0e936e"
   }
  }
 },
 "nbformat": 4,
 "nbformat_minor": 2
}
