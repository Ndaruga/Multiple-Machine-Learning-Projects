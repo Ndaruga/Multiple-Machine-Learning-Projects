{
 "cells": [
  {
   "cell_type": "markdown",
   "metadata": {},
   "source": [
    "# Dimensionality reducion on MNIST digit data"
   ]
  },
  {
   "cell_type": "code",
   "execution_count": null,
   "metadata": {},
   "outputs": [],
   "source": []
  },
  {
   "cell_type": "code",
   "execution_count": 1,
   "metadata": {},
   "outputs": [],
   "source": [
    "# %pip install python-mnist\n",
    "%matplotlib inline\n",
    "\n",
    "import time\n",
    "import sys\n",
    "import tensorflow as tf\n",
    "from keras.datasets import mnist\n",
    "from sklearn.datasets import fetch_openml\n",
    "from keras.utils import to_categorical\n",
    "import matplotlib.pyplot as plt\n",
    "import numpy as np\n",
    "import pandas as pd\n",
    "import seaborn as sns\n",
    "from sklearn.manifold import TSNE\n",
    "\n",
    "import warnings\n",
    "warnings.filterwarnings(action='ignore', category=FutureWarning)\n"
   ]
  },
  {
   "cell_type": "code",
   "execution_count": 2,
   "metadata": {},
   "outputs": [
    {
     "name": "stdout",
     "output_type": "stream",
     "text": [
      "Train data\n",
      "X Train: (60000, 28, 28)\n",
      "y train: (60000,)\n",
      "****************************************************************************************************\n",
      "Test data\n",
      "X Test: (10000, 28, 28)\n",
      "Y Text: (10000,)\n"
     ]
    }
   ],
   "source": [
    "# Load the data\n",
    "\n",
    "(X_train,y_train),(X_test,y_test) = mnist.load_data()\n",
    "print(\"Train data\")\n",
    "print(f\"X Train: {X_train.shape}\")\n",
    "print(f\"y train: {y_train.shape}\")\n",
    "print(\"*\"*100)\n",
    "print(\"Test data\")\n",
    "print(f\"X Test: {X_test.shape}\")\n",
    "print(f\"Y Text: {y_test.shape}\")\n"
   ]
  },
  {
   "cell_type": "markdown",
   "metadata": {},
   "source": [
    "From the data above, we can already tell a few things\n",
    "<li>The Train and test data has 60000 and 10000 images respectively</li>\n",
    "<li>The images have a dimention of 28 by 28 pixels</li>"
   ]
  },
  {
   "cell_type": "markdown",
   "metadata": {},
   "source": [
    "#### join the datasets"
   ]
  },
  {
   "cell_type": "code",
   "execution_count": 3,
   "metadata": {},
   "outputs": [
    {
     "name": "stdout",
     "output_type": "stream",
     "text": [
      "X data: (70000, 28, 28) \n",
      "Y data: (70000,) \n"
     ]
    }
   ],
   "source": [
    "X_data = np.vstack((X_train, X_test))\n",
    "print(\"X data: {} \".format(X_data.shape))\n",
    "\n",
    "Y_data = np.hstack((y_train, y_test))\n",
    "print(\"Y data: {} \".format(Y_data.shape))"
   ]
  },
  {
   "cell_type": "markdown",
   "metadata": {},
   "source": [
    "We have numpy arrays of X_data and Y_data"
   ]
  },
  {
   "cell_type": "markdown",
   "metadata": {},
   "source": [
    "### Plotting the images"
   ]
  },
  {
   "cell_type": "code",
   "execution_count": 4,
   "metadata": {},
   "outputs": [
    {
     "data": {
      "image/png": "[encoded data removed]",
      "text/plain": [
       "<Figure size 288x288 with 1 Axes>"
      ]
     },
     "metadata": {
      "needs_background": "light"
     },
     "output_type": "display_data"
    }
   ],
   "source": [
    "# Plot the first image on the data without alteing the colour\n",
    "\n",
    "fig = plt.figure(figsize=(4,4))\n",
    "\n",
    "plt.title(\"Image 1\")\n",
    "plt.imshow(X_data[0])\n",
    "plt.show()\n",
    "\n",
    "# display(X_train)"
   ]
  },
  {
   "cell_type": "markdown",
   "metadata": {},
   "source": [
    "The above images show that the digit images are in <strong>RGB colour channels</strong> and we need to turn them into grayscale\n",
    "<br>\n"
   ]
  },
  {
   "cell_type": "code",
   "execution_count": 5,
   "metadata": {},
   "outputs": [
    {
     "data": {
      "image/png": "[encoded data removed]",
      "text/plain": [
       "<Figure size 720x576 with 8 Axes>"
      ]
     },
     "metadata": {
      "needs_background": "light"
     },
     "output_type": "display_data"
    }
   ],
   "source": [
    "#  We can go further to plot the first few images\n",
    "fig = plt.figure(figsize = (10,8))\n",
    "\n",
    "for imgs in range(8):\n",
    "    fig.add_subplot(340 + 1 + imgs)\n",
    "    plt.imshow(X_data[imgs], cmap=plt.cm.binary) # we show the digits in a binary colour\n",
    "    plt.tight_layout\n",
    "plt.show()"
   ]
  },
  {
   "cell_type": "code",
   "execution_count": 6,
   "metadata": {
    "scrolled": true
   },
   "outputs": [
    {
     "name": "stdout",
     "output_type": "stream",
     "text": [
      "[0, 0, 0, 0, 0, 0, 0, 0, 0, 0, 0, 0, 0, 0, 0, 0, 0, 0, 0, 0, 0, 0, 0, 0, 0, 0, 0, 0]\n",
      "[0, 0, 0, 0, 0, 0, 0, 0, 0, 0, 0, 0, 0, 0, 0, 0, 0, 0, 0, 0, 0, 0, 0, 0, 0, 0, 0, 0]\n",
      "[0, 0, 0, 0, 0, 0, 0, 0, 0, 0, 0, 0, 0, 0, 0, 0, 0, 0, 0, 0, 0, 0, 0, 0, 0, 0, 0, 0]\n",
      "[0, 0, 0, 0, 0, 0, 0, 0, 0, 0, 0, 0, 0, 0, 0, 0, 0, 0, 0, 0, 0, 0, 0, 0, 0, 0, 0, 0]\n",
      "[0, 0, 0, 0, 0, 0, 0, 0, 0, 0, 0, 0, 0, 0, 0, 0, 0, 0, 0, 0, 0, 0, 0, 0, 0, 0, 0, 0]\n",
      "[0, 0, 0, 0, 0, 0, 0, 0, 0, 0, 0, 0, 3, 18, 18, 18, 126, 136, 175, 26, 166, 255, 247, 127, 0, 0, 0, 0]\n",
      "[0, 0, 0, 0, 0, 0, 0, 0, 30, 36, 94, 154, 170, 253, 253, 253, 253, 253, 225, 172, 253, 242, 195, 64, 0, 0, 0, 0]\n",
      "[0, 0, 0, 0, 0, 0, 0, 49, 238, 253, 253, 253, 253, 253, 253, 253, 253, 251, 93, 82, 82, 56, 39, 0, 0, 0, 0, 0]\n",
      "[0, 0, 0, 0, 0, 0, 0, 18, 219, 253, 253, 253, 253, 253, 198, 182, 247, 241, 0, 0, 0, 0, 0, 0, 0, 0, 0, 0]\n",
      "[0, 0, 0, 0, 0, 0, 0, 0, 80, 156, 107, 253, 253, 205, 11, 0, 43, 154, 0, 0, 0, 0, 0, 0, 0, 0, 0, 0]\n",
      "[0, 0, 0, 0, 0, 0, 0, 0, 0, 14, 1, 154, 253, 90, 0, 0, 0, 0, 0, 0, 0, 0, 0, 0, 0, 0, 0, 0]\n",
      "[0, 0, 0, 0, 0, 0, 0, 0, 0, 0, 0, 139, 253, 190, 2, 0, 0, 0, 0, 0, 0, 0, 0, 0, 0, 0, 0, 0]\n",
      "[0, 0, 0, 0, 0, 0, 0, 0, 0, 0, 0, 11, 190, 253, 70, 0, 0, 0, 0, 0, 0, 0, 0, 0, 0, 0, 0, 0]\n",
      "[0, 0, 0, 0, 0, 0, 0, 0, 0, 0, 0, 0, 35, 241, 225, 160, 108, 1, 0, 0, 0, 0, 0, 0, 0, 0, 0, 0]\n",
      "[0, 0, 0, 0, 0, 0, 0, 0, 0, 0, 0, 0, 0, 81, 240, 253, 253, 119, 25, 0, 0, 0, 0, 0, 0, 0, 0, 0]\n",
      "[0, 0, 0, 0, 0, 0, 0, 0, 0, 0, 0, 0, 0, 0, 45, 186, 253, 253, 150, 27, 0, 0, 0, 0, 0, 0, 0, 0]\n",
      "[0, 0, 0, 0, 0, 0, 0, 0, 0, 0, 0, 0, 0, 0, 0, 16, 93, 252, 253, 187, 0, 0, 0, 0, 0, 0, 0, 0]\n",
      "[0, 0, 0, 0, 0, 0, 0, 0, 0, 0, 0, 0, 0, 0, 0, 0, 0, 249, 253, 249, 64, 0, 0, 0, 0, 0, 0, 0]\n",
      "[0, 0, 0, 0, 0, 0, 0, 0, 0, 0, 0, 0, 0, 0, 46, 130, 183, 253, 253, 207, 2, 0, 0, 0, 0, 0, 0, 0]\n",
      "[0, 0, 0, 0, 0, 0, 0, 0, 0, 0, 0, 0, 39, 148, 229, 253, 253, 253, 250, 182, 0, 0, 0, 0, 0, 0, 0, 0]\n",
      "[0, 0, 0, 0, 0, 0, 0, 0, 0, 0, 24, 114, 221, 253, 253, 253, 253, 201, 78, 0, 0, 0, 0, 0, 0, 0, 0, 0]\n",
      "[0, 0, 0, 0, 0, 0, 0, 0, 23, 66, 213, 253, 253, 253, 253, 198, 81, 2, 0, 0, 0, 0, 0, 0, 0, 0, 0, 0]\n",
      "[0, 0, 0, 0, 0, 0, 18, 171, 219, 253, 253, 253, 253, 195, 80, 9, 0, 0, 0, 0, 0, 0, 0, 0, 0, 0, 0, 0]\n",
      "[0, 0, 0, 0, 55, 172, 226, 253, 253, 253, 253, 244, 133, 11, 0, 0, 0, 0, 0, 0, 0, 0, 0, 0, 0, 0, 0, 0]\n",
      "[0, 0, 0, 0, 136, 253, 253, 253, 212, 135, 132, 16, 0, 0, 0, 0, 0, 0, 0, 0, 0, 0, 0, 0, 0, 0, 0, 0]\n",
      "[0, 0, 0, 0, 0, 0, 0, 0, 0, 0, 0, 0, 0, 0, 0, 0, 0, 0, 0, 0, 0, 0, 0, 0, 0, 0, 0, 0]\n",
      "[0, 0, 0, 0, 0, 0, 0, 0, 0, 0, 0, 0, 0, 0, 0, 0, 0, 0, 0, 0, 0, 0, 0, 0, 0, 0, 0, 0]\n",
      "[0, 0, 0, 0, 0, 0, 0, 0, 0, 0, 0, 0, 0, 0, 0, 0, 0, 0, 0, 0, 0, 0, 0, 0, 0, 0, 0, 0]\n"
     ]
    }
   ],
   "source": [
    "# Lets see how the colour digits are distributed on the first image on the data.\n",
    "for i in X_data[0]:\n",
    "    print(i.tolist())"
   ]
  },
  {
   "cell_type": "markdown",
   "metadata": {},
   "source": [
    "We can clearly seee that this is number 5"
   ]
  },
  {
   "cell_type": "markdown",
   "metadata": {},
   "source": [
    "### Reashaping"
   ]
  },
  {
   "cell_type": "markdown",
   "metadata": {},
   "source": [
    "Since we are interesed in dimentionality reduction, <br>we will need to reshape the data arrays into a <strong>single colour channel</strong>"
   ]
  },
  {
   "cell_type": "code",
   "execution_count": 14,
   "metadata": {},
   "outputs": [
    {
     "data": {
      "text/plain": [
       "(70000, 28, 28)"
      ]
     },
     "metadata": {},
     "output_type": "display_data"
    },
    {
     "name": "stdout",
     "output_type": "stream",
     "text": [
      "After reshaping, X_data dim: (70000, 28, 28, 1)\n"
     ]
    }
   ],
   "source": [
    "# Reshape the X_train and X_test\n",
    "\n",
    "display(X_data.shape)\n",
    "X_data = X_data.reshape((X_data.shape[0], 28,28,-1))\n",
    "\n",
    "\n",
    "print(f\"After reshaping, X_data dim: {X_data.shape}\")"
   ]
  },
  {
   "cell_type": "code",
   "execution_count": 16,
   "metadata": {},
   "outputs": [
    {
     "name": "stdout",
     "output_type": "stream",
     "text": [
      "[[[[0. 1.]\n",
      "   [1. 0.]]\n",
      "\n",
      "  [[0. 1.]\n",
      "   [1. 0.]]\n",
      "\n",
      "  [[0. 1.]\n",
      "   [1. 0.]]\n",
      "\n",
      "  ...\n",
      "\n",
      "  [[0. 1.]\n",
      "   [1. 0.]]\n",
      "\n",
      "  [[0. 1.]\n",
      "   [1. 0.]]\n",
      "\n",
      "  [[0. 1.]\n",
      "   [1. 0.]]]\n",
      "\n",
      "\n",
      " [[[1. 0.]\n",
      "   [0. 1.]]\n",
      "\n",
      "  [[0. 1.]\n",
      "   [1. 0.]]\n",
      "\n",
      "  [[0. 1.]\n",
      "   [1. 0.]]\n",
      "\n",
      "  ...\n",
      "\n",
      "  [[0. 1.]\n",
      "   [1. 0.]]\n",
      "\n",
      "  [[0. 1.]\n",
      "   [1. 0.]]\n",
      "\n",
      "  [[0. 1.]\n",
      "   [1. 0.]]]\n",
      "\n",
      "\n",
      " [[[0. 1.]\n",
      "   [1. 0.]]\n",
      "\n",
      "  [[0. 1.]\n",
      "   [1. 0.]]\n",
      "\n",
      "  [[0. 1.]\n",
      "   [1. 0.]]\n",
      "\n",
      "  ...\n",
      "\n",
      "  [[0. 1.]\n",
      "   [1. 0.]]\n",
      "\n",
      "  [[0. 1.]\n",
      "   [1. 0.]]\n",
      "\n",
      "  [[0. 1.]\n",
      "   [1. 0.]]]\n",
      "\n",
      "\n",
      " ...\n",
      "\n",
      "\n",
      " [[[0. 1.]\n",
      "   [1. 0.]]\n",
      "\n",
      "  [[0. 1.]\n",
      "   [1. 0.]]\n",
      "\n",
      "  [[0. 1.]\n",
      "   [1. 0.]]\n",
      "\n",
      "  ...\n",
      "\n",
      "  [[0. 1.]\n",
      "   [1. 0.]]\n",
      "\n",
      "  [[0. 1.]\n",
      "   [1. 0.]]\n",
      "\n",
      "  [[0. 1.]\n",
      "   [1. 0.]]]\n",
      "\n",
      "\n",
      " [[[0. 1.]\n",
      "   [1. 0.]]\n",
      "\n",
      "  [[0. 1.]\n",
      "   [1. 0.]]\n",
      "\n",
      "  [[0. 1.]\n",
      "   [1. 0.]]\n",
      "\n",
      "  ...\n",
      "\n",
      "  [[0. 1.]\n",
      "   [1. 0.]]\n",
      "\n",
      "  [[0. 1.]\n",
      "   [1. 0.]]\n",
      "\n",
      "  [[0. 1.]\n",
      "   [1. 0.]]]\n",
      "\n",
      "\n",
      " [[[0. 1.]\n",
      "   [1. 0.]]\n",
      "\n",
      "  [[0. 1.]\n",
      "   [1. 0.]]\n",
      "\n",
      "  [[0. 1.]\n",
      "   [1. 0.]]\n",
      "\n",
      "  ...\n",
      "\n",
      "  [[0. 1.]\n",
      "   [1. 0.]]\n",
      "\n",
      "  [[0. 1.]\n",
      "   [1. 0.]]\n",
      "\n",
      "  [[0. 1.]\n",
      "   [1. 0.]]]]\n"
     ]
    }
   ],
   "source": [
    "# label\n",
    "print(X_data)"
   ]
  },
  {
   "cell_type": "markdown",
   "metadata": {},
   "source": [
    "#### Transforming the data into High dimention\n",
    "<li>Part 1: Use the 10 categories and see the result</li>\n",
    "<li>Part 2: Use the 784 fratures <strong>28 X 28 </strong> and see the result</li>"
   ]
  },
  {
   "cell_type": "markdown",
   "metadata": {},
   "source": []
  },
  {
   "cell_type": "markdown",
   "metadata": {},
   "source": [
    "### Part 1: Using the 10 categorical digits"
   ]
  },
  {
   "cell_type": "code",
   "execution_count": 9,
   "metadata": {},
   "outputs": [
    {
     "name": "stdout",
     "output_type": "stream",
     "text": [
      "label:  0  in one-hot representation:  [1 0 0 0 0 0 0 0 0 0]\n",
      "label:  1  in one-hot representation:  [0 1 0 0 0 0 0 0 0 0]\n",
      "label:  2  in one-hot representation:  [0 0 1 0 0 0 0 0 0 0]\n",
      "label:  3  in one-hot representation:  [0 0 0 1 0 0 0 0 0 0]\n",
      "label:  4  in one-hot representation:  [0 0 0 0 1 0 0 0 0 0]\n",
      "label:  5  in one-hot representation:  [0 0 0 0 0 1 0 0 0 0]\n",
      "label:  6  in one-hot representation:  [0 0 0 0 0 0 1 0 0 0]\n",
      "label:  7  in one-hot representation:  [0 0 0 0 0 0 0 1 0 0]\n",
      "label:  8  in one-hot representation:  [0 0 0 0 0 0 0 0 1 0]\n",
      "label:  9  in one-hot representation:  [0 0 0 0 0 0 0 0 0 1]\n",
      "****************************************************************************************************\n"
     ]
    },
    {
     "name": "stderr",
     "output_type": "stream",
     "text": [
      "<ipython-input-9-d9ac401d42f1>:5: DeprecationWarning: `np.int` is a deprecated alias for the builtin `int`. To silence this warning, use `int` by itself. Doing this will not modify any behavior and is safe. When replacing `np.int`, you may wish to use e.g. `np.int64` or `np.int32` to specify the precision. If you wish to review your current use, check the release note link for additional information.\n",
      "Deprecated in NumPy 1.20; for more details and guidance: https://numpy.org/devdocs/release/1.20.0-notes.html#deprecations\n",
      "  one_hot = (lr==label).astype(np.int)\n"
     ]
    }
   ],
   "source": [
    "# One hot encodding and representation\n",
    "lr = np.arange(10)\n",
    "\n",
    "for label in range(10):\n",
    "    one_hot = (lr==label).astype(np.int)\n",
    "    print(\"label: \", label, \" in one-hot representation: \", one_hot)\n",
    "    \n",
    "print('*'*100)\n"
   ]
  },
  {
   "cell_type": "code",
   "execution_count": 13,
   "metadata": {},
   "outputs": [
    {
     "name": "stdout",
     "output_type": "stream",
     "text": [
      "[[[[0. 1.]\n",
      "   [1. 0.]]\n",
      "\n",
      "  [[0. 1.]\n",
      "   [1. 0.]]\n",
      "\n",
      "  [[0. 1.]\n",
      "   [1. 0.]]\n",
      "\n",
      "  ...\n",
      "\n",
      "  [[0. 1.]\n",
      "   [1. 0.]]\n",
      "\n",
      "  [[0. 1.]\n",
      "   [1. 0.]]\n",
      "\n",
      "  [[0. 1.]\n",
      "   [1. 0.]]]\n",
      "\n",
      "\n",
      " [[[1. 0.]\n",
      "   [0. 1.]]\n",
      "\n",
      "  [[0. 1.]\n",
      "   [1. 0.]]\n",
      "\n",
      "  [[0. 1.]\n",
      "   [1. 0.]]\n",
      "\n",
      "  ...\n",
      "\n",
      "  [[0. 1.]\n",
      "   [1. 0.]]\n",
      "\n",
      "  [[0. 1.]\n",
      "   [1. 0.]]\n",
      "\n",
      "  [[0. 1.]\n",
      "   [1. 0.]]]\n",
      "\n",
      "\n",
      " [[[0. 1.]\n",
      "   [1. 0.]]\n",
      "\n",
      "  [[0. 1.]\n",
      "   [1. 0.]]\n",
      "\n",
      "  [[0. 1.]\n",
      "   [1. 0.]]\n",
      "\n",
      "  ...\n",
      "\n",
      "  [[0. 1.]\n",
      "   [1. 0.]]\n",
      "\n",
      "  [[0. 1.]\n",
      "   [1. 0.]]\n",
      "\n",
      "  [[0. 1.]\n",
      "   [1. 0.]]]\n",
      "\n",
      "\n",
      " ...\n",
      "\n",
      "\n",
      " [[[0. 1.]\n",
      "   [1. 0.]]\n",
      "\n",
      "  [[0. 1.]\n",
      "   [1. 0.]]\n",
      "\n",
      "  [[0. 1.]\n",
      "   [1. 0.]]\n",
      "\n",
      "  ...\n",
      "\n",
      "  [[0. 1.]\n",
      "   [1. 0.]]\n",
      "\n",
      "  [[0. 1.]\n",
      "   [1. 0.]]\n",
      "\n",
      "  [[0. 1.]\n",
      "   [1. 0.]]]\n",
      "\n",
      "\n",
      " [[[0. 1.]\n",
      "   [1. 0.]]\n",
      "\n",
      "  [[0. 1.]\n",
      "   [1. 0.]]\n",
      "\n",
      "  [[0. 1.]\n",
      "   [1. 0.]]\n",
      "\n",
      "  ...\n",
      "\n",
      "  [[0. 1.]\n",
      "   [1. 0.]]\n",
      "\n",
      "  [[0. 1.]\n",
      "   [1. 0.]]\n",
      "\n",
      "  [[0. 1.]\n",
      "   [1. 0.]]]\n",
      "\n",
      "\n",
      " [[[0. 1.]\n",
      "   [1. 0.]]\n",
      "\n",
      "  [[0. 1.]\n",
      "   [1. 0.]]\n",
      "\n",
      "  [[0. 1.]\n",
      "   [1. 0.]]\n",
      "\n",
      "  ...\n",
      "\n",
      "  [[0. 1.]\n",
      "   [1. 0.]]\n",
      "\n",
      "  [[0. 1.]\n",
      "   [1. 0.]]\n",
      "\n",
      "  [[0. 1.]\n",
      "   [1. 0.]]]]\n"
     ]
    }
   ],
   "source": [
    "Y_data = to_categorical(Y_data)\n",
    "# Ytest = to_categorical(y_test)\n",
    "print(Y_data)"
   ]
  },
  {
   "cell_type": "markdown",
   "metadata": {},
   "source": [
    "From the results above we can see that the Ytrain shape after one hot encoding we get 10 categories. <br>\n",
    "This is because the digits range from 0 -9 which are 10 10 categories\n"
   ]
  },
  {
   "cell_type": "code",
   "execution_count": null,
   "metadata": {},
   "outputs": [],
   "source": [
    "# creating labels\n",
    "arr = Ytrain[0:12]\n",
    "for i in arr:\n",
    "    pos = np.where(i == 1)\n",
    "    print(i, *pos)\n",
    "#     print(indexed)\n"
   ]
  },
  {
   "cell_type": "code",
   "execution_count": null,
   "metadata": {},
   "outputs": [],
   "source": []
  },
  {
   "cell_type": "markdown",
   "metadata": {},
   "source": [
    "## Visualizaton using t-SNE\n",
    "\n",
    "T-Dristribted Stochastic Neighbour Embedding (t-SNE) is a non linear dimentionality reduction techique that well suits vizualization of high dimension data especially on a 2D plot using conditional probalbility.<br>\n",
    "t-SNE uses Gausian distribution"
   ]
  },
  {
   "cell_type": "markdown",
   "metadata": {},
   "source": [
    "#### Converng data into a pandas dataframe for easier handling"
   ]
  },
  {
   "cell_type": "code",
   "execution_count": null,
   "metadata": {},
   "outputs": [],
   "source": [
    "cols = np.arange(10)\n",
    "\n",
    "train_df = pd.DataFrame(Ytrain, columns = cols)\n",
    "train_df.head()\n",
    "\n",
    "print('-'*100)\n",
    "display(train_df.value_counts())"
   ]
  },
  {
   "cell_type": "code",
   "execution_count": null,
   "metadata": {},
   "outputs": [],
   "source": [
    "# Function to compute t-SNE \n",
    "# def tSNE(dataframe):\n",
    "start_time = time.time()\n",
    "tsne = TSNE(n_components = 2, verbose=0, learning_rate=200, n_iter=500)\n",
    "tsne_result = tsne.fit_transform(X=train_df)\n",
    "end_time = time.time()\n",
    "print(\"Learning completed in {} seconds\".format(end_time - start_time))\n",
    "\n",
    "    # return tsne_result\n"
   ]
  },
  {
   "cell_type": "code",
   "execution_count": null,
   "metadata": {},
   "outputs": [],
   "source": [
    "tsne_df = pd.DataFrame({\"t-SNE 1\":tsne_result[:,0], \"t-SNE 2\":tsne_result[:,1]})\n",
    "tsne_df.head()"
   ]
  },
  {
   "cell_type": "code",
   "execution_count": null,
   "metadata": {},
   "outputs": [],
   "source": [
    "# Plotting the tsne data\n",
    "\n",
    "fig, ax = plt.subplots(1, figsize=(15,10))\n",
    "sns.scatterplot(x = 't-SNE 1', y= 't-SNE 2', data = tsne_df, ax = ax, s=20)\n",
    "lim = (tsne_result.min()-5, tsne_result.max()+5)\n",
    "ax.set_xlim(lim)\n",
    "ax.set_ylim(lim)\n",
    "ax.set_aspect('equal')\n",
    "ax.set_title('Part 1: t-SNE Visualization', fontsize = 16, weight = 'bold')\n",
    "ax.legend(bbox_to_anchor = (1,1), loc =2, borderaxespad = 0.0)"
   ]
  },
  {
   "cell_type": "markdown",
   "metadata": {},
   "source": [
    "### Part 2: Use the 784 features"
   ]
  },
  {
   "cell_type": "code",
   "execution_count": null,
   "metadata": {},
   "outputs": [],
   "source": [
    "X,y = fetch_openml(\"mnist_784\", version=1, return_X_y=True, as_frame=True)\n",
    "X = X/255.0"
   ]
  },
  {
   "cell_type": "code",
   "execution_count": null,
   "metadata": {},
   "outputs": [],
   "source": [
    "print(X.shape)\n",
    "print('='*50)\n",
    "print(y.shape)\n",
    "\n",
    "print(type(X))"
   ]
  },
  {
   "cell_type": "code",
   "execution_count": null,
   "metadata": {},
   "outputs": [],
   "source": [
    "cols = [str(col) for col in range(X.shape[1])]\n",
    "\n",
    "df = pd.DataFrame(X, columns = cols)\n",
    "# print(type(df))\n",
    "# # df = pd.concat(y,df)\n",
    "# df['y'] = y\n",
    "# df.drop(['y'], axis = 1)\n",
    "\n",
    "df.shape"
   ]
  },
  {
   "cell_type": "code",
   "execution_count": null,
   "metadata": {},
   "outputs": [],
   "source": [
    "display(df.head)\n",
    "print('='*150)\n",
    "display(df.isnull().sum())"
   ]
  },
  {
   "cell_type": "code",
   "execution_count": null,
   "metadata": {},
   "outputs": [],
   "source": [
    "# cols = [str(i for i in range(784))]\n",
    "\n",
    "# df[cols] = df[cols].astype('object')\n",
    "# df[cols].fillna(0.0)\n",
    "df.head()"
   ]
  },
  {
   "cell_type": "code",
   "execution_count": null,
   "metadata": {},
   "outputs": [],
   "source": [
    "df = df.replace(np.NaN, 0)"
   ]
  },
  {
   "cell_type": "code",
   "execution_count": null,
   "metadata": {},
   "outputs": [],
   "source": [
    "df.head()"
   ]
  },
  {
   "cell_type": "code",
   "execution_count": null,
   "metadata": {},
   "outputs": [],
   "source": [
    "\n",
    "start_time = time.time()\n",
    "tsne = TSNE(n_components = 2, verbose=1, learning_rate=200, n_iter=500)\n",
    "tsne_result2 = tsne.fit_transform(df)\n",
    "end_time = time.time()\n",
    "print(\"Learning completed in {} seconds\".format(end_time - start_time))"
   ]
  },
  {
   "cell_type": "code",
   "execution_count": null,
   "metadata": {},
   "outputs": [],
   "source": [
    "display(tsne_result)"
   ]
  },
  {
   "cell_type": "code",
   "execution_count": null,
   "metadata": {},
   "outputs": [],
   "source": [
    "tsne_df2 = pd.DataFrame({\"t-SNE 1\":tsne_result2[:,0], \"t-SNE 2\":tsne_result2[:,1], \"label\":df['y']})\n",
    "fig, ax = plt.subplots(1, figsize=(15,10))\n",
    "sns.scatterplot(x = 't-SNE 1', y= 't-SNE 2', hue = 'label', data = tsne_df2, ax = ax, s=20)\n",
    "lim = (tsne_result2.min()-5, tsne_result2.max()+5)\n",
    "ax.set_xlim(lim)\n",
    "ax.set_ylim(lim)\n",
    "ax.set_aspect('equal')\n",
    "ax.set_title('Part 2: t-SNE Visualization with 784 features', fontsize = 16, weight = 'bold')\n",
    "ax.legend(bbox_to_anchor = (1,1), loc =2, borderaxespad = 0.0)"
   ]
  },
  {
   "cell_type": "code",
   "execution_count": null,
   "metadata": {},
   "outputs": [],
   "source": []
  },
  {
   "cell_type": "code",
   "execution_count": null,
   "metadata": {},
   "outputs": [],
   "source": []
  },
  {
   "cell_type": "code",
   "execution_count": null,
   "metadata": {},
   "outputs": [],
   "source": []
  },
  {
   "cell_type": "code",
   "execution_count": null,
   "metadata": {},
   "outputs": [],
   "source": []
  },
  {
   "cell_type": "code",
   "execution_count": null,
   "metadata": {},
   "outputs": [],
   "source": []
  },
  {
   "cell_type": "code",
   "execution_count": null,
   "metadata": {},
   "outputs": [],
   "source": []
  },
  {
   "cell_type": "code",
   "execution_count": null,
   "metadata": {},
   "outputs": [],
   "source": []
  },
  {
   "cell_type": "code",
   "execution_count": null,
   "metadata": {},
   "outputs": [],
   "source": []
  },
  {
   "cell_type": "code",
   "execution_count": null,
   "metadata": {},
   "outputs": [],
   "source": [
    "# Since we will no longer need Mnist data, we can uninstall the package\n",
    "%pip uninstall mnist\n",
    "print(\"Successfully removed mnist\")"
   ]
  }
 ],
 "metadata": {
  "kernelspec": {
   "display_name": "Python 3",
   "language": "python",
   "name": "python3"
  },
  "language_info": {
   "codemirror_mode": {
    "name": "ipython",
    "version": 3
   },
   "file_extension": ".py",
   "mimetype": "text/x-python",
   "name": "python",
   "nbconvert_exporter": "python",
   "pygments_lexer": "ipython3",
   "version": "3.8.8"
  },
  "vscode": {
   "interpreter": {
    "hash": "04b2e48da8715d0e03ed003238e610aa18fc3abec3b418b1e66df75f2c0e936e"
   }
  }
 },
 "nbformat": 4,
 "nbformat_minor": 2
}
