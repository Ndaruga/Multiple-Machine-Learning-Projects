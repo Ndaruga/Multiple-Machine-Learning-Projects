{
 "cells": [
  {
   "cell_type": "markdown",
   "id": "6de422b4",
   "metadata": {},
   "source": [
    "# London Fire Incidents Analysis"
   ]
  },
  {
   "cell_type": "code",
   "execution_count": 1,
   "id": "d26028f6",
   "metadata": {},
   "outputs": [],
   "source": [
    "%matplotlib inline \n",
    "import os\n",
    "import pandas as pd\n",
    "import numpy as np\n",
    "import matplotlib.pyplot as plt\n",
    "import seaborn as sns\n",
    "import warnings\n",
    "warnings.filterwarnings('ignore')"
   ]
  },
  {
   "cell_type": "code",
   "execution_count": 2,
   "id": "c7428026",
   "metadata": {},
   "outputs": [
    {
     "name": "stdout",
     "output_type": "stream",
     "text": [
      "Starting download ...\n"
     ]
    },
    {
     "name": "stderr",
     "output_type": "stream",
     "text": [
      "100%|\u001b[34m██████████\u001b[0m| 104M/104M [31:29<00:00, 57.6kB/s]   \n"
     ]
    },
    {
     "name": "stdout",
     "output_type": "stream",
     "text": [
      "\n",
      "\n",
      "patool: Extracting archive.zip ...\n",
      "patool: ... archive.zip extracted to `archive' (local file exists).\n",
      "\n",
      "Extract complete\n"
     ]
    }
   ],
   "source": [
    "# Loading the data\n",
    "import data_download\n",
    "\n",
    "# data_dir = \"LFB-data\"\n",
    "LFB_data = pd.read_csv(\"LFB Incident data - Datastore - with notional cost and UPRN from January 2009.csv\")\n",
    "LFB_data.head()"
   ]
  },
  {
   "cell_type": "code",
   "execution_count": null,
   "id": "1224ad45",
   "metadata": {},
   "outputs": [],
   "source": [
    "LFB_data.shape"
   ]
  },
  {
   "cell_type": "code",
   "execution_count": null,
   "id": "bb2c41d2",
   "metadata": {},
   "outputs": [],
   "source": [
    "LFB_data.info()"
   ]
  },
  {
   "cell_type": "markdown",
   "id": "0dee3a0f",
   "metadata": {},
   "source": [
    "###### Lets Clean the data."
   ]
  },
  {
   "cell_type": "code",
   "execution_count": null,
   "id": "7841f331",
   "metadata": {},
   "outputs": [],
   "source": [
    "# Lets see if the data has missing values.\n",
    "cols = LFB_data.columns[:]\n",
    "colours = ['#000099', '#ffff00'] # specify the colours - yellow is missing. blue is not missing.\n",
    "sns.heatmap(LFB_data[cols].isnull(), cmap=sns.color_palette(colours))\n",
    "print(\"Yellow - Missing Values\\nBlue - Non Missing\")"
   ]
  },
  {
   "cell_type": "code",
   "execution_count": null,
   "id": "3277c196",
   "metadata": {},
   "outputs": [],
   "source": [
    "# Dividing the data into numerical and categorical for easier cleaning\n",
    "# select numeric columns\n",
    "df_numeric = LFB_data.select_dtypes(include=[np.number])\n",
    "numeric_cols = df_numeric.columns.values\n",
    "print(numeric_cols)\n"
   ]
  },
  {
   "cell_type": "code",
   "execution_count": null,
   "id": "b3927fd0",
   "metadata": {},
   "outputs": [],
   "source": [
    "df_numeric"
   ]
  },
  {
   "cell_type": "code",
   "execution_count": null,
   "id": "108e2eb0",
   "metadata": {},
   "outputs": [],
   "source": []
  },
  {
   "cell_type": "code",
   "execution_count": null,
   "id": "fb71d2d5",
   "metadata": {},
   "outputs": [],
   "source": [
    "\n",
    "# select non numeric columns\n",
    "df_categorical = LFB_data.select_dtypes(exclude=[np.number])\n",
    "non_numeric_cols = df_categorical.columns.values\n",
    "print(non_numeric_cols)"
   ]
  },
  {
   "cell_type": "code",
   "execution_count": null,
   "id": "22c1d2c6",
   "metadata": {},
   "outputs": [],
   "source": [
    "df_categorical.isnull().sum()"
   ]
  },
  {
   "cell_type": "markdown",
   "id": "56d4c60b",
   "metadata": {},
   "source": [
    "We can see that we have a couple of categorical columns with missing values"
   ]
  },
  {
   "cell_type": "code",
   "execution_count": null,
   "id": "76c73d50",
   "metadata": {},
   "outputs": [],
   "source": [
    "df_categorical.head()"
   ]
  },
  {
   "cell_type": "code",
   "execution_count": null,
   "id": "2c918309",
   "metadata": {},
   "outputs": [],
   "source": [
    "df_categorical.value_counts()"
   ]
  },
  {
   "cell_type": "code",
   "execution_count": null,
   "id": "595d8957",
   "metadata": {},
   "outputs": [],
   "source": []
  }
 ],
 "metadata": {
  "kernelspec": {
   "display_name": "Python 3",
   "language": "python",
   "name": "python3"
  },
  "language_info": {
   "codemirror_mode": {
    "name": "ipython",
    "version": 3
   },
   "file_extension": ".py",
   "mimetype": "text/x-python",
   "name": "python",
   "nbconvert_exporter": "python",
   "pygments_lexer": "ipython3",
   "version": "3.8.8"
  },
  "vscode": {
   "interpreter": {
    "hash": "04b2e48da8715d0e03ed003238e610aa18fc3abec3b418b1e66df75f2c0e936e"
   }
  }
 },
 "nbformat": 4,
 "nbformat_minor": 5
}
