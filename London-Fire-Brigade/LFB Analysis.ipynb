{
 "cells": [
  {
   "cell_type": "markdown",
   "id": "6de422b4",
   "metadata": {},
   "source": [
    "# London Fire Incidents Analysis"
   ]
  },
  {
   "cell_type": "code",
   "execution_count": 1,
   "id": "d0449e53",
   "metadata": {},
   "outputs": [
    {
     "name": "stdout",
     "output_type": "stream",
     "text": [
      "Requirement already satisfied: patool in c:\\users\\ndaru\\anaconda3\\lib\\site-packages (1.12)\n",
      "\n",
      "Files Already Extracted\n"
     ]
    }
   ],
   "source": [
    "# Extract the zip file\n",
    "!pip install patool\n",
    "import patoolib\n",
    "import os\n",
    "if (os.path.isdir(\"archive\")) == False:\n",
    "    patoolib.extract_archive('./archive.zip')\n",
    "    print(\"\\nExtract complete\")\n",
    "else:\n",
    "    print(\"\\nFiles Already Extracted\")\n"
   ]
  },
  {
   "cell_type": "code",
   "execution_count": 2,
   "id": "d26028f6",
   "metadata": {},
   "outputs": [],
   "source": [
    "%matplotlib inline \n",
    "import pandas as pd\n",
    "import numpy as np\n",
    "import matplotlib.pyplot as plt\n",
    "import seaborn as sns\n",
    "import warnings\n",
    "warnings.filterwarnings('ignore')"
   ]
  },
  {
   "cell_type": "code",
   "execution_count": 3,
   "id": "c7428026",
   "metadata": {},
   "outputs": [
    {
     "data": {
      "text/html": [
       "<div>\n",
       "<style scoped>\n",
       "    .dataframe tbody tr th:only-of-type {\n",
       "        vertical-align: middle;\n",
       "    }\n",
       "\n",
       "    .dataframe tbody tr th {\n",
       "        vertical-align: top;\n",
       "    }\n",
       "\n",
       "    .dataframe thead th {\n",
       "        text-align: right;\n",
       "    }\n",
       "</style>\n",
       "<table border=\"1\" class=\"dataframe\">\n",
       "  <thead>\n",
       "    <tr style=\"text-align: right;\">\n",
       "      <th></th>\n",
       "      <th>IncidentNumber</th>\n",
       "      <th>DateOfCall</th>\n",
       "      <th>CalYear</th>\n",
       "      <th>TimeOfCall</th>\n",
       "      <th>HourOfCall</th>\n",
       "      <th>IncidentGroup</th>\n",
       "      <th>StopCodeDescription</th>\n",
       "      <th>SpecialServiceType</th>\n",
       "      <th>PropertyCategory</th>\n",
       "      <th>PropertyType</th>\n",
       "      <th>...</th>\n",
       "      <th>FirstPumpArriving_AttendanceTime</th>\n",
       "      <th>FirstPumpArriving_DeployedFromStation</th>\n",
       "      <th>SecondPumpArriving_AttendanceTime</th>\n",
       "      <th>SecondPumpArriving_DeployedFromStation</th>\n",
       "      <th>NumStationsWithPumpsAttending</th>\n",
       "      <th>NumPumpsAttending</th>\n",
       "      <th>PumpCount</th>\n",
       "      <th>PumpHoursRoundUp</th>\n",
       "      <th>Notional Cost (£)</th>\n",
       "      <th>NumCalls</th>\n",
       "    </tr>\n",
       "  </thead>\n",
       "  <tbody>\n",
       "    <tr>\n",
       "      <th>0</th>\n",
       "      <td>235138081</td>\n",
       "      <td>01 Jan 2009</td>\n",
       "      <td>2009</td>\n",
       "      <td>00:00:37</td>\n",
       "      <td>0</td>\n",
       "      <td>Special Service</td>\n",
       "      <td>Special Service</td>\n",
       "      <td>RTC</td>\n",
       "      <td>Road Vehicle</td>\n",
       "      <td>Car</td>\n",
       "      <td>...</td>\n",
       "      <td>319.0</td>\n",
       "      <td>Battersea</td>\n",
       "      <td>342.0</td>\n",
       "      <td>Clapham</td>\n",
       "      <td>2.0</td>\n",
       "      <td>2.0</td>\n",
       "      <td>2.0</td>\n",
       "      <td>1.0</td>\n",
       "      <td>255.0</td>\n",
       "      <td>1.0</td>\n",
       "    </tr>\n",
       "    <tr>\n",
       "      <th>1</th>\n",
       "      <td>1091</td>\n",
       "      <td>01 Jan 2009</td>\n",
       "      <td>2009</td>\n",
       "      <td>00:00:46</td>\n",
       "      <td>0</td>\n",
       "      <td>Special Service</td>\n",
       "      <td>Special Service</td>\n",
       "      <td>Assist other agencies</td>\n",
       "      <td>Outdoor</td>\n",
       "      <td>Lake/pond/reservoir</td>\n",
       "      <td>...</td>\n",
       "      <td>NaN</td>\n",
       "      <td>NaN</td>\n",
       "      <td>NaN</td>\n",
       "      <td>NaN</td>\n",
       "      <td>NaN</td>\n",
       "      <td>NaN</td>\n",
       "      <td>NaN</td>\n",
       "      <td>NaN</td>\n",
       "      <td>NaN</td>\n",
       "      <td>1.0</td>\n",
       "    </tr>\n",
       "    <tr>\n",
       "      <th>2</th>\n",
       "      <td>2091</td>\n",
       "      <td>01 Jan 2009</td>\n",
       "      <td>2009</td>\n",
       "      <td>00:03:00</td>\n",
       "      <td>0</td>\n",
       "      <td>Fire</td>\n",
       "      <td>Secondary Fire</td>\n",
       "      <td>NaN</td>\n",
       "      <td>Outdoor</td>\n",
       "      <td>Road surface/pavement</td>\n",
       "      <td>...</td>\n",
       "      <td>308.0</td>\n",
       "      <td>Edmonton</td>\n",
       "      <td>NaN</td>\n",
       "      <td>NaN</td>\n",
       "      <td>1.0</td>\n",
       "      <td>1.0</td>\n",
       "      <td>1.0</td>\n",
       "      <td>1.0</td>\n",
       "      <td>255.0</td>\n",
       "      <td>2.0</td>\n",
       "    </tr>\n",
       "    <tr>\n",
       "      <th>3</th>\n",
       "      <td>3091</td>\n",
       "      <td>01 Jan 2009</td>\n",
       "      <td>2009</td>\n",
       "      <td>00:04:27</td>\n",
       "      <td>0</td>\n",
       "      <td>Fire</td>\n",
       "      <td>Secondary Fire</td>\n",
       "      <td>NaN</td>\n",
       "      <td>Outdoor</td>\n",
       "      <td>Domestic garden (vegetation not equipment)</td>\n",
       "      <td>...</td>\n",
       "      <td>210.0</td>\n",
       "      <td>Hillingdon</td>\n",
       "      <td>NaN</td>\n",
       "      <td>NaN</td>\n",
       "      <td>1.0</td>\n",
       "      <td>1.0</td>\n",
       "      <td>1.0</td>\n",
       "      <td>1.0</td>\n",
       "      <td>255.0</td>\n",
       "      <td>2.0</td>\n",
       "    </tr>\n",
       "    <tr>\n",
       "      <th>4</th>\n",
       "      <td>5091</td>\n",
       "      <td>01 Jan 2009</td>\n",
       "      <td>2009</td>\n",
       "      <td>00:05:39</td>\n",
       "      <td>0</td>\n",
       "      <td>Fire</td>\n",
       "      <td>Secondary Fire</td>\n",
       "      <td>NaN</td>\n",
       "      <td>Outdoor</td>\n",
       "      <td>Cycle path/public footpath/bridleway</td>\n",
       "      <td>...</td>\n",
       "      <td>233.0</td>\n",
       "      <td>Holloway</td>\n",
       "      <td>250.0</td>\n",
       "      <td>Holloway</td>\n",
       "      <td>1.0</td>\n",
       "      <td>2.0</td>\n",
       "      <td>2.0</td>\n",
       "      <td>1.0</td>\n",
       "      <td>255.0</td>\n",
       "      <td>1.0</td>\n",
       "    </tr>\n",
       "  </tbody>\n",
       "</table>\n",
       "<p>5 rows × 39 columns</p>\n",
       "</div>"
      ],
      "text/plain": [
       "  IncidentNumber   DateOfCall  CalYear TimeOfCall  HourOfCall  \\\n",
       "0      235138081  01 Jan 2009     2009   00:00:37           0   \n",
       "1           1091  01 Jan 2009     2009   00:00:46           0   \n",
       "2           2091  01 Jan 2009     2009   00:03:00           0   \n",
       "3           3091  01 Jan 2009     2009   00:04:27           0   \n",
       "4           5091  01 Jan 2009     2009   00:05:39           0   \n",
       "\n",
       "     IncidentGroup StopCodeDescription     SpecialServiceType  \\\n",
       "0  Special Service     Special Service                    RTC   \n",
       "1  Special Service     Special Service  Assist other agencies   \n",
       "2             Fire      Secondary Fire                    NaN   \n",
       "3             Fire      Secondary Fire                    NaN   \n",
       "4             Fire      Secondary Fire                    NaN   \n",
       "\n",
       "  PropertyCategory                                 PropertyType  ...  \\\n",
       "0     Road Vehicle                                         Car   ...   \n",
       "1          Outdoor                         Lake/pond/reservoir   ...   \n",
       "2          Outdoor                       Road surface/pavement   ...   \n",
       "3          Outdoor  Domestic garden (vegetation not equipment)   ...   \n",
       "4          Outdoor        Cycle path/public footpath/bridleway   ...   \n",
       "\n",
       "  FirstPumpArriving_AttendanceTime FirstPumpArriving_DeployedFromStation  \\\n",
       "0                            319.0                             Battersea   \n",
       "1                              NaN                                   NaN   \n",
       "2                            308.0                              Edmonton   \n",
       "3                            210.0                            Hillingdon   \n",
       "4                            233.0                              Holloway   \n",
       "\n",
       "  SecondPumpArriving_AttendanceTime  SecondPumpArriving_DeployedFromStation  \\\n",
       "0                             342.0                                 Clapham   \n",
       "1                               NaN                                     NaN   \n",
       "2                               NaN                                     NaN   \n",
       "3                               NaN                                     NaN   \n",
       "4                             250.0                                Holloway   \n",
       "\n",
       "   NumStationsWithPumpsAttending NumPumpsAttending PumpCount PumpHoursRoundUp  \\\n",
       "0                            2.0               2.0       2.0              1.0   \n",
       "1                            NaN               NaN       NaN              NaN   \n",
       "2                            1.0               1.0       1.0              1.0   \n",
       "3                            1.0               1.0       1.0              1.0   \n",
       "4                            1.0               2.0       2.0              1.0   \n",
       "\n",
       "  Notional Cost (£) NumCalls  \n",
       "0             255.0      1.0  \n",
       "1               NaN      1.0  \n",
       "2             255.0      2.0  \n",
       "3             255.0      2.0  \n",
       "4             255.0      1.0  \n",
       "\n",
       "[5 rows x 39 columns]"
      ]
     },
     "execution_count": 3,
     "metadata": {},
     "output_type": "execute_result"
    }
   ],
   "source": [
    "# Loading the data\n",
    "LFB_data = pd.read_csv(\"./archive/lfb_incident.csv\")\n",
    "LFB_data.head()"
   ]
  },
  {
   "cell_type": "code",
   "execution_count": 4,
   "id": "1224ad45",
   "metadata": {},
   "outputs": [
    {
     "data": {
      "text/plain": [
       "(1465060, 39)"
      ]
     },
     "execution_count": 4,
     "metadata": {},
     "output_type": "execute_result"
    }
   ],
   "source": [
    "LFB_data.shape"
   ]
  },
  {
   "cell_type": "code",
   "execution_count": 5,
   "id": "bb2c41d2",
   "metadata": {},
   "outputs": [
    {
     "name": "stdout",
     "output_type": "stream",
     "text": [
      "<class 'pandas.core.frame.DataFrame'>\n",
      "RangeIndex: 1465060 entries, 0 to 1465059\n",
      "Data columns (total 39 columns):\n",
      " #   Column                                  Non-Null Count    Dtype  \n",
      "---  ------                                  --------------    -----  \n",
      " 0   IncidentNumber                          1465060 non-null  object \n",
      " 1   DateOfCall                              1465060 non-null  object \n",
      " 2   CalYear                                 1465060 non-null  int64  \n",
      " 3   TimeOfCall                              1465060 non-null  object \n",
      " 4   HourOfCall                              1465060 non-null  int64  \n",
      " 5   IncidentGroup                           1465060 non-null  object \n",
      " 6   StopCodeDescription                     1465060 non-null  object \n",
      " 7   SpecialServiceType                      459204 non-null   object \n",
      " 8   PropertyCategory                        1465060 non-null  object \n",
      " 9   PropertyType                            1465060 non-null  object \n",
      " 10  AddressQualifier                        1465060 non-null  object \n",
      " 11  Postcode_full                           758683 non-null   object \n",
      " 12  Postcode_district                       1465060 non-null  object \n",
      " 13  UPRN                                    1323727 non-null  float64\n",
      " 14  USRN                                    1302189 non-null  float64\n",
      " 15  IncGeo_BoroughCode                      1465060 non-null  object \n",
      " 16  IncGeo_BoroughName                      1465060 non-null  object \n",
      " 17  ProperCase                              1465060 non-null  object \n",
      " 18  IncGeo_WardCode                         1465056 non-null  object \n",
      " 19  IncGeo_WardName                         1465056 non-null  object \n",
      " 20  IncGeo_WardNameNew                      1465056 non-null  object \n",
      " 21  Easting_m                               758683 non-null   float64\n",
      " 22  Northing_m                              758683 non-null   float64\n",
      " 23  Easting_rounded                         1465060 non-null  int64  \n",
      " 24  Northing_rounded                        1465060 non-null  int64  \n",
      " 25  Latitude                                758683 non-null   float64\n",
      " 26  Longitude                               758683 non-null   float64\n",
      " 27  FRS                                     1465060 non-null  object \n",
      " 28  IncidentStationGround                   1465059 non-null  object \n",
      " 29  FirstPumpArriving_AttendanceTime        1345308 non-null  float64\n",
      " 30  FirstPumpArriving_DeployedFromStation   1345296 non-null  object \n",
      " 31  SecondPumpArriving_AttendanceTime       525497 non-null   float64\n",
      " 32  SecondPumpArriving_DeployedFromStation  525490 non-null   object \n",
      " 33  NumStationsWithPumpsAttending           1454279 non-null  float64\n",
      " 34  NumPumpsAttending                       1454279 non-null  float64\n",
      " 35  PumpCount                               1456878 non-null  float64\n",
      " 36  PumpHoursRoundUp                        1456617 non-null  float64\n",
      " 37  Notional Cost (£)                       1456617 non-null  float64\n",
      " 38  NumCalls                                1463216 non-null  float64\n",
      "dtypes: float64(14), int64(4), object(21)\n",
      "memory usage: 435.9+ MB\n"
     ]
    }
   ],
   "source": [
    "LFB_data.info()"
   ]
  },
  {
   "cell_type": "markdown",
   "id": "0dee3a0f",
   "metadata": {},
   "source": [
    "###### Lets Clean the data."
   ]
  },
  {
   "cell_type": "code",
   "execution_count": 6,
   "id": "7841f331",
   "metadata": {},
   "outputs": [
    {
     "name": "stdout",
     "output_type": "stream",
     "text": [
      "Yellow - Missing Values\n",
      "Blue - Non Missing\n"
     ]
    },
    {
     "data": {
      "image/png": "[encoded data removed]",
      "text/plain": [
       "<Figure size 432x288 with 2 Axes>"
      ]
     },
     "metadata": {
      "needs_background": "light"
     },
     "output_type": "display_data"
    }
   ],
   "source": [
    "# Lets see if the data has missing values.\n",
    "cols = LFB_data.columns[:]\n",
    "colours = ['#000099', '#ffff00'] # specify the colours - yellow is missing. blue is not missing.\n",
    "sns.heatmap(LFB_data[cols].isnull(), cmap=sns.color_palette(colours))\n",
    "print(\"Yellow - Missing Values\\nBlue - Non Missing\")"
   ]
  },
  {
   "cell_type": "code",
   "execution_count": 9,
   "id": "3277c196",
   "metadata": {},
   "outputs": [
    {
     "name": "stdout",
     "output_type": "stream",
     "text": [
      "['CalYear' 'HourOfCall' 'UPRN' 'USRN' 'Easting_m' 'Northing_m'\n",
      " 'Easting_rounded' 'Northing_rounded' 'Latitude' 'Longitude'\n",
      " 'FirstPumpArriving_AttendanceTime' 'SecondPumpArriving_AttendanceTime'\n",
      " 'NumStationsWithPumpsAttending' 'NumPumpsAttending' 'PumpCount'\n",
      " 'PumpHoursRoundUp' 'Notional Cost (£)' 'NumCalls']\n"
     ]
    }
   ],
   "source": [
    "# Dividing the data into numerical and categorical for easier cleaning\n",
    "# select numeric columns\n",
    "df_numeric = LFB_data.select_dtypes(include=[np.number])\n",
    "numeric_cols = df_numeric.columns.values\n",
    "print(numeric_cols)\n"
   ]
  },
  {
   "cell_type": "code",
   "execution_count": 10,
   "id": "fb71d2d5",
   "metadata": {},
   "outputs": [
    {
     "name": "stdout",
     "output_type": "stream",
     "text": [
      "['IncidentNumber' 'DateOfCall' 'TimeOfCall' 'IncidentGroup'\n",
      " 'StopCodeDescription' 'SpecialServiceType' 'PropertyCategory'\n",
      " 'PropertyType' 'AddressQualifier' 'Postcode_full' 'Postcode_district'\n",
      " 'IncGeo_BoroughCode' 'IncGeo_BoroughName' 'ProperCase' 'IncGeo_WardCode'\n",
      " 'IncGeo_WardName' 'IncGeo_WardNameNew' 'FRS' 'IncidentStationGround'\n",
      " 'FirstPumpArriving_DeployedFromStation'\n",
      " 'SecondPumpArriving_DeployedFromStation']\n"
     ]
    }
   ],
   "source": [
    "\n",
    "# select non numeric columns\n",
    "df_categorical = LFB_data.select_dtypes(exclude=[np.number])\n",
    "non_numeric_cols = df_categorical.columns.values\n",
    "print(non_numeric_cols)"
   ]
  },
  {
   "cell_type": "code",
   "execution_count": null,
   "id": "22c1d2c6",
   "metadata": {},
   "outputs": [],
   "source": []
  }
 ],
 "metadata": {
  "kernelspec": {
   "display_name": "Python 3",
   "language": "python",
   "name": "python3"
  },
  "language_info": {
   "codemirror_mode": {
    "name": "ipython",
    "version": 3
   },
   "file_extension": ".py",
   "mimetype": "text/x-python",
   "name": "python",
   "nbconvert_exporter": "python",
   "pygments_lexer": "ipython3",
   "version": "3.8.8"
  }
 },
 "nbformat": 4,
 "nbformat_minor": 5
}
