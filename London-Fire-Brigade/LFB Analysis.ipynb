{
 "cells": [
  {
   "cell_type": "markdown",
   "id": "6de422b4",
   "metadata": {},
   "source": [
    "# London Fire Incidents Analysis"
   ]
  },
  {
   "cell_type": "code",
   "execution_count": 1,
   "id": "d26028f6",
   "metadata": {},
   "outputs": [],
   "source": [
    "%matplotlib inline \n",
    "import os\n",
    "import pandas as pd\n",
    "import numpy as np\n",
    "import matplotlib.pyplot as plt\n",
    "import seaborn as sns\n",
    "import warnings\n",
    "warnings.filterwarnings('ignore')"
   ]
  },
  {
   "cell_type": "code",
   "execution_count": 2,
   "id": "c7428026",
   "metadata": {},
   "outputs": [
    {
     "name": "stdout",
     "output_type": "stream",
     "text": [
      "Starting download ...\n"
     ]
    },
    {
     "name": "stderr",
     "output_type": "stream",
     "text": [
      "100%|\u001b[34m██████████\u001b[0m| 104M/104M [31:29<00:00, 57.6kB/s]   \n"
     ]
    },
    {
     "name": "stdout",
     "output_type": "stream",
     "text": [
      "\n",
      "\n",
      "patool: Extracting archive.zip ...\n",
      "patool: ... archive.zip extracted to `archive' (local file exists).\n",
      "\n",
      "Extract complete\n"
     ]
    },
    {
     "data": {
      "text/html": [
       "<div>\n",
       "<style scoped>\n",
       "    .dataframe tbody tr th:only-of-type {\n",
       "        vertical-align: middle;\n",
       "    }\n",
       "\n",
       "    .dataframe tbody tr th {\n",
       "        vertical-align: top;\n",
       "    }\n",
       "\n",
       "    .dataframe thead th {\n",
       "        text-align: right;\n",
       "    }\n",
       "</style>\n",
       "<table border=\"1\" class=\"dataframe\">\n",
       "  <thead>\n",
       "    <tr style=\"text-align: right;\">\n",
       "      <th></th>\n",
       "      <th>235138081</th>\n",
       "      <th>01 Jan 2009</th>\n",
       "      <th>2009</th>\n",
       "      <th>00:00:37</th>\n",
       "      <th>0</th>\n",
       "      <th>Special Service</th>\n",
       "      <th>Special Service.1</th>\n",
       "      <th>RTC</th>\n",
       "      <th>Road Vehicle</th>\n",
       "      <th>Car</th>\n",
       "      <th>...</th>\n",
       "      <th>319</th>\n",
       "      <th>Battersea.1</th>\n",
       "      <th>342</th>\n",
       "      <th>Clapham</th>\n",
       "      <th>2</th>\n",
       "      <th>2.1</th>\n",
       "      <th>2.2</th>\n",
       "      <th>1</th>\n",
       "      <th>255</th>\n",
       "      <th>1.1</th>\n",
       "    </tr>\n",
       "  </thead>\n",
       "  <tbody>\n",
       "    <tr>\n",
       "      <th>0</th>\n",
       "      <td>1091</td>\n",
       "      <td>01 Jan 2009</td>\n",
       "      <td>2009</td>\n",
       "      <td>00:00:46</td>\n",
       "      <td>0</td>\n",
       "      <td>Special Service</td>\n",
       "      <td>Special Service</td>\n",
       "      <td>Assist other agencies</td>\n",
       "      <td>Outdoor</td>\n",
       "      <td>Lake/pond/reservoir</td>\n",
       "      <td>...</td>\n",
       "      <td>NaN</td>\n",
       "      <td>NaN</td>\n",
       "      <td>NaN</td>\n",
       "      <td>NaN</td>\n",
       "      <td>NaN</td>\n",
       "      <td>NaN</td>\n",
       "      <td>NaN</td>\n",
       "      <td>NaN</td>\n",
       "      <td>NaN</td>\n",
       "      <td>1.0</td>\n",
       "    </tr>\n",
       "    <tr>\n",
       "      <th>1</th>\n",
       "      <td>2091</td>\n",
       "      <td>01 Jan 2009</td>\n",
       "      <td>2009</td>\n",
       "      <td>00:03:00</td>\n",
       "      <td>0</td>\n",
       "      <td>Fire</td>\n",
       "      <td>Secondary Fire</td>\n",
       "      <td>NaN</td>\n",
       "      <td>Outdoor</td>\n",
       "      <td>Road surface/pavement</td>\n",
       "      <td>...</td>\n",
       "      <td>308.0</td>\n",
       "      <td>Edmonton</td>\n",
       "      <td>NaN</td>\n",
       "      <td>NaN</td>\n",
       "      <td>1.0</td>\n",
       "      <td>1.0</td>\n",
       "      <td>1.0</td>\n",
       "      <td>1.0</td>\n",
       "      <td>255.0</td>\n",
       "      <td>2.0</td>\n",
       "    </tr>\n",
       "    <tr>\n",
       "      <th>2</th>\n",
       "      <td>3091</td>\n",
       "      <td>01 Jan 2009</td>\n",
       "      <td>2009</td>\n",
       "      <td>00:04:27</td>\n",
       "      <td>0</td>\n",
       "      <td>Fire</td>\n",
       "      <td>Secondary Fire</td>\n",
       "      <td>NaN</td>\n",
       "      <td>Outdoor</td>\n",
       "      <td>Domestic garden (vegetation not equipment)</td>\n",
       "      <td>...</td>\n",
       "      <td>210.0</td>\n",
       "      <td>Hillingdon</td>\n",
       "      <td>NaN</td>\n",
       "      <td>NaN</td>\n",
       "      <td>1.0</td>\n",
       "      <td>1.0</td>\n",
       "      <td>1.0</td>\n",
       "      <td>1.0</td>\n",
       "      <td>255.0</td>\n",
       "      <td>2.0</td>\n",
       "    </tr>\n",
       "    <tr>\n",
       "      <th>3</th>\n",
       "      <td>5091</td>\n",
       "      <td>01 Jan 2009</td>\n",
       "      <td>2009</td>\n",
       "      <td>00:05:39</td>\n",
       "      <td>0</td>\n",
       "      <td>Fire</td>\n",
       "      <td>Secondary Fire</td>\n",
       "      <td>NaN</td>\n",
       "      <td>Outdoor</td>\n",
       "      <td>Cycle path/public footpath/bridleway</td>\n",
       "      <td>...</td>\n",
       "      <td>233.0</td>\n",
       "      <td>Holloway</td>\n",
       "      <td>250.0</td>\n",
       "      <td>Holloway</td>\n",
       "      <td>1.0</td>\n",
       "      <td>2.0</td>\n",
       "      <td>2.0</td>\n",
       "      <td>1.0</td>\n",
       "      <td>255.0</td>\n",
       "      <td>1.0</td>\n",
       "    </tr>\n",
       "    <tr>\n",
       "      <th>4</th>\n",
       "      <td>6091</td>\n",
       "      <td>01 Jan 2009</td>\n",
       "      <td>2009</td>\n",
       "      <td>00:06:03</td>\n",
       "      <td>0</td>\n",
       "      <td>False Alarm</td>\n",
       "      <td>AFA</td>\n",
       "      <td>NaN</td>\n",
       "      <td>Dwelling</td>\n",
       "      <td>Purpose Built Flats/Maisonettes - Up to 3 stor...</td>\n",
       "      <td>...</td>\n",
       "      <td>172.0</td>\n",
       "      <td>Kentish Town</td>\n",
       "      <td>222.0</td>\n",
       "      <td>Kentish Town</td>\n",
       "      <td>1.0</td>\n",
       "      <td>2.0</td>\n",
       "      <td>2.0</td>\n",
       "      <td>1.0</td>\n",
       "      <td>255.0</td>\n",
       "      <td>1.0</td>\n",
       "    </tr>\n",
       "  </tbody>\n",
       "</table>\n",
       "<p>5 rows × 39 columns</p>\n",
       "</div>"
      ],
      "text/plain": [
       "  235138081  01 Jan 2009  2009  00:00:37  0  Special Service  \\\n",
       "0      1091  01 Jan 2009  2009  00:00:46  0  Special Service   \n",
       "1      2091  01 Jan 2009  2009  00:03:00  0             Fire   \n",
       "2      3091  01 Jan 2009  2009  00:04:27  0             Fire   \n",
       "3      5091  01 Jan 2009  2009  00:05:39  0             Fire   \n",
       "4      6091  01 Jan 2009  2009  00:06:03  0      False Alarm   \n",
       "\n",
       "  Special Service.1                    RTC Road Vehicle  \\\n",
       "0   Special Service  Assist other agencies      Outdoor   \n",
       "1    Secondary Fire                    NaN      Outdoor   \n",
       "2    Secondary Fire                    NaN      Outdoor   \n",
       "3    Secondary Fire                    NaN      Outdoor   \n",
       "4               AFA                    NaN     Dwelling   \n",
       "\n",
       "                                                Car   ...    319  \\\n",
       "0                               Lake/pond/reservoir   ...    NaN   \n",
       "1                             Road surface/pavement   ...  308.0   \n",
       "2        Domestic garden (vegetation not equipment)   ...  210.0   \n",
       "3              Cycle path/public footpath/bridleway   ...  233.0   \n",
       "4  Purpose Built Flats/Maisonettes - Up to 3 stor...  ...  172.0   \n",
       "\n",
       "    Battersea.1    342       Clapham    2  2.1  2.2    1    255  1.1  \n",
       "0           NaN    NaN           NaN  NaN  NaN  NaN  NaN    NaN  1.0  \n",
       "1      Edmonton    NaN           NaN  1.0  1.0  1.0  1.0  255.0  2.0  \n",
       "2    Hillingdon    NaN           NaN  1.0  1.0  1.0  1.0  255.0  2.0  \n",
       "3      Holloway  250.0      Holloway  1.0  2.0  2.0  1.0  255.0  1.0  \n",
       "4  Kentish Town  222.0  Kentish Town  1.0  2.0  2.0  1.0  255.0  1.0  \n",
       "\n",
       "[5 rows x 39 columns]"
      ]
     },
     "execution_count": 2,
     "metadata": {},
     "output_type": "execute_result"
    }
   ],
   "source": [
    "# Loading the data\n",
    "import data_download\n",
    "\n",
    "# data_dir = \"LFB-data\"\n",
    "LFB_data = pd.read_csv(\"LFB Incident data - Datastore - with notional cost and UPRN from January 2009.csv\")\n",
    "LFB_data.head()"
   ]
  },
  {
   "cell_type": "code",
   "execution_count": 3,
   "id": "1224ad45",
   "metadata": {},
   "outputs": [
    {
     "data": {
      "text/plain": [
       "(1489665, 39)"
      ]
     },
     "execution_count": 3,
     "metadata": {},
     "output_type": "execute_result"
    }
   ],
   "source": [
    "LFB_data.shape"
   ]
  },
  {
   "cell_type": "code",
   "execution_count": 4,
   "id": "bb2c41d2",
   "metadata": {},
   "outputs": [
    {
     "name": "stdout",
     "output_type": "stream",
     "text": [
      "<class 'pandas.core.frame.DataFrame'>\n",
      "RangeIndex: 1489665 entries, 0 to 1489664\n",
      "Data columns (total 39 columns):\n",
      " #   Column                                 Non-Null Count    Dtype  \n",
      "---  ------                                 --------------    -----  \n",
      " 0   235138081                              1489665 non-null  object \n",
      " 1   01 Jan 2009                            1489665 non-null  object \n",
      " 2   2009                                   1489665 non-null  int64  \n",
      " 3   00:00:37                               1489665 non-null  object \n",
      " 4   0                                      1489665 non-null  int64  \n",
      " 5   Special Service                        1489665 non-null  object \n",
      " 6   Special Service.1                      1489665 non-null  object \n",
      " 7   RTC                                    467694 non-null   object \n",
      " 8   Road Vehicle                           1489665 non-null  object \n",
      " 9   Car                                    1489665 non-null  object \n",
      " 10  In street close to gazetteer location  1489665 non-null  object \n",
      " 11  SW11 4LB                               771189 non-null   object \n",
      " 12  SW11                                   1489665 non-null  object \n",
      " 13  NULL                                   1348333 non-null  float64\n",
      " 14  NULL.1                                 1326795 non-null  float64\n",
      " 15  E09000032                              1489665 non-null  object \n",
      " 16  WANDSWORTH                             1489665 non-null  object \n",
      " 17  Wandsworth                             1489665 non-null  object \n",
      " 18  E05014010                              1489662 non-null  object \n",
      " 19  Battersea Park                         1489662 non-null  object \n",
      " 20  Battersea Park.1                       1489662 non-null  object \n",
      " 21  528652                                 771189 non-null   float64\n",
      " 22  176830                                 771189 non-null   float64\n",
      " 23  528650                                 1489665 non-null  int64  \n",
      " 24  176850                                 1489665 non-null  int64  \n",
      " 25  51.4758117319                          771189 non-null   float64\n",
      " 26  -0.1488944358                          771189 non-null   float64\n",
      " 27  London                                 1489665 non-null  object \n",
      " 28  Battersea                              1489664 non-null  object \n",
      " 29  319                                    1368266 non-null  float64\n",
      " 30  Battersea.1                            1368254 non-null  object \n",
      " 31  342                                    532826 non-null   float64\n",
      " 32  Clapham                                532819 non-null   object \n",
      " 33  2                                      1478412 non-null  float64\n",
      " 34  2.1                                    1478412 non-null  float64\n",
      " 35  2.2                                    1481218 non-null  float64\n",
      " 36  1                                      1480947 non-null  float64\n",
      " 37  255                                    1480947 non-null  float64\n",
      " 38  1.1                                    1487821 non-null  float64\n",
      "dtypes: float64(14), int64(4), object(21)\n",
      "memory usage: 443.2+ MB\n"
     ]
    }
   ],
   "source": [
    "LFB_data.info()"
   ]
  },
  {
   "cell_type": "markdown",
   "id": "0dee3a0f",
   "metadata": {},
   "source": [
    "###### Lets Clean the data."
   ]
  },
  {
   "cell_type": "code",
   "execution_count": 5,
   "id": "7841f331",
   "metadata": {},
   "outputs": [],
   "source": [
    "# Lets see if the data has missing values.\n",
    "cols = LFB_data.columns[:]\n",
    "colours = ['#000099', '#ffff00'] # specify the colours - yellow is missing. blue is not missing.\n",
    "sns.heatmap(LFB_data[cols].isnull(), cmap=sns.color_palette(colours))\n",
    "print(\"Yellow - Missing Values\\nBlue - Non Missing\")"
   ]
  },
  {
   "cell_type": "code",
   "execution_count": null,
   "id": "3277c196",
   "metadata": {},
   "outputs": [],
   "source": [
    "# Dividing the data into numerical and categorical for easier cleaning\n",
    "# select numeric columns\n",
    "df_numeric = LFB_data.select_dtypes(include=[np.number])\n",
    "numeric_cols = df_numeric.columns.values\n",
    "print(numeric_cols)\n"
   ]
  },
  {
   "cell_type": "code",
   "execution_count": null,
   "id": "b3927fd0",
   "metadata": {},
   "outputs": [],
   "source": [
    "df_numeric"
   ]
  },
  {
   "cell_type": "code",
   "execution_count": null,
   "id": "108e2eb0",
   "metadata": {},
   "outputs": [],
   "source": []
  },
  {
   "cell_type": "code",
   "execution_count": null,
   "id": "fb71d2d5",
   "metadata": {},
   "outputs": [],
   "source": [
    "\n",
    "# select non numeric columns\n",
    "df_categorical = LFB_data.select_dtypes(exclude=[np.number])\n",
    "non_numeric_cols = df_categorical.columns.values\n",
    "print(non_numeric_cols)"
   ]
  },
  {
   "cell_type": "code",
   "execution_count": null,
   "id": "22c1d2c6",
   "metadata": {},
   "outputs": [],
   "source": [
    "df_categorical.isnull().sum()"
   ]
  },
  {
   "cell_type": "markdown",
   "id": "56d4c60b",
   "metadata": {},
   "source": [
    "We can see that we have a couple of categorical columns with missing values"
   ]
  },
  {
   "cell_type": "code",
   "execution_count": null,
   "id": "76c73d50",
   "metadata": {},
   "outputs": [],
   "source": [
    "df_categorical.head()"
   ]
  },
  {
   "cell_type": "code",
   "execution_count": null,
   "id": "2c918309",
   "metadata": {},
   "outputs": [],
   "source": [
    "df_categorical.value_counts()"
   ]
  },
  {
   "cell_type": "code",
   "execution_count": null,
   "id": "595d8957",
   "metadata": {},
   "outputs": [],
   "source": []
  }
 ],
 "metadata": {
  "kernelspec": {
   "display_name": "Python 3",
   "language": "python",
   "name": "python3"
  },
  "language_info": {
   "codemirror_mode": {
    "name": "ipython",
    "version": 3
   },
   "file_extension": ".py",
   "mimetype": "text/x-python",
   "name": "python",
   "nbconvert_exporter": "python",
   "pygments_lexer": "ipython3",
   "version": "3.8.8"
  },
  "vscode": {
   "interpreter": {
    "hash": "04b2e48da8715d0e03ed003238e610aa18fc3abec3b418b1e66df75f2c0e936e"
   }
  }
 },
 "nbformat": 4,
 "nbformat_minor": 5
}
