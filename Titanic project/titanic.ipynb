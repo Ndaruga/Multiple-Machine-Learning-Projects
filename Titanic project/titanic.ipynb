{
 "cells": [
  {
   "cell_type": "markdown",
   "id": "1e3228ab",
   "metadata": {},
   "source": [
    "## The Titanic Project"
   ]
  },
  {
   "cell_type": "code",
   "execution_count": null,
   "id": "d8f638a4",
   "metadata": {},
   "outputs": [],
   "source": [
    "import os\n",
    "import pandas as pd\n",
    "import numpy as np\n",
    "import matplotlib.pyplot as plt\n",
    "import seaborn as sns"
   ]
  },
  {
   "cell_type": "code",
   "execution_count": null,
   "id": "b409b36f",
   "metadata": {},
   "outputs": [],
   "source": [
    "data_dir = \"Titanic Data\""
   ]
  },
  {
   "cell_type": "code",
   "execution_count": null,
   "id": "d6156c48",
   "metadata": {},
   "outputs": [],
   "source": [
    "train_df = pd.read_csv(os.path.join(data_dir, \"train.csv\"))\n",
    "train_df.head()"
   ]
  },
  {
   "cell_type": "code",
   "execution_count": null,
   "id": "c3f8ccb3",
   "metadata": {},
   "outputs": [],
   "source": [
    "test_df = pd.read_csv(os.path.join(data_dir, \"test.csv\"))\n",
    "test_df.head()"
   ]
  },
  {
   "cell_type": "markdown",
   "id": "10aebf39",
   "metadata": {},
   "source": [
    "### Primary data analysis\n"
   ]
  },
  {
   "cell_type": "code",
   "execution_count": null,
   "id": "119e6ac0",
   "metadata": {},
   "outputs": [],
   "source": [
    "print(f\"train dataset shape: {train_df.shape}\")\n",
    "print(f\"test dataset shape : {test_df.shape}\")"
   ]
  },
  {
   "cell_type": "markdown",
   "id": "bff89957",
   "metadata": {},
   "source": [
    "<br>The gender sumbission file contains only two column features.<br>\n",
    "A closer look at the columns, it contains the <strong>survival status of the passengers</strong> i.e survived or passed away.<br>\n",
    "It is also a subset of the <strong>test dataset</strong>.<br>\n",
    "<br>\n",
    "This implies that we will use it to evaluate our model accuracy\n"
   ]
  },
  {
   "cell_type": "code",
   "execution_count": null,
   "id": "62f57159",
   "metadata": {},
   "outputs": [],
   "source": [
    "# Check description of both train and testing datasets\n",
    "\n",
    "print(\"Training dataset description information\")\n",
    "display(train_df.describe(include = ['O'])) #this will get information on the object columns\n",
    "display(train_df.describe())\n",
    "print(\"*\"*100)\n",
    "print(\"Testing dataset decribe information\")\n",
    "display(test_df.describe(include= ['O']))\n",
    "display(test_df.describe())"
   ]
  },
  {
   "cell_type": "markdown",
   "id": "a047df03",
   "metadata": {},
   "source": [
    "<h5>Quick Insights</h5>\n",
    "\n",
    "We can already tell that there are <strong> missing values</strong> in both datasets <br>\n",
    "However, lets see their count in a more explanatory way"
   ]
  },
  {
   "cell_type": "code",
   "execution_count": null,
   "id": "ef5cab4f",
   "metadata": {},
   "outputs": [],
   "source": [
    "# Number of null values for each column in train and test dataset \n",
    "\n",
    "print(\"Training data missing values\")\n",
    "display(train_df.isnull().sum())\n",
    "print(\"*\"*100)\n",
    "print(\"Testing data missing values\")\n",
    "display(test_df.isnull().sum())"
   ]
  },
  {
   "cell_type": "markdown",
   "id": "fff59e5d",
   "metadata": {},
   "source": [
    "##### Missing Values insights\n",
    "In the <strong>train data</strong> columns with missing values are:\n",
    "<ul>\n",
    "    <li> Age : 177 values</li>\n",
    "    <li> Cabin : 678 Values</li>\n",
    "    <li> Embarked : 2 Values</li>\n",
    "   </ul>\n",
    "In the <strong>test data</strong> columns with missing values are:\n",
    "<ul>\n",
    "    <li> Age : 86 values</li>\n",
    "    <li> Cabin : 327 Values</li>\n",
    "</ul>"
   ]
  },
  {
   "cell_type": "code",
   "execution_count": null,
   "id": "4a61bf39",
   "metadata": {},
   "outputs": [],
   "source": [
    "# Checking for any duplicate rows\n"
   ]
  },
  {
   "cell_type": "markdown",
   "id": "aa6ef0ae",
   "metadata": {},
   "source": [
    "The <strong>Cabin column</strong> has a lot of missing values which means it can not be an influential feature in training the model.<br>\n",
    "Therefore the best option is to drop it"
   ]
  },
  {
   "cell_type": "code",
   "execution_count": null,
   "id": "a0616763",
   "metadata": {},
   "outputs": [],
   "source": [
    "# Dropping the Cabin Colunm\n",
    "\n",
    "train_df = train_df.drop(['Cabin'], axis = 1)\n",
    "test_df = test_df.drop(['Cabin'], axis = 1)"
   ]
  },
  {
   "cell_type": "markdown",
   "id": "9d19a8d1",
   "metadata": {},
   "source": [
    "### Exploratory Data Analysis (EDA)\n",
    "EDA is carrying out an indepth analysis of the data so as to discover hidden patterns, data anormalies, and test hypothesis/assumptions<br>\n",
    "We will use statistical methods and visuals(graphical) "
   ]
  },
  {
   "cell_type": "markdown",
   "id": "1a71da8e",
   "metadata": {},
   "source": [
    "We will first sort out the missing values"
   ]
  },
  {
   "cell_type": "code",
   "execution_count": null,
   "id": "645bdff0",
   "metadata": {},
   "outputs": [],
   "source": [
    "print('Train data: Missing age Values')\n",
    "display(train_df.Age.isnull().value_counts())\n",
    "\n",
    "print('-'*100)\n",
    "print('Test data: Missing age Values')\n",
    "display(test_df.Age.isnull().value_counts())\n"
   ]
  },
  {
   "cell_type": "markdown",
   "id": "bf9aa1db",
   "metadata": {},
   "source": [
    "There are so many values of age that are missing.<br>\n",
    "<ol>\n",
    "<li> Train data: 177</li>\n",
    "<li> Test Data: 86</li>\n",
    "</ol>\n",
    "Since age is a critical factor in the prediction, we cannot drop the column.<br>\n",
    "As a result we need to take care of the missing values in either of the following ways:\n",
    "<ul>\n",
    "<li> Use mean age values</li>\n",
    "<li> Try to allocate values randomly around the mean i.e choose random values between 25 and 75 percentile</li>\n",
    "</ul>\n",
    "<br>"
   ]
  },
  {
   "cell_type": "code",
   "execution_count": null,
   "id": "b8a8e0ad",
   "metadata": {},
   "outputs": [],
   "source": [
    "print('Train data: Age description')\n",
    "display(train_df.Age.describe())\n",
    "\n",
    "print('-'*100)\n",
    "print('Test data: Age description')\n",
    "display(test_df.Age.describe())"
   ]
  },
  {
   "cell_type": "markdown",
   "id": "4185d8ad",
   "metadata": {},
   "source": [
    "We neeed to <strong>drop</strong> some columns as we do not need them.\n",
    "<ul>\n",
    "    <li>For the <strong>categorical</strong> data we need to drop the following columns</li>\n",
    "    <ol>\n",
    "        <li>Name</li>\n",
    "        <li>Ticket</li>\n",
    "    </ol>\n",
    "    <li>For the <strong>numerical</strong> data we need to drop the following columns</li>\n",
    "    <ol>\n",
    "        <li>PassengerId</li>\n",
    "        <li>Survived</li>\n",
    "    </ol>\n",
    "</ul> "
   ]
  },
  {
   "cell_type": "code",
   "execution_count": null,
   "id": "5cded3bf",
   "metadata": {},
   "outputs": [],
   "source": [
    "#  Dropping hte columns\n",
    "cat_df = train_df[[\"Sex\", \"Pclass\", \"Embarked\", \"Parch\",\"SibSp\"]]\n",
    "num_df = train_df[[\"Age\", \"Fare\", \"Parch\",\"SibSp\"]]"
   ]
  },
  {
   "cell_type": "code",
   "execution_count": null,
   "id": "15a01dae",
   "metadata": {},
   "outputs": [],
   "source": [
    "# plot numerical data\n",
    "\n",
    "fig = plt.figure(figsize = (16,8))\n",
    "\n",
    "for i in range(len(num_df.columns)):\n",
    "    column = num_df.columns[i]\n",
    "    sub = fig.add_subplot(2,2,i+1)\n",
    "    chart = sns.boxplot(data = train_df, y = column, x = 'Survived', palette = 'PuBuGn')"
   ]
  },
  {
   "cell_type": "code",
   "execution_count": null,
   "id": "86a2380b",
   "metadata": {},
   "outputs": [],
   "source": [
    "# plot categorical data\n",
    "\n",
    "fig = plt.figure(figsize = (16,8))\n",
    "\n",
    "for i in range(len(cat_df.columns)):\n",
    "    column = cat_df.columns[i]\n",
    "    sub = fig.add_subplot(2,3,i+1)\n",
    "    chart = sns.countplot(data = train_df, hue = 'Survived', y = column, palette = 'PuBuGn')"
   ]
  },
  {
   "cell_type": "code",
   "execution_count": null,
   "id": "2cd0b63b",
   "metadata": {},
   "outputs": [],
   "source": []
  },
  {
   "cell_type": "code",
   "execution_count": null,
   "id": "d50de8e3",
   "metadata": {},
   "outputs": [],
   "source": []
  },
  {
   "cell_type": "code",
   "execution_count": null,
   "id": "7f886849",
   "metadata": {},
   "outputs": [],
   "source": [
    "# gender difference on board the titanic\n",
    "males_on_board = train_df.loc[train_df.Sex == 'male']\n",
    "percentage_males = (len(males_on_board)/train_df.shape[0])*100\n",
    "print(f\"Number of males on board = {len(males_on_board)} which is {round(percentage_males, 2)}%\")\n",
    "\n",
    "females_on_board = train_df.loc[train_df.Sex == 'female']\n",
    "percentage_females = (len(females_on_board)/train_df.shape[0])*100\n",
    "print(f\"Number of females on board = {len(females_on_board)} which is {round(percentage_females, 2)}%\\n\\n\")\n",
    "\n",
    "# Get survival rate for both females and male\n",
    "male_survival = males_on_board.loc[males_on_board.Survived == 1]\n",
    "print(f\"% of male survival: {len(male_survival)/males_on_board.shape[0]*100} %\")\n",
    "\n",
    "female_survival = females_on_board.loc[females_on_board.Survived == 1]\n",
    "print(f\"% of female survival: {len(female_survival)/females_on_board.shape[0]*100} %\\n\")\n"
   ]
  },
  {
   "cell_type": "code",
   "execution_count": null,
   "id": "fbdde6cd",
   "metadata": {},
   "outputs": [],
   "source": [
    "# plot sex distribution on board\n",
    "\n",
    "fig = plt.figure(figsize = (10,8))\n",
    "\n",
    "fig.add_subplot(221)\n",
    "plt.title('Sex Distribution on the titanic')\n",
    "plt.pie(data = train_df[\"Sex\"], x = train_df.Sex.value_counts(), \n",
    "        labels = ['Male','Female'], autopct = '%.2f%%')\n",
    "\n",
    "\n",
    "fig.add_subplot(222)\n",
    "plt.title(\"Survival distribution of both sex\")\n",
    "sns.violinplot(data = train_df, x=train_df[\"Sex\"],\n",
    "           y = train_df['Age'], hue = train_df[\"Survived\"],\n",
    "              split=True)\n",
    "\n",
    "\n",
    "fig.add_subplot(212)\n",
    "plt.title(\"Survival distribution of diffrent ages\")\n",
    "sns.histplot(data = train_df, x=train_df[\"Age\"],\n",
    "           kde = True, hue = train_df[\"Survived\"],\n",
    "              bins = 16, stat = 'count')"
   ]
  },
  {
   "cell_type": "markdown",
   "id": "8fe0e612",
   "metadata": {},
   "source": [
    "#### Survival distribution of both males and females"
   ]
  },
  {
   "cell_type": "code",
   "execution_count": null,
   "id": "3d3c2618",
   "metadata": {},
   "outputs": [],
   "source": [
    "fig = plt.figure(figsize = (10,5))\n",
    "\n",
    "# Survival rates for males\n",
    "fig.add_subplot(121)\n",
    "plt.title(\"Survival rates for males\")\n",
    "sns.histplot(data = train_df[train_df[\"Sex\"] == \"male\"], \n",
    "            x = train_df[\"Age\"], hue = train_df['Survived'], kde = True,\n",
    "            bins = 16, stat = 'count')\n",
    "\n",
    "# Survival rates for females\n",
    "fig.add_subplot(122)\n",
    "plt.title(\"Survival rates for females\")\n",
    "sns.histplot(data = train_df[train_df[\"Sex\"] == \"female\"], \n",
    "            x = train_df[\"Age\"], hue = train_df['Survived'],\n",
    "            kde = True, bins = 12, stat = 'count')\n"
   ]
  },
  {
   "cell_type": "markdown",
   "id": "62493b35",
   "metadata": {},
   "source": [
    "## processing text data"
   ]
  },
  {
   "cell_type": "code",
   "execution_count": null,
   "id": "3160802c",
   "metadata": {},
   "outputs": [],
   "source": [
    "display(train_df[['Name','Ticket']].head())"
   ]
  },
  {
   "cell_type": "markdown",
   "id": "e8cadb4d",
   "metadata": {},
   "source": [
    "We can tell that a passangers tittle is oncluded in the Name.<br>\n",
    "we need to extract the titles<br>\n",
    "Later, we will need to drop the ticket as we don't have any meanngfll information we can get from it"
   ]
  },
  {
   "cell_type": "markdown",
   "id": "3aeb1ad9",
   "metadata": {},
   "source": [
    "### Extract title from name"
   ]
  },
  {
   "cell_type": "code",
   "execution_count": null,
   "id": "10632781",
   "metadata": {},
   "outputs": [],
   "source": [
    "# We will extract titles from both train and testing\n",
    "import re\n",
    "\n",
    "train_df['Title'] = train_df['Name'].str.extract(r'([A-Za-z]+)\\.')\n",
    "test_df['Title'] = test_df['Name'].str.extract(r'([A-Za-z]+)\\.')\n",
    "\n",
    "print(\"Titles in train data/n\")\n",
    "display(train_df.Title.value_counts())\n",
    "print('Titles in the test data')\n",
    "display(test_df.Title.value_counts())\n",
    "print('*'*100)\n",
    "\n",
    "# Check missing title values\n",
    "print('Missing Title values in train data')\n",
    "display(train_df.Title.isnull().value_counts())\n",
    "\n",
    "print('Missing Title values in test data')\n",
    "display(test_df.Title.isnull().value_counts())\n"
   ]
  },
  {
   "cell_type": "markdown",
   "id": "b43bfd10",
   "metadata": {},
   "source": [
    "All passangers had a title and as shown, no missing values in the titles<br><br>\n",
    "We want to clean the titles so that we can have the fillowing categories:\n",
    "<ul>\n",
    "<li>Mr.</li>\n",
    "<li>Mrs.</li>\n",
    "<li>Miss.</li>\n",
    "<li>Other.</li>\n",
    "</ul>\n"
   ]
  },
  {
   "cell_type": "code",
   "execution_count": null,
   "id": "bf9461f5",
   "metadata": {},
   "outputs": [],
   "source": [
    "# train data titles\n",
    "for data in [train_df]:\n",
    "    data['Title'] = data['Title'].replace(['Mr', 'Master', 'Capt', 'Sir', 'Don'], 'Mr')\n",
    "    data['Title'] = data['Title'].replace(['Mrs', 'Countess', 'Lady'], 'Mrs')\n",
    "    data['Title'] = data['Title'].replace(['Miss', 'Mlle', 'Ms'], 'Miss')\n",
    "    data['Title'] = data['Title'].replace(['Dr', 'Rev', 'Mme', 'Col', 'Dona','Jonkheer', 'Major'], 'Other')\n",
    "\n",
    "print('New titles for passangers onboard --train data')\n",
    "display(train_df['Title'].value_counts())"
   ]
  },
  {
   "cell_type": "code",
   "execution_count": null,
   "id": "954558c7",
   "metadata": {},
   "outputs": [],
   "source": [
    "# test data titles\n",
    "for data in [test_df]:\n",
    "    data['Title'] = data['Title'].replace(['Mr', 'Master', 'Capt', 'Sir', 'Don'], 'Mr')\n",
    "    data['Title'] = data['Title'].replace(['Mrs', 'Countess', 'Lady'], 'Mrs')\n",
    "    data['Title'] = data['Title'].replace(['Miss', 'Mlle', 'Ms'], 'Miss')\n",
    "    data['Title'] = data['Title'].replace(['Dr', 'Rev', 'Mme', 'Col', 'Dona','Jonkheer', 'Major'], 'Other')\n",
    "\n",
    "print('New titles for passangers onboard --test data')\n",
    "display(test_df['Title'].value_counts())"
   ]
  },
  {
   "cell_type": "markdown",
   "id": "7b9e1fe2",
   "metadata": {},
   "source": [
    "#### Survival rates for titles"
   ]
  },
  {
   "cell_type": "code",
   "execution_count": null,
   "id": "fc129cf8",
   "metadata": {},
   "outputs": [],
   "source": [
    "display(train_df[['Title', 'Survived']].groupby(['Title'], as_index=True).mean())"
   ]
  },
  {
   "cell_type": "markdown",
   "id": "0e8d5301",
   "metadata": {},
   "source": [
    "As expected Mrs and Miss should have a high survivaility rate as compated to the Mr and Others"
   ]
  },
  {
   "cell_type": "markdown",
   "id": "df047667",
   "metadata": {},
   "source": [
    "Lets check the mean and median diffrence between train and testing data"
   ]
  },
  {
   "cell_type": "code",
   "execution_count": null,
   "id": "0f67f1ce",
   "metadata": {},
   "outputs": [],
   "source": [
    "centralized_df = pd.DataFrame(columns=['Feature', 'train_mean', 'test_mean', 'train_median', 'test_median'])\n",
    "\n",
    "feature_list = ['Title', 'Embarked', 'Pclass', 'Sex']\n",
    "\n",
    "for i in feature_list:\n",
    "    for j in train_df[i].unique():\n",
    "        new_df = pd.DataFrame({\n",
    "            'Feature':[j],\n",
    "            'train_mean': [format(train_df[train_df[i] == j]['Age'].mean(), '.1f')],\n",
    "            'test_mean': [format(test_df[test_df[i] == j]['Age'].mean(), '.1f')],\n",
    "            'train_median': [train_df[train_df[i] == j]['Age'].median()],\n",
    "            'test_median': [test_df[test_df[i] == j]['Age'].median()]\n",
    "        })\n",
    "        centralized_df = pd.concat([centralized_df, new_df], ignore_index=True)\n",
    "\n",
    "centralized_df['train_diff'] = centralized_df.train_mean.astype('float') - centralized_df.train_median\n",
    "centralized_df['test_diff'] = centralized_df.test_mean.astype('float') - centralized_df.test_median\n",
    "\n",
    "centralized_df"
   ]
  },
  {
   "cell_type": "code",
   "execution_count": null,
   "id": "6beb4633",
   "metadata": {},
   "outputs": [],
   "source": []
  },
  {
   "cell_type": "code",
   "execution_count": null,
   "id": "010413c0",
   "metadata": {},
   "outputs": [],
   "source": []
  },
  {
   "cell_type": "code",
   "execution_count": null,
   "id": "2a4fe12d",
   "metadata": {},
   "outputs": [],
   "source": []
  },
  {
   "cell_type": "code",
   "execution_count": null,
   "id": "b0142727",
   "metadata": {},
   "outputs": [],
   "source": []
  },
  {
   "cell_type": "code",
   "execution_count": null,
   "id": "03248aa9",
   "metadata": {},
   "outputs": [],
   "source": []
  },
  {
   "cell_type": "code",
   "execution_count": null,
   "id": "185d9825",
   "metadata": {},
   "outputs": [],
   "source": []
  },
  {
   "cell_type": "code",
   "execution_count": null,
   "id": "cf60dd66",
   "metadata": {},
   "outputs": [],
   "source": []
  },
  {
   "cell_type": "code",
   "execution_count": null,
   "id": "7cbfeadb",
   "metadata": {},
   "outputs": [],
   "source": []
  },
  {
   "cell_type": "code",
   "execution_count": null,
   "id": "2039da36",
   "metadata": {},
   "outputs": [],
   "source": []
  },
  {
   "cell_type": "code",
   "execution_count": null,
   "id": "4334408d",
   "metadata": {},
   "outputs": [],
   "source": []
  },
  {
   "cell_type": "code",
   "execution_count": null,
   "id": "5224dcad",
   "metadata": {},
   "outputs": [],
   "source": []
  },
  {
   "cell_type": "code",
   "execution_count": null,
   "id": "13a160fd",
   "metadata": {},
   "outputs": [],
   "source": []
  },
  {
   "cell_type": "code",
   "execution_count": null,
   "id": "adbea2c2",
   "metadata": {},
   "outputs": [],
   "source": []
  },
  {
   "cell_type": "code",
   "execution_count": null,
   "id": "0f84b90a",
   "metadata": {},
   "outputs": [],
   "source": []
  },
  {
   "cell_type": "code",
   "execution_count": null,
   "id": "f61a3461",
   "metadata": {},
   "outputs": [],
   "source": []
  },
  {
   "cell_type": "code",
   "execution_count": null,
   "id": "8d6e13ef",
   "metadata": {},
   "outputs": [],
   "source": []
  },
  {
   "cell_type": "code",
   "execution_count": null,
   "id": "6144eff6",
   "metadata": {},
   "outputs": [],
   "source": []
  },
  {
   "cell_type": "code",
   "execution_count": null,
   "id": "163a56b4",
   "metadata": {},
   "outputs": [],
   "source": []
  }
 ],
 "metadata": {
  "kernelspec": {
   "display_name": "Python 3",
   "language": "python",
   "name": "python3"
  },
  "language_info": {
   "codemirror_mode": {
    "name": "ipython",
    "version": 3
   },
   "file_extension": ".py",
   "mimetype": "text/x-python",
   "name": "python",
   "nbconvert_exporter": "python",
   "pygments_lexer": "ipython3",
   "version": "3.8.8"
  },
  "vscode": {
   "interpreter": {
    "hash": "04b2e48da8715d0e03ed003238e610aa18fc3abec3b418b1e66df75f2c0e936e"
   }
  }
 },
 "nbformat": 4,
 "nbformat_minor": 5
}
