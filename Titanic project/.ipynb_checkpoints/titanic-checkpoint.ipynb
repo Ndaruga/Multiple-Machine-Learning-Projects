{
 "cells": [
  {
   "cell_type": "markdown",
   "id": "1e3228ab",
   "metadata": {},
   "source": [
    "## The Titanic Project"
   ]
  },
  {
   "cell_type": "code",
   "execution_count": 1,
   "id": "d8f638a4",
   "metadata": {},
   "outputs": [],
   "source": [
    "import os\n",
    "import pandas as pd\n",
    "import numpy as np\n",
    "import matplotlib.pyplot as plt\n",
    "import seaborn as sns\n",
    "\n",
    "import warnings\n",
    "warnings.filterwarnings(\"ignore\")"
   ]
  },
  {
   "cell_type": "code",
   "execution_count": 2,
   "id": "b409b36f",
   "metadata": {},
   "outputs": [],
   "source": [
    "data_dir = \"Titanic Data\""
   ]
  },
  {
   "cell_type": "code",
   "execution_count": 3,
   "id": "d6156c48",
   "metadata": {},
   "outputs": [
    {
     "data": {
      "text/html": [
       "<div>\n",
       "<style scoped>\n",
       "    .dataframe tbody tr th:only-of-type {\n",
       "        vertical-align: middle;\n",
       "    }\n",
       "\n",
       "    .dataframe tbody tr th {\n",
       "        vertical-align: top;\n",
       "    }\n",
       "\n",
       "    .dataframe thead th {\n",
       "        text-align: right;\n",
       "    }\n",
       "</style>\n",
       "<table border=\"1\" class=\"dataframe\">\n",
       "  <thead>\n",
       "    <tr style=\"text-align: right;\">\n",
       "      <th></th>\n",
       "      <th>PassengerId</th>\n",
       "      <th>Survived</th>\n",
       "      <th>Pclass</th>\n",
       "      <th>Name</th>\n",
       "      <th>Sex</th>\n",
       "      <th>Age</th>\n",
       "      <th>SibSp</th>\n",
       "      <th>Parch</th>\n",
       "      <th>Ticket</th>\n",
       "      <th>Fare</th>\n",
       "      <th>Cabin</th>\n",
       "      <th>Embarked</th>\n",
       "    </tr>\n",
       "  </thead>\n",
       "  <tbody>\n",
       "    <tr>\n",
       "      <th>0</th>\n",
       "      <td>1</td>\n",
       "      <td>0</td>\n",
       "      <td>3</td>\n",
       "      <td>Braund, Mr. Owen Harris</td>\n",
       "      <td>male</td>\n",
       "      <td>22.0</td>\n",
       "      <td>1</td>\n",
       "      <td>0</td>\n",
       "      <td>A/5 21171</td>\n",
       "      <td>7.2500</td>\n",
       "      <td>NaN</td>\n",
       "      <td>S</td>\n",
       "    </tr>\n",
       "    <tr>\n",
       "      <th>1</th>\n",
       "      <td>2</td>\n",
       "      <td>1</td>\n",
       "      <td>1</td>\n",
       "      <td>Cumings, Mrs. John Bradley (Florence Briggs Th...</td>\n",
       "      <td>female</td>\n",
       "      <td>38.0</td>\n",
       "      <td>1</td>\n",
       "      <td>0</td>\n",
       "      <td>PC 17599</td>\n",
       "      <td>71.2833</td>\n",
       "      <td>C85</td>\n",
       "      <td>C</td>\n",
       "    </tr>\n",
       "    <tr>\n",
       "      <th>2</th>\n",
       "      <td>3</td>\n",
       "      <td>1</td>\n",
       "      <td>3</td>\n",
       "      <td>Heikkinen, Miss. Laina</td>\n",
       "      <td>female</td>\n",
       "      <td>26.0</td>\n",
       "      <td>0</td>\n",
       "      <td>0</td>\n",
       "      <td>STON/O2. 3101282</td>\n",
       "      <td>7.9250</td>\n",
       "      <td>NaN</td>\n",
       "      <td>S</td>\n",
       "    </tr>\n",
       "    <tr>\n",
       "      <th>3</th>\n",
       "      <td>4</td>\n",
       "      <td>1</td>\n",
       "      <td>1</td>\n",
       "      <td>Futrelle, Mrs. Jacques Heath (Lily May Peel)</td>\n",
       "      <td>female</td>\n",
       "      <td>35.0</td>\n",
       "      <td>1</td>\n",
       "      <td>0</td>\n",
       "      <td>113803</td>\n",
       "      <td>53.1000</td>\n",
       "      <td>C123</td>\n",
       "      <td>S</td>\n",
       "    </tr>\n",
       "    <tr>\n",
       "      <th>4</th>\n",
       "      <td>5</td>\n",
       "      <td>0</td>\n",
       "      <td>3</td>\n",
       "      <td>Allen, Mr. William Henry</td>\n",
       "      <td>male</td>\n",
       "      <td>35.0</td>\n",
       "      <td>0</td>\n",
       "      <td>0</td>\n",
       "      <td>373450</td>\n",
       "      <td>8.0500</td>\n",
       "      <td>NaN</td>\n",
       "      <td>S</td>\n",
       "    </tr>\n",
       "  </tbody>\n",
       "</table>\n",
       "</div>"
      ],
      "text/plain": [
       "   PassengerId  Survived  Pclass  \\\n",
       "0            1         0       3   \n",
       "1            2         1       1   \n",
       "2            3         1       3   \n",
       "3            4         1       1   \n",
       "4            5         0       3   \n",
       "\n",
       "                                                Name     Sex   Age  SibSp  \\\n",
       "0                            Braund, Mr. Owen Harris    male  22.0      1   \n",
       "1  Cumings, Mrs. John Bradley (Florence Briggs Th...  female  38.0      1   \n",
       "2                             Heikkinen, Miss. Laina  female  26.0      0   \n",
       "3       Futrelle, Mrs. Jacques Heath (Lily May Peel)  female  35.0      1   \n",
       "4                           Allen, Mr. William Henry    male  35.0      0   \n",
       "\n",
       "   Parch            Ticket     Fare Cabin Embarked  \n",
       "0      0         A/5 21171   7.2500   NaN        S  \n",
       "1      0          PC 17599  71.2833   C85        C  \n",
       "2      0  STON/O2. 3101282   7.9250   NaN        S  \n",
       "3      0            113803  53.1000  C123        S  \n",
       "4      0            373450   8.0500   NaN        S  "
      ]
     },
     "execution_count": 3,
     "metadata": {},
     "output_type": "execute_result"
    }
   ],
   "source": [
    "train_df = pd.read_csv(os.path.join(data_dir, \"train.csv\"))\n",
    "train_df.head()"
   ]
  },
  {
   "cell_type": "code",
   "execution_count": 4,
   "id": "c3f8ccb3",
   "metadata": {},
   "outputs": [
    {
     "data": {
      "text/html": [
       "<div>\n",
       "<style scoped>\n",
       "    .dataframe tbody tr th:only-of-type {\n",
       "        vertical-align: middle;\n",
       "    }\n",
       "\n",
       "    .dataframe tbody tr th {\n",
       "        vertical-align: top;\n",
       "    }\n",
       "\n",
       "    .dataframe thead th {\n",
       "        text-align: right;\n",
       "    }\n",
       "</style>\n",
       "<table border=\"1\" class=\"dataframe\">\n",
       "  <thead>\n",
       "    <tr style=\"text-align: right;\">\n",
       "      <th></th>\n",
       "      <th>PassengerId</th>\n",
       "      <th>Pclass</th>\n",
       "      <th>Name</th>\n",
       "      <th>Sex</th>\n",
       "      <th>Age</th>\n",
       "      <th>SibSp</th>\n",
       "      <th>Parch</th>\n",
       "      <th>Ticket</th>\n",
       "      <th>Fare</th>\n",
       "      <th>Cabin</th>\n",
       "      <th>Embarked</th>\n",
       "    </tr>\n",
       "  </thead>\n",
       "  <tbody>\n",
       "    <tr>\n",
       "      <th>0</th>\n",
       "      <td>892</td>\n",
       "      <td>3</td>\n",
       "      <td>Kelly, Mr. James</td>\n",
       "      <td>male</td>\n",
       "      <td>34.5</td>\n",
       "      <td>0</td>\n",
       "      <td>0</td>\n",
       "      <td>330911</td>\n",
       "      <td>7.8292</td>\n",
       "      <td>NaN</td>\n",
       "      <td>Q</td>\n",
       "    </tr>\n",
       "    <tr>\n",
       "      <th>1</th>\n",
       "      <td>893</td>\n",
       "      <td>3</td>\n",
       "      <td>Wilkes, Mrs. James (Ellen Needs)</td>\n",
       "      <td>female</td>\n",
       "      <td>47.0</td>\n",
       "      <td>1</td>\n",
       "      <td>0</td>\n",
       "      <td>363272</td>\n",
       "      <td>7.0000</td>\n",
       "      <td>NaN</td>\n",
       "      <td>S</td>\n",
       "    </tr>\n",
       "    <tr>\n",
       "      <th>2</th>\n",
       "      <td>894</td>\n",
       "      <td>2</td>\n",
       "      <td>Myles, Mr. Thomas Francis</td>\n",
       "      <td>male</td>\n",
       "      <td>62.0</td>\n",
       "      <td>0</td>\n",
       "      <td>0</td>\n",
       "      <td>240276</td>\n",
       "      <td>9.6875</td>\n",
       "      <td>NaN</td>\n",
       "      <td>Q</td>\n",
       "    </tr>\n",
       "    <tr>\n",
       "      <th>3</th>\n",
       "      <td>895</td>\n",
       "      <td>3</td>\n",
       "      <td>Wirz, Mr. Albert</td>\n",
       "      <td>male</td>\n",
       "      <td>27.0</td>\n",
       "      <td>0</td>\n",
       "      <td>0</td>\n",
       "      <td>315154</td>\n",
       "      <td>8.6625</td>\n",
       "      <td>NaN</td>\n",
       "      <td>S</td>\n",
       "    </tr>\n",
       "    <tr>\n",
       "      <th>4</th>\n",
       "      <td>896</td>\n",
       "      <td>3</td>\n",
       "      <td>Hirvonen, Mrs. Alexander (Helga E Lindqvist)</td>\n",
       "      <td>female</td>\n",
       "      <td>22.0</td>\n",
       "      <td>1</td>\n",
       "      <td>1</td>\n",
       "      <td>3101298</td>\n",
       "      <td>12.2875</td>\n",
       "      <td>NaN</td>\n",
       "      <td>S</td>\n",
       "    </tr>\n",
       "  </tbody>\n",
       "</table>\n",
       "</div>"
      ],
      "text/plain": [
       "   PassengerId  Pclass                                          Name     Sex  \\\n",
       "0          892       3                              Kelly, Mr. James    male   \n",
       "1          893       3              Wilkes, Mrs. James (Ellen Needs)  female   \n",
       "2          894       2                     Myles, Mr. Thomas Francis    male   \n",
       "3          895       3                              Wirz, Mr. Albert    male   \n",
       "4          896       3  Hirvonen, Mrs. Alexander (Helga E Lindqvist)  female   \n",
       "\n",
       "    Age  SibSp  Parch   Ticket     Fare Cabin Embarked  \n",
       "0  34.5      0      0   330911   7.8292   NaN        Q  \n",
       "1  47.0      1      0   363272   7.0000   NaN        S  \n",
       "2  62.0      0      0   240276   9.6875   NaN        Q  \n",
       "3  27.0      0      0   315154   8.6625   NaN        S  \n",
       "4  22.0      1      1  3101298  12.2875   NaN        S  "
      ]
     },
     "execution_count": 4,
     "metadata": {},
     "output_type": "execute_result"
    }
   ],
   "source": [
    "test_df = pd.read_csv(os.path.join(data_dir, \"test.csv\"))\n",
    "test_df.head()"
   ]
  },
  {
   "cell_type": "markdown",
   "id": "10aebf39",
   "metadata": {},
   "source": [
    "### Primary data analysis\n"
   ]
  },
  {
   "cell_type": "code",
   "execution_count": 5,
   "id": "119e6ac0",
   "metadata": {},
   "outputs": [
    {
     "name": "stdout",
     "output_type": "stream",
     "text": [
      "train dataset shape: (891, 12)\n",
      "test dataset shape : (418, 11)\n"
     ]
    }
   ],
   "source": [
    "print(f\"train dataset shape: {train_df.shape}\")\n",
    "print(f\"test dataset shape : {test_df.shape}\")"
   ]
  },
  {
   "cell_type": "markdown",
   "id": "bff89957",
   "metadata": {},
   "source": [
    "<br>The gender sumbission file contains only two column features.<br>\n",
    "A closer look at the columns, it contains the <strong>survival status of the passengers</strong> i.e survived or passed away.<br>\n",
    "It is also a subset of the <strong>test dataset</strong>.<br>\n",
    "<br>\n",
    "This implies that we will use it to evaluate our model accuracy\n"
   ]
  },
  {
   "cell_type": "code",
   "execution_count": 6,
   "id": "62f57159",
   "metadata": {},
   "outputs": [
    {
     "name": "stdout",
     "output_type": "stream",
     "text": [
      "Training dataset description information\n"
     ]
    },
    {
     "data": {
      "text/html": [
       "<div>\n",
       "<style scoped>\n",
       "    .dataframe tbody tr th:only-of-type {\n",
       "        vertical-align: middle;\n",
       "    }\n",
       "\n",
       "    .dataframe tbody tr th {\n",
       "        vertical-align: top;\n",
       "    }\n",
       "\n",
       "    .dataframe thead th {\n",
       "        text-align: right;\n",
       "    }\n",
       "</style>\n",
       "<table border=\"1\" class=\"dataframe\">\n",
       "  <thead>\n",
       "    <tr style=\"text-align: right;\">\n",
       "      <th></th>\n",
       "      <th>Name</th>\n",
       "      <th>Sex</th>\n",
       "      <th>Ticket</th>\n",
       "      <th>Cabin</th>\n",
       "      <th>Embarked</th>\n",
       "    </tr>\n",
       "  </thead>\n",
       "  <tbody>\n",
       "    <tr>\n",
       "      <th>count</th>\n",
       "      <td>891</td>\n",
       "      <td>891</td>\n",
       "      <td>891</td>\n",
       "      <td>204</td>\n",
       "      <td>889</td>\n",
       "    </tr>\n",
       "    <tr>\n",
       "      <th>unique</th>\n",
       "      <td>891</td>\n",
       "      <td>2</td>\n",
       "      <td>681</td>\n",
       "      <td>147</td>\n",
       "      <td>3</td>\n",
       "    </tr>\n",
       "    <tr>\n",
       "      <th>top</th>\n",
       "      <td>Goodwin, Master. Sidney Leonard</td>\n",
       "      <td>male</td>\n",
       "      <td>CA. 2343</td>\n",
       "      <td>C23 C25 C27</td>\n",
       "      <td>S</td>\n",
       "    </tr>\n",
       "    <tr>\n",
       "      <th>freq</th>\n",
       "      <td>1</td>\n",
       "      <td>577</td>\n",
       "      <td>7</td>\n",
       "      <td>4</td>\n",
       "      <td>644</td>\n",
       "    </tr>\n",
       "  </tbody>\n",
       "</table>\n",
       "</div>"
      ],
      "text/plain": [
       "                                   Name   Sex    Ticket        Cabin Embarked\n",
       "count                               891   891       891          204      889\n",
       "unique                              891     2       681          147        3\n",
       "top     Goodwin, Master. Sidney Leonard  male  CA. 2343  C23 C25 C27        S\n",
       "freq                                  1   577         7            4      644"
      ]
     },
     "metadata": {},
     "output_type": "display_data"
    },
    {
     "data": {
      "text/html": [
       "<div>\n",
       "<style scoped>\n",
       "    .dataframe tbody tr th:only-of-type {\n",
       "        vertical-align: middle;\n",
       "    }\n",
       "\n",
       "    .dataframe tbody tr th {\n",
       "        vertical-align: top;\n",
       "    }\n",
       "\n",
       "    .dataframe thead th {\n",
       "        text-align: right;\n",
       "    }\n",
       "</style>\n",
       "<table border=\"1\" class=\"dataframe\">\n",
       "  <thead>\n",
       "    <tr style=\"text-align: right;\">\n",
       "      <th></th>\n",
       "      <th>PassengerId</th>\n",
       "      <th>Survived</th>\n",
       "      <th>Pclass</th>\n",
       "      <th>Age</th>\n",
       "      <th>SibSp</th>\n",
       "      <th>Parch</th>\n",
       "      <th>Fare</th>\n",
       "    </tr>\n",
       "  </thead>\n",
       "  <tbody>\n",
       "    <tr>\n",
       "      <th>count</th>\n",
       "      <td>891.000000</td>\n",
       "      <td>891.000000</td>\n",
       "      <td>891.000000</td>\n",
       "      <td>714.000000</td>\n",
       "      <td>891.000000</td>\n",
       "      <td>891.000000</td>\n",
       "      <td>891.000000</td>\n",
       "    </tr>\n",
       "    <tr>\n",
       "      <th>mean</th>\n",
       "      <td>446.000000</td>\n",
       "      <td>0.383838</td>\n",
       "      <td>2.308642</td>\n",
       "      <td>29.699118</td>\n",
       "      <td>0.523008</td>\n",
       "      <td>0.381594</td>\n",
       "      <td>32.204208</td>\n",
       "    </tr>\n",
       "    <tr>\n",
       "      <th>std</th>\n",
       "      <td>257.353842</td>\n",
       "      <td>0.486592</td>\n",
       "      <td>0.836071</td>\n",
       "      <td>14.526497</td>\n",
       "      <td>1.102743</td>\n",
       "      <td>0.806057</td>\n",
       "      <td>49.693429</td>\n",
       "    </tr>\n",
       "    <tr>\n",
       "      <th>min</th>\n",
       "      <td>1.000000</td>\n",
       "      <td>0.000000</td>\n",
       "      <td>1.000000</td>\n",
       "      <td>0.420000</td>\n",
       "      <td>0.000000</td>\n",
       "      <td>0.000000</td>\n",
       "      <td>0.000000</td>\n",
       "    </tr>\n",
       "    <tr>\n",
       "      <th>25%</th>\n",
       "      <td>223.500000</td>\n",
       "      <td>0.000000</td>\n",
       "      <td>2.000000</td>\n",
       "      <td>20.125000</td>\n",
       "      <td>0.000000</td>\n",
       "      <td>0.000000</td>\n",
       "      <td>7.910400</td>\n",
       "    </tr>\n",
       "    <tr>\n",
       "      <th>50%</th>\n",
       "      <td>446.000000</td>\n",
       "      <td>0.000000</td>\n",
       "      <td>3.000000</td>\n",
       "      <td>28.000000</td>\n",
       "      <td>0.000000</td>\n",
       "      <td>0.000000</td>\n",
       "      <td>14.454200</td>\n",
       "    </tr>\n",
       "    <tr>\n",
       "      <th>75%</th>\n",
       "      <td>668.500000</td>\n",
       "      <td>1.000000</td>\n",
       "      <td>3.000000</td>\n",
       "      <td>38.000000</td>\n",
       "      <td>1.000000</td>\n",
       "      <td>0.000000</td>\n",
       "      <td>31.000000</td>\n",
       "    </tr>\n",
       "    <tr>\n",
       "      <th>max</th>\n",
       "      <td>891.000000</td>\n",
       "      <td>1.000000</td>\n",
       "      <td>3.000000</td>\n",
       "      <td>80.000000</td>\n",
       "      <td>8.000000</td>\n",
       "      <td>6.000000</td>\n",
       "      <td>512.329200</td>\n",
       "    </tr>\n",
       "  </tbody>\n",
       "</table>\n",
       "</div>"
      ],
      "text/plain": [
       "       PassengerId    Survived      Pclass         Age       SibSp  \\\n",
       "count   891.000000  891.000000  891.000000  714.000000  891.000000   \n",
       "mean    446.000000    0.383838    2.308642   29.699118    0.523008   \n",
       "std     257.353842    0.486592    0.836071   14.526497    1.102743   \n",
       "min       1.000000    0.000000    1.000000    0.420000    0.000000   \n",
       "25%     223.500000    0.000000    2.000000   20.125000    0.000000   \n",
       "50%     446.000000    0.000000    3.000000   28.000000    0.000000   \n",
       "75%     668.500000    1.000000    3.000000   38.000000    1.000000   \n",
       "max     891.000000    1.000000    3.000000   80.000000    8.000000   \n",
       "\n",
       "            Parch        Fare  \n",
       "count  891.000000  891.000000  \n",
       "mean     0.381594   32.204208  \n",
       "std      0.806057   49.693429  \n",
       "min      0.000000    0.000000  \n",
       "25%      0.000000    7.910400  \n",
       "50%      0.000000   14.454200  \n",
       "75%      0.000000   31.000000  \n",
       "max      6.000000  512.329200  "
      ]
     },
     "metadata": {},
     "output_type": "display_data"
    },
    {
     "name": "stdout",
     "output_type": "stream",
     "text": [
      "****************************************************************************************************\n",
      "Testing dataset decribe information\n"
     ]
    },
    {
     "data": {
      "text/html": [
       "<div>\n",
       "<style scoped>\n",
       "    .dataframe tbody tr th:only-of-type {\n",
       "        vertical-align: middle;\n",
       "    }\n",
       "\n",
       "    .dataframe tbody tr th {\n",
       "        vertical-align: top;\n",
       "    }\n",
       "\n",
       "    .dataframe thead th {\n",
       "        text-align: right;\n",
       "    }\n",
       "</style>\n",
       "<table border=\"1\" class=\"dataframe\">\n",
       "  <thead>\n",
       "    <tr style=\"text-align: right;\">\n",
       "      <th></th>\n",
       "      <th>Name</th>\n",
       "      <th>Sex</th>\n",
       "      <th>Ticket</th>\n",
       "      <th>Cabin</th>\n",
       "      <th>Embarked</th>\n",
       "    </tr>\n",
       "  </thead>\n",
       "  <tbody>\n",
       "    <tr>\n",
       "      <th>count</th>\n",
       "      <td>418</td>\n",
       "      <td>418</td>\n",
       "      <td>418</td>\n",
       "      <td>91</td>\n",
       "      <td>418</td>\n",
       "    </tr>\n",
       "    <tr>\n",
       "      <th>unique</th>\n",
       "      <td>418</td>\n",
       "      <td>2</td>\n",
       "      <td>363</td>\n",
       "      <td>76</td>\n",
       "      <td>3</td>\n",
       "    </tr>\n",
       "    <tr>\n",
       "      <th>top</th>\n",
       "      <td>Hagardon, Miss. Kate</td>\n",
       "      <td>male</td>\n",
       "      <td>PC 17608</td>\n",
       "      <td>B57 B59 B63 B66</td>\n",
       "      <td>S</td>\n",
       "    </tr>\n",
       "    <tr>\n",
       "      <th>freq</th>\n",
       "      <td>1</td>\n",
       "      <td>266</td>\n",
       "      <td>5</td>\n",
       "      <td>3</td>\n",
       "      <td>270</td>\n",
       "    </tr>\n",
       "  </tbody>\n",
       "</table>\n",
       "</div>"
      ],
      "text/plain": [
       "                        Name   Sex    Ticket            Cabin Embarked\n",
       "count                    418   418       418               91      418\n",
       "unique                   418     2       363               76        3\n",
       "top     Hagardon, Miss. Kate  male  PC 17608  B57 B59 B63 B66        S\n",
       "freq                       1   266         5                3      270"
      ]
     },
     "metadata": {},
     "output_type": "display_data"
    },
    {
     "data": {
      "text/html": [
       "<div>\n",
       "<style scoped>\n",
       "    .dataframe tbody tr th:only-of-type {\n",
       "        vertical-align: middle;\n",
       "    }\n",
       "\n",
       "    .dataframe tbody tr th {\n",
       "        vertical-align: top;\n",
       "    }\n",
       "\n",
       "    .dataframe thead th {\n",
       "        text-align: right;\n",
       "    }\n",
       "</style>\n",
       "<table border=\"1\" class=\"dataframe\">\n",
       "  <thead>\n",
       "    <tr style=\"text-align: right;\">\n",
       "      <th></th>\n",
       "      <th>PassengerId</th>\n",
       "      <th>Pclass</th>\n",
       "      <th>Age</th>\n",
       "      <th>SibSp</th>\n",
       "      <th>Parch</th>\n",
       "      <th>Fare</th>\n",
       "    </tr>\n",
       "  </thead>\n",
       "  <tbody>\n",
       "    <tr>\n",
       "      <th>count</th>\n",
       "      <td>418.000000</td>\n",
       "      <td>418.000000</td>\n",
       "      <td>332.000000</td>\n",
       "      <td>418.000000</td>\n",
       "      <td>418.000000</td>\n",
       "      <td>417.000000</td>\n",
       "    </tr>\n",
       "    <tr>\n",
       "      <th>mean</th>\n",
       "      <td>1100.500000</td>\n",
       "      <td>2.265550</td>\n",
       "      <td>30.272590</td>\n",
       "      <td>0.447368</td>\n",
       "      <td>0.392344</td>\n",
       "      <td>35.627188</td>\n",
       "    </tr>\n",
       "    <tr>\n",
       "      <th>std</th>\n",
       "      <td>120.810458</td>\n",
       "      <td>0.841838</td>\n",
       "      <td>14.181209</td>\n",
       "      <td>0.896760</td>\n",
       "      <td>0.981429</td>\n",
       "      <td>55.907576</td>\n",
       "    </tr>\n",
       "    <tr>\n",
       "      <th>min</th>\n",
       "      <td>892.000000</td>\n",
       "      <td>1.000000</td>\n",
       "      <td>0.170000</td>\n",
       "      <td>0.000000</td>\n",
       "      <td>0.000000</td>\n",
       "      <td>0.000000</td>\n",
       "    </tr>\n",
       "    <tr>\n",
       "      <th>25%</th>\n",
       "      <td>996.250000</td>\n",
       "      <td>1.000000</td>\n",
       "      <td>21.000000</td>\n",
       "      <td>0.000000</td>\n",
       "      <td>0.000000</td>\n",
       "      <td>7.895800</td>\n",
       "    </tr>\n",
       "    <tr>\n",
       "      <th>50%</th>\n",
       "      <td>1100.500000</td>\n",
       "      <td>3.000000</td>\n",
       "      <td>27.000000</td>\n",
       "      <td>0.000000</td>\n",
       "      <td>0.000000</td>\n",
       "      <td>14.454200</td>\n",
       "    </tr>\n",
       "    <tr>\n",
       "      <th>75%</th>\n",
       "      <td>1204.750000</td>\n",
       "      <td>3.000000</td>\n",
       "      <td>39.000000</td>\n",
       "      <td>1.000000</td>\n",
       "      <td>0.000000</td>\n",
       "      <td>31.500000</td>\n",
       "    </tr>\n",
       "    <tr>\n",
       "      <th>max</th>\n",
       "      <td>1309.000000</td>\n",
       "      <td>3.000000</td>\n",
       "      <td>76.000000</td>\n",
       "      <td>8.000000</td>\n",
       "      <td>9.000000</td>\n",
       "      <td>512.329200</td>\n",
       "    </tr>\n",
       "  </tbody>\n",
       "</table>\n",
       "</div>"
      ],
      "text/plain": [
       "       PassengerId      Pclass         Age       SibSp       Parch        Fare\n",
       "count   418.000000  418.000000  332.000000  418.000000  418.000000  417.000000\n",
       "mean   1100.500000    2.265550   30.272590    0.447368    0.392344   35.627188\n",
       "std     120.810458    0.841838   14.181209    0.896760    0.981429   55.907576\n",
       "min     892.000000    1.000000    0.170000    0.000000    0.000000    0.000000\n",
       "25%     996.250000    1.000000   21.000000    0.000000    0.000000    7.895800\n",
       "50%    1100.500000    3.000000   27.000000    0.000000    0.000000   14.454200\n",
       "75%    1204.750000    3.000000   39.000000    1.000000    0.000000   31.500000\n",
       "max    1309.000000    3.000000   76.000000    8.000000    9.000000  512.329200"
      ]
     },
     "metadata": {},
     "output_type": "display_data"
    }
   ],
   "source": [
    "# Check description of both train and testing datasets\n",
    "\n",
    "print(\"Training dataset description information\")\n",
    "display(train_df.describe(include = ['O'])) #this will get information on the object columns\n",
    "display(train_df.describe())\n",
    "print(\"*\"*100)\n",
    "print(\"Testing dataset decribe information\")\n",
    "display(test_df.describe(include= ['O']))\n",
    "display(test_df.describe())"
   ]
  },
  {
   "cell_type": "markdown",
   "id": "a047df03",
   "metadata": {},
   "source": [
    "<h5>Quick Insights</h5>\n",
    "\n",
    "We can already tell that there are <strong> missing values</strong> in both datasets <br>\n",
    "However, lets see their count in a more explanatory way"
   ]
  },
  {
   "cell_type": "code",
   "execution_count": 7,
   "id": "ef5cab4f",
   "metadata": {},
   "outputs": [
    {
     "name": "stdout",
     "output_type": "stream",
     "text": [
      "Training data missing values\n"
     ]
    },
    {
     "data": {
      "text/plain": [
       "PassengerId      0\n",
       "Survived         0\n",
       "Pclass           0\n",
       "Name             0\n",
       "Sex              0\n",
       "Age            177\n",
       "SibSp            0\n",
       "Parch            0\n",
       "Ticket           0\n",
       "Fare             0\n",
       "Cabin          687\n",
       "Embarked         2\n",
       "dtype: int64"
      ]
     },
     "metadata": {},
     "output_type": "display_data"
    },
    {
     "name": "stdout",
     "output_type": "stream",
     "text": [
      "****************************************************************************************************\n",
      "Testing data missing values\n"
     ]
    },
    {
     "data": {
      "text/plain": [
       "PassengerId      0\n",
       "Pclass           0\n",
       "Name             0\n",
       "Sex              0\n",
       "Age             86\n",
       "SibSp            0\n",
       "Parch            0\n",
       "Ticket           0\n",
       "Fare             1\n",
       "Cabin          327\n",
       "Embarked         0\n",
       "dtype: int64"
      ]
     },
     "metadata": {},
     "output_type": "display_data"
    }
   ],
   "source": [
    "# Number of null values for each column in train and test dataset \n",
    "\n",
    "print(\"Training data missing values\")\n",
    "display(train_df.isnull().sum())\n",
    "print(\"*\"*100)\n",
    "print(\"Testing data missing values\")\n",
    "display(test_df.isnull().sum())"
   ]
  },
  {
   "cell_type": "markdown",
   "id": "fff59e5d",
   "metadata": {},
   "source": [
    "##### Missing Values insights\n",
    "In the <strong>train data</strong> columns with missing values are:\n",
    "<ul>\n",
    "    <li> Age : 177 values</li>\n",
    "    <li> Cabin : 678 Values</li>\n",
    "    <li> Embarked : 2 Values</li>\n",
    "   </ul>\n",
    "In the <strong>test data</strong> columns with missing values are:\n",
    "<ul>\n",
    "    <li> Age : 86 values</li>\n",
    "    <li> Cabin : 327 Values</li>\n",
    "</ul>"
   ]
  },
  {
   "cell_type": "code",
   "execution_count": 8,
   "id": "4a61bf39",
   "metadata": {},
   "outputs": [],
   "source": [
    "# Checking for any duplicate rows\n"
   ]
  },
  {
   "cell_type": "markdown",
   "id": "aa6ef0ae",
   "metadata": {},
   "source": [
    "The <strong>Cabin column</strong> has a lot of missing values which means it can not be an influential feature in training the model.<br>\n",
    "Therefore the best option is to drop it"
   ]
  },
  {
   "cell_type": "code",
   "execution_count": 9,
   "id": "a0616763",
   "metadata": {},
   "outputs": [],
   "source": [
    "# Dropping the Cabin Colunm\n",
    "\n",
    "train_df = train_df.drop(['Cabin'], axis = 1)\n",
    "test_df = test_df.drop(['Cabin'], axis = 1)"
   ]
  },
  {
   "cell_type": "markdown",
   "id": "9d19a8d1",
   "metadata": {},
   "source": [
    "### Exploratory Data Analysis (EDA)\n",
    "EDA is carrying out an indepth analysis of the data so as to discover hidden patterns, data anormalies, and test hypothesis/assumptions<br>\n",
    "We will use statistical methods and visuals(graphical) "
   ]
  },
  {
   "cell_type": "markdown",
   "id": "1a71da8e",
   "metadata": {},
   "source": [
    "We will first sort out the missing values"
   ]
  },
  {
   "cell_type": "code",
   "execution_count": 10,
   "id": "645bdff0",
   "metadata": {},
   "outputs": [
    {
     "name": "stdout",
     "output_type": "stream",
     "text": [
      "Train data: Missing age Values\n"
     ]
    },
    {
     "data": {
      "text/plain": [
       "False    714\n",
       "True     177\n",
       "Name: Age, dtype: int64"
      ]
     },
     "metadata": {},
     "output_type": "display_data"
    },
    {
     "name": "stdout",
     "output_type": "stream",
     "text": [
      "----------------------------------------------------------------------------------------------------\n",
      "Test data: Missing age Values\n"
     ]
    },
    {
     "data": {
      "text/plain": [
       "False    332\n",
       "True      86\n",
       "Name: Age, dtype: int64"
      ]
     },
     "metadata": {},
     "output_type": "display_data"
    }
   ],
   "source": [
    "print('Train data: Missing age Values')\n",
    "display(train_df.Age.isnull().value_counts())\n",
    "\n",
    "print('-'*100)\n",
    "print('Test data: Missing age Values')\n",
    "display(test_df.Age.isnull().value_counts())\n"
   ]
  },
  {
   "cell_type": "markdown",
   "id": "bf9aa1db",
   "metadata": {},
   "source": [
    "There are so many values of age that are missing.<br>\n",
    "<ol>\n",
    "<li> Train data: 177</li>\n",
    "<li> Test Data: 86</li>\n",
    "</ol>\n",
    "Since age is a critical factor in the prediction, we cannot drop the column.<br>\n",
    "As a result we need to take care of the missing values in either of the following ways:\n",
    "<ul>\n",
    "<li> Use mean age values</li>\n",
    "<li> Try to allocate values randomly around the mean i.e choose random values between 25 and 75 percentile</li>\n",
    "</ul>\n",
    "<br>"
   ]
  },
  {
   "cell_type": "code",
   "execution_count": 11,
   "id": "b8a8e0ad",
   "metadata": {},
   "outputs": [
    {
     "name": "stdout",
     "output_type": "stream",
     "text": [
      "Train data: Age description\n"
     ]
    },
    {
     "data": {
      "text/plain": [
       "count    714.000000\n",
       "mean      29.699118\n",
       "std       14.526497\n",
       "min        0.420000\n",
       "25%       20.125000\n",
       "50%       28.000000\n",
       "75%       38.000000\n",
       "max       80.000000\n",
       "Name: Age, dtype: float64"
      ]
     },
     "metadata": {},
     "output_type": "display_data"
    },
    {
     "name": "stdout",
     "output_type": "stream",
     "text": [
      "----------------------------------------------------------------------------------------------------\n",
      "Test data: Age description\n"
     ]
    },
    {
     "data": {
      "text/plain": [
       "count    332.000000\n",
       "mean      30.272590\n",
       "std       14.181209\n",
       "min        0.170000\n",
       "25%       21.000000\n",
       "50%       27.000000\n",
       "75%       39.000000\n",
       "max       76.000000\n",
       "Name: Age, dtype: float64"
      ]
     },
     "metadata": {},
     "output_type": "display_data"
    }
   ],
   "source": [
    "print('Train data: Age description')\n",
    "display(train_df.Age.describe())\n",
    "\n",
    "print('-'*100)\n",
    "print('Test data: Age description')\n",
    "display(test_df.Age.describe())"
   ]
  },
  {
   "cell_type": "markdown",
   "id": "4185d8ad",
   "metadata": {},
   "source": [
    "We neeed to <strong>drop</strong> some columns as we do not need them.\n",
    "<ul>\n",
    "    <li>For the <strong>categorical</strong> data we need to drop the following columns</li>\n",
    "    <ol>\n",
    "        <li>Name</li>\n",
    "        <li>Ticket</li>\n",
    "    </ol>\n",
    "    <li>For the <strong>numerical</strong> data we need to drop the following columns</li>\n",
    "    <ol>\n",
    "        <li>PassengerId</li>\n",
    "        <li>Survived</li>\n",
    "    </ol>\n",
    "</ul> "
   ]
  },
  {
   "cell_type": "code",
   "execution_count": 12,
   "id": "5cded3bf",
   "metadata": {},
   "outputs": [],
   "source": [
    "#  Dropping hte columns\n",
    "cat_df = train_df[[\"Sex\", \"Pclass\", \"Embarked\", \"Parch\",\"SibSp\"]]\n",
    "num_df = train_df[[\"Age\", \"Fare\", \"Parch\",\"SibSp\"]]"
   ]
  },
  {
   "cell_type": "code",
   "execution_count": 13,
   "id": "15a01dae",
   "metadata": {},
   "outputs": [
    {
     "data": {
      "image/png": "[encoded data removed]",
      "text/plain": [
       "<Figure size 1152x576 with 4 Axes>"
      ]
     },
     "metadata": {
      "needs_background": "light"
     },
     "output_type": "display_data"
    }
   ],
   "source": [
    "# plot numerical data\n",
    "\n",
    "fig = plt.figure(figsize = (16,8))\n",
    "\n",
    "for i in range(len(num_df.columns)):\n",
    "    column = num_df.columns[i]\n",
    "    sub = fig.add_subplot(2,2,i+1)\n",
    "    chart = sns.boxplot(data = train_df, y = column, x = 'Survived', palette = 'PuBuGn')"
   ]
  },
  {
   "cell_type": "code",
   "execution_count": 14,
   "id": "86a2380b",
   "metadata": {},
   "outputs": [
    {
     "data": {
      "image/png": "[encoded data removed]",
      "text/plain": [
       "<Figure size 1152x576 with 5 Axes>"
      ]
     },
     "metadata": {
      "needs_background": "light"
     },
     "output_type": "display_data"
    }
   ],
   "source": [
    "# plot categorical data\n",
    "\n",
    "fig = plt.figure(figsize = (16,8))\n",
    "\n",
    "for i in range(len(cat_df.columns)):\n",
    "    column = cat_df.columns[i]\n",
    "    sub = fig.add_subplot(2,3,i+1)\n",
    "    chart = sns.countplot(data = train_df, hue = 'Survived', y = column, palette = 'PuBuGn')"
   ]
  },
  {
   "cell_type": "code",
   "execution_count": null,
   "id": "2cd0b63b",
   "metadata": {},
   "outputs": [],
   "source": []
  },
  {
   "cell_type": "code",
   "execution_count": null,
   "id": "d50de8e3",
   "metadata": {},
   "outputs": [],
   "source": []
  },
  {
   "cell_type": "code",
   "execution_count": 15,
   "id": "7f886849",
   "metadata": {},
   "outputs": [
    {
     "name": "stdout",
     "output_type": "stream",
     "text": [
      "Number of males on board = 577 which is 64.76%\n",
      "Number of females on board = 314 which is 35.24%\n",
      "\n",
      "\n",
      "% of male survival: 18.890814558058924 %\n",
      "% of female survival: 74.20382165605095 %\n",
      "\n"
     ]
    }
   ],
   "source": [
    "# gender difference on board the titanic\n",
    "males_on_board = train_df.loc[train_df.Sex == 'male']\n",
    "percentage_males = (len(males_on_board)/train_df.shape[0])*100\n",
    "print(f\"Number of males on board = {len(males_on_board)} which is {round(percentage_males, 2)}%\")\n",
    "\n",
    "females_on_board = train_df.loc[train_df.Sex == 'female']\n",
    "percentage_females = (len(females_on_board)/train_df.shape[0])*100\n",
    "print(f\"Number of females on board = {len(females_on_board)} which is {round(percentage_females, 2)}%\\n\\n\")\n",
    "\n",
    "# Get survival rate for both females and male\n",
    "male_survival = males_on_board.loc[males_on_board.Survived == 1]\n",
    "print(f\"% of male survival: {len(male_survival)/males_on_board.shape[0]*100} %\")\n",
    "\n",
    "female_survival = females_on_board.loc[females_on_board.Survived == 1]\n",
    "print(f\"% of female survival: {len(female_survival)/females_on_board.shape[0]*100} %\\n\")\n"
   ]
  },
  {
   "cell_type": "code",
   "execution_count": 16,
   "id": "fbdde6cd",
   "metadata": {},
   "outputs": [
    {
     "data": {
      "text/plain": [
       "<AxesSubplot: title={'center': 'Survival distribution of diffrent ages'}, xlabel='Age', ylabel='Count'>"
      ]
     },
     "execution_count": 16,
     "metadata": {},
     "output_type": "execute_result"
    },
    {
     "data": {
      "image/png": "[encoded data removed]",
      "text/plain": [
       "<Figure size 720x576 with 3 Axes>"
      ]
     },
     "metadata": {
      "needs_background": "light"
     },
     "output_type": "display_data"
    }
   ],
   "source": [
    "# plot sex distribution on board\n",
    "\n",
    "fig = plt.figure(figsize = (10,8))\n",
    "\n",
    "fig.add_subplot(221)\n",
    "plt.title('Sex Distribution on the titanic')\n",
    "plt.pie(data = train_df[\"Sex\"], x = train_df.Sex.value_counts(), \n",
    "        labels = ['Male','Female'], autopct = '%.2f%%')\n",
    "\n",
    "\n",
    "fig.add_subplot(222)\n",
    "plt.title(\"Survival distribution of both sex\")\n",
    "sns.violinplot(data = train_df, x=train_df[\"Sex\"],\n",
    "           y = train_df['Age'], hue = train_df[\"Survived\"],\n",
    "              split=True)\n",
    "\n",
    "\n",
    "fig.add_subplot(212)\n",
    "plt.title(\"Survival distribution of diffrent ages\")\n",
    "sns.histplot(data = train_df, x=train_df[\"Age\"],\n",
    "           kde = True, hue = train_df[\"Survived\"],\n",
    "              bins = 16, stat = 'count')"
   ]
  },
  {
   "cell_type": "markdown",
   "id": "8fe0e612",
   "metadata": {},
   "source": [
    "#### Survival distribution of both males and females"
   ]
  },
  {
   "cell_type": "code",
   "execution_count": 17,
   "id": "3d3c2618",
   "metadata": {},
   "outputs": [
    {
     "data": {
      "text/plain": [
       "<AxesSubplot: title={'center': 'Survival rates for females'}, xlabel='Age', ylabel='Count'>"
      ]
     },
     "execution_count": 17,
     "metadata": {},
     "output_type": "execute_result"
    },
    {
     "data": {
      "image/png": "[encoded data removed]",
      "text/plain": [
       "<Figure size 720x360 with 2 Axes>"
      ]
     },
     "metadata": {
      "needs_background": "light"
     },
     "output_type": "display_data"
    }
   ],
   "source": [
    "fig = plt.figure(figsize = (10,5))\n",
    "\n",
    "# Survival rates for males\n",
    "fig.add_subplot(121)\n",
    "plt.title(\"Survival rates for males\")\n",
    "sns.histplot(data = train_df[train_df[\"Sex\"] == \"male\"], \n",
    "            x = train_df[\"Age\"], hue = train_df['Survived'], kde = True,\n",
    "            bins = 16, stat = 'count')\n",
    "\n",
    "# Survival rates for females\n",
    "fig.add_subplot(122)\n",
    "plt.title(\"Survival rates for females\")\n",
    "sns.histplot(data = train_df[train_df[\"Sex\"] == \"female\"], \n",
    "            x = train_df[\"Age\"], hue = train_df['Survived'],\n",
    "            kde = True, bins = 12, stat = 'count')\n"
   ]
  },
  {
   "cell_type": "markdown",
   "id": "62493b35",
   "metadata": {},
   "source": [
    "## processing text data"
   ]
  },
  {
   "cell_type": "code",
   "execution_count": 18,
   "id": "3160802c",
   "metadata": {},
   "outputs": [
    {
     "data": {
      "text/html": [
       "<div>\n",
       "<style scoped>\n",
       "    .dataframe tbody tr th:only-of-type {\n",
       "        vertical-align: middle;\n",
       "    }\n",
       "\n",
       "    .dataframe tbody tr th {\n",
       "        vertical-align: top;\n",
       "    }\n",
       "\n",
       "    .dataframe thead th {\n",
       "        text-align: right;\n",
       "    }\n",
       "</style>\n",
       "<table border=\"1\" class=\"dataframe\">\n",
       "  <thead>\n",
       "    <tr style=\"text-align: right;\">\n",
       "      <th></th>\n",
       "      <th>Name</th>\n",
       "      <th>Ticket</th>\n",
       "    </tr>\n",
       "  </thead>\n",
       "  <tbody>\n",
       "    <tr>\n",
       "      <th>0</th>\n",
       "      <td>Braund, Mr. Owen Harris</td>\n",
       "      <td>A/5 21171</td>\n",
       "    </tr>\n",
       "    <tr>\n",
       "      <th>1</th>\n",
       "      <td>Cumings, Mrs. John Bradley (Florence Briggs Th...</td>\n",
       "      <td>PC 17599</td>\n",
       "    </tr>\n",
       "    <tr>\n",
       "      <th>2</th>\n",
       "      <td>Heikkinen, Miss. Laina</td>\n",
       "      <td>STON/O2. 3101282</td>\n",
       "    </tr>\n",
       "    <tr>\n",
       "      <th>3</th>\n",
       "      <td>Futrelle, Mrs. Jacques Heath (Lily May Peel)</td>\n",
       "      <td>113803</td>\n",
       "    </tr>\n",
       "    <tr>\n",
       "      <th>4</th>\n",
       "      <td>Allen, Mr. William Henry</td>\n",
       "      <td>373450</td>\n",
       "    </tr>\n",
       "  </tbody>\n",
       "</table>\n",
       "</div>"
      ],
      "text/plain": [
       "                                                Name            Ticket\n",
       "0                            Braund, Mr. Owen Harris         A/5 21171\n",
       "1  Cumings, Mrs. John Bradley (Florence Briggs Th...          PC 17599\n",
       "2                             Heikkinen, Miss. Laina  STON/O2. 3101282\n",
       "3       Futrelle, Mrs. Jacques Heath (Lily May Peel)            113803\n",
       "4                           Allen, Mr. William Henry            373450"
      ]
     },
     "metadata": {},
     "output_type": "display_data"
    }
   ],
   "source": [
    "display(train_df[['Name','Ticket']].head())"
   ]
  },
  {
   "cell_type": "markdown",
   "id": "e8cadb4d",
   "metadata": {},
   "source": [
    "We can tell that a passangers tittle is oncluded in the Name.<br>\n",
    "we need to extract the titles<br>\n",
    "Later, we will need to drop the ticket as we don't have any meanngfll information we can get from it"
   ]
  },
  {
   "cell_type": "markdown",
   "id": "3aeb1ad9",
   "metadata": {},
   "source": [
    "### Extract title from name"
   ]
  },
  {
   "cell_type": "code",
   "execution_count": 19,
   "id": "10632781",
   "metadata": {},
   "outputs": [
    {
     "name": "stdout",
     "output_type": "stream",
     "text": [
      "Titles in train data/n\n"
     ]
    },
    {
     "data": {
      "text/plain": [
       "Mr          517\n",
       "Miss        182\n",
       "Mrs         125\n",
       "Master       40\n",
       "Dr            7\n",
       "Rev           6\n",
       "Mlle          2\n",
       "Col           2\n",
       "Major         2\n",
       "Countess      1\n",
       "Lady          1\n",
       "Sir           1\n",
       "Jonkheer      1\n",
       "Don           1\n",
       "Ms            1\n",
       "Capt          1\n",
       "Mme           1\n",
       "Name: Title, dtype: int64"
      ]
     },
     "metadata": {},
     "output_type": "display_data"
    },
    {
     "name": "stdout",
     "output_type": "stream",
     "text": [
      "Titles in the test data\n"
     ]
    },
    {
     "data": {
      "text/plain": [
       "Mr        240\n",
       "Miss       78\n",
       "Mrs        72\n",
       "Master     21\n",
       "Col         2\n",
       "Rev         2\n",
       "Dona        1\n",
       "Ms          1\n",
       "Dr          1\n",
       "Name: Title, dtype: int64"
      ]
     },
     "metadata": {},
     "output_type": "display_data"
    },
    {
     "name": "stdout",
     "output_type": "stream",
     "text": [
      "****************************************************************************************************\n",
      "Missing Title values in train data\n"
     ]
    },
    {
     "data": {
      "text/plain": [
       "False    891\n",
       "Name: Title, dtype: int64"
      ]
     },
     "metadata": {},
     "output_type": "display_data"
    },
    {
     "name": "stdout",
     "output_type": "stream",
     "text": [
      "Missing Title values in test data\n"
     ]
    },
    {
     "data": {
      "text/plain": [
       "False    418\n",
       "Name: Title, dtype: int64"
      ]
     },
     "metadata": {},
     "output_type": "display_data"
    }
   ],
   "source": [
    "# We will extract titles from both train and testing\n",
    "import re\n",
    "\n",
    "train_df['Title'] = train_df['Name'].str.extract(r'([A-Za-z]+)\\.')\n",
    "test_df['Title'] = test_df['Name'].str.extract(r'([A-Za-z]+)\\.')\n",
    "\n",
    "print(\"Titles in train data/n\")\n",
    "display(train_df.Title.value_counts())\n",
    "print('Titles in the test data')\n",
    "display(test_df.Title.value_counts())\n",
    "print('*'*100)\n",
    "\n",
    "# Check missing title values\n",
    "print('Missing Title values in train data')\n",
    "display(train_df.Title.isnull().value_counts())\n",
    "\n",
    "print('Missing Title values in test data')\n",
    "display(test_df.Title.isnull().value_counts())\n"
   ]
  },
  {
   "cell_type": "markdown",
   "id": "b43bfd10",
   "metadata": {},
   "source": [
    "All passangers had a title and as shown, no missing values in the titles<br><br>\n",
    "We want to clean the titles so that we can have the fillowing categories:\n",
    "<ul>\n",
    "<li>Mr.</li>\n",
    "<li>Mrs.</li>\n",
    "<li>Miss.</li>\n",
    "<li>Other.</li>\n",
    "</ul>\n"
   ]
  },
  {
   "cell_type": "code",
   "execution_count": 20,
   "id": "bf9461f5",
   "metadata": {},
   "outputs": [
    {
     "name": "stdout",
     "output_type": "stream",
     "text": [
      "New titles for passangers onboard --train data\n"
     ]
    },
    {
     "data": {
      "text/plain": [
       "Mr       560\n",
       "Miss     185\n",
       "Mrs      127\n",
       "Other     19\n",
       "Name: Title, dtype: int64"
      ]
     },
     "metadata": {},
     "output_type": "display_data"
    }
   ],
   "source": [
    "# train data titles\n",
    "for data in [train_df]:\n",
    "    data['Title'] = data['Title'].replace(['Mr', 'Master', 'Capt', 'Sir', 'Don'], 'Mr')\n",
    "    data['Title'] = data['Title'].replace(['Mrs', 'Countess', 'Lady'], 'Mrs')\n",
    "    data['Title'] = data['Title'].replace(['Miss', 'Mlle', 'Ms'], 'Miss')\n",
    "    data['Title'] = data['Title'].replace(['Dr', 'Rev', 'Mme', 'Col', 'Dona','Jonkheer', 'Major'], 'Other')\n",
    "\n",
    "print('New titles for passangers onboard --train data')\n",
    "display(train_df['Title'].value_counts())"
   ]
  },
  {
   "cell_type": "code",
   "execution_count": 21,
   "id": "954558c7",
   "metadata": {},
   "outputs": [
    {
     "name": "stdout",
     "output_type": "stream",
     "text": [
      "New titles for passangers onboard --test data\n"
     ]
    },
    {
     "data": {
      "text/plain": [
       "Mr       261\n",
       "Miss      79\n",
       "Mrs       72\n",
       "Other      6\n",
       "Name: Title, dtype: int64"
      ]
     },
     "metadata": {},
     "output_type": "display_data"
    }
   ],
   "source": [
    "# test data titles\n",
    "for data in [test_df]:\n",
    "    data['Title'] = data['Title'].replace(['Mr', 'Master', 'Capt', 'Sir', 'Don'], 'Mr')\n",
    "    data['Title'] = data['Title'].replace(['Mrs', 'Countess', 'Lady'], 'Mrs')\n",
    "    data['Title'] = data['Title'].replace(['Miss', 'Mlle', 'Ms'], 'Miss')\n",
    "    data['Title'] = data['Title'].replace(['Dr', 'Rev', 'Mme', 'Col', 'Dona','Jonkheer', 'Major'], 'Other')\n",
    "\n",
    "print('New titles for passangers onboard --test data')\n",
    "display(test_df['Title'].value_counts())"
   ]
  },
  {
   "cell_type": "markdown",
   "id": "7b9e1fe2",
   "metadata": {},
   "source": [
    "#### Survival rates for titles"
   ]
  },
  {
   "cell_type": "code",
   "execution_count": 22,
   "id": "fc129cf8",
   "metadata": {},
   "outputs": [
    {
     "data": {
      "text/html": [
       "<div>\n",
       "<style scoped>\n",
       "    .dataframe tbody tr th:only-of-type {\n",
       "        vertical-align: middle;\n",
       "    }\n",
       "\n",
       "    .dataframe tbody tr th {\n",
       "        vertical-align: top;\n",
       "    }\n",
       "\n",
       "    .dataframe thead th {\n",
       "        text-align: right;\n",
       "    }\n",
       "</style>\n",
       "<table border=\"1\" class=\"dataframe\">\n",
       "  <thead>\n",
       "    <tr style=\"text-align: right;\">\n",
       "      <th></th>\n",
       "      <th>Survived</th>\n",
       "    </tr>\n",
       "    <tr>\n",
       "      <th>Title</th>\n",
       "      <th></th>\n",
       "    </tr>\n",
       "  </thead>\n",
       "  <tbody>\n",
       "    <tr>\n",
       "      <th>Miss</th>\n",
       "      <td>0.702703</td>\n",
       "    </tr>\n",
       "    <tr>\n",
       "      <th>Mr</th>\n",
       "      <td>0.187500</td>\n",
       "    </tr>\n",
       "    <tr>\n",
       "      <th>Mrs</th>\n",
       "      <td>0.795276</td>\n",
       "    </tr>\n",
       "    <tr>\n",
       "      <th>Other</th>\n",
       "      <td>0.315789</td>\n",
       "    </tr>\n",
       "  </tbody>\n",
       "</table>\n",
       "</div>"
      ],
      "text/plain": [
       "       Survived\n",
       "Title          \n",
       "Miss   0.702703\n",
       "Mr     0.187500\n",
       "Mrs    0.795276\n",
       "Other  0.315789"
      ]
     },
     "metadata": {},
     "output_type": "display_data"
    }
   ],
   "source": [
    "display(train_df[['Title', 'Survived']].groupby(['Title'], as_index=True).mean())"
   ]
  },
  {
   "cell_type": "markdown",
   "id": "0e8d5301",
   "metadata": {},
   "source": [
    "As expected Mrs and Miss should have a high survivaility rate as compated to the Mr and Others"
   ]
  },
  {
   "cell_type": "markdown",
   "id": "756f323d",
   "metadata": {},
   "source": [
    "## Further processing and filling Missing values\n",
    "\n",
    "### Age"
   ]
  },
  {
   "cell_type": "markdown",
   "id": "df047667",
   "metadata": {},
   "source": [
    "Lets check the mean and median diffrence between train and testing data"
   ]
  },
  {
   "cell_type": "code",
   "execution_count": 23,
   "id": "0f67f1ce",
   "metadata": {},
   "outputs": [
    {
     "data": {
      "text/html": [
       "<div>\n",
       "<style scoped>\n",
       "    .dataframe tbody tr th:only-of-type {\n",
       "        vertical-align: middle;\n",
       "    }\n",
       "\n",
       "    .dataframe tbody tr th {\n",
       "        vertical-align: top;\n",
       "    }\n",
       "\n",
       "    .dataframe thead th {\n",
       "        text-align: right;\n",
       "    }\n",
       "</style>\n",
       "<table border=\"1\" class=\"dataframe\">\n",
       "  <thead>\n",
       "    <tr style=\"text-align: right;\">\n",
       "      <th></th>\n",
       "      <th>Feature</th>\n",
       "      <th>train_mean</th>\n",
       "      <th>test_mean</th>\n",
       "      <th>train_median</th>\n",
       "      <th>test_median</th>\n",
       "      <th>train_diff</th>\n",
       "      <th>test_diff</th>\n",
       "    </tr>\n",
       "  </thead>\n",
       "  <tbody>\n",
       "    <tr>\n",
       "      <th>0</th>\n",
       "      <td>Mr</td>\n",
       "      <td>30.2</td>\n",
       "      <td>29.9</td>\n",
       "      <td>28.0</td>\n",
       "      <td>27.0</td>\n",
       "      <td>2.2</td>\n",
       "      <td>2.9</td>\n",
       "    </tr>\n",
       "    <tr>\n",
       "      <th>1</th>\n",
       "      <td>Mrs</td>\n",
       "      <td>36.0</td>\n",
       "      <td>38.9</td>\n",
       "      <td>35.0</td>\n",
       "      <td>36.5</td>\n",
       "      <td>1.0</td>\n",
       "      <td>2.4</td>\n",
       "    </tr>\n",
       "    <tr>\n",
       "      <th>2</th>\n",
       "      <td>Miss</td>\n",
       "      <td>21.8</td>\n",
       "      <td>21.8</td>\n",
       "      <td>21.0</td>\n",
       "      <td>22.0</td>\n",
       "      <td>0.8</td>\n",
       "      <td>-0.2</td>\n",
       "    </tr>\n",
       "    <tr>\n",
       "      <th>3</th>\n",
       "      <td>Other</td>\n",
       "      <td>43.7</td>\n",
       "      <td>43.8</td>\n",
       "      <td>47.0</td>\n",
       "      <td>44.0</td>\n",
       "      <td>-3.3</td>\n",
       "      <td>-0.2</td>\n",
       "    </tr>\n",
       "    <tr>\n",
       "      <th>4</th>\n",
       "      <td>S</td>\n",
       "      <td>29.4</td>\n",
       "      <td>28.8</td>\n",
       "      <td>28.0</td>\n",
       "      <td>26.0</td>\n",
       "      <td>1.4</td>\n",
       "      <td>2.8</td>\n",
       "    </tr>\n",
       "    <tr>\n",
       "      <th>5</th>\n",
       "      <td>C</td>\n",
       "      <td>30.8</td>\n",
       "      <td>34.7</td>\n",
       "      <td>29.0</td>\n",
       "      <td>35.0</td>\n",
       "      <td>1.8</td>\n",
       "      <td>-0.3</td>\n",
       "    </tr>\n",
       "    <tr>\n",
       "      <th>6</th>\n",
       "      <td>Q</td>\n",
       "      <td>28.1</td>\n",
       "      <td>29.3</td>\n",
       "      <td>27.0</td>\n",
       "      <td>26.5</td>\n",
       "      <td>1.1</td>\n",
       "      <td>2.8</td>\n",
       "    </tr>\n",
       "    <tr>\n",
       "      <th>7</th>\n",
       "      <td>NaN</td>\n",
       "      <td>nan</td>\n",
       "      <td>nan</td>\n",
       "      <td>NaN</td>\n",
       "      <td>NaN</td>\n",
       "      <td>NaN</td>\n",
       "      <td>NaN</td>\n",
       "    </tr>\n",
       "    <tr>\n",
       "      <th>8</th>\n",
       "      <td>3</td>\n",
       "      <td>25.1</td>\n",
       "      <td>24.0</td>\n",
       "      <td>24.0</td>\n",
       "      <td>24.0</td>\n",
       "      <td>1.1</td>\n",
       "      <td>0.0</td>\n",
       "    </tr>\n",
       "    <tr>\n",
       "      <th>9</th>\n",
       "      <td>1</td>\n",
       "      <td>38.2</td>\n",
       "      <td>40.9</td>\n",
       "      <td>37.0</td>\n",
       "      <td>42.0</td>\n",
       "      <td>1.2</td>\n",
       "      <td>-1.1</td>\n",
       "    </tr>\n",
       "    <tr>\n",
       "      <th>10</th>\n",
       "      <td>2</td>\n",
       "      <td>29.9</td>\n",
       "      <td>28.8</td>\n",
       "      <td>29.0</td>\n",
       "      <td>26.5</td>\n",
       "      <td>0.9</td>\n",
       "      <td>2.3</td>\n",
       "    </tr>\n",
       "    <tr>\n",
       "      <th>11</th>\n",
       "      <td>male</td>\n",
       "      <td>30.7</td>\n",
       "      <td>30.3</td>\n",
       "      <td>29.0</td>\n",
       "      <td>27.0</td>\n",
       "      <td>1.7</td>\n",
       "      <td>3.3</td>\n",
       "    </tr>\n",
       "    <tr>\n",
       "      <th>12</th>\n",
       "      <td>female</td>\n",
       "      <td>27.9</td>\n",
       "      <td>30.3</td>\n",
       "      <td>27.0</td>\n",
       "      <td>27.0</td>\n",
       "      <td>0.9</td>\n",
       "      <td>3.3</td>\n",
       "    </tr>\n",
       "  </tbody>\n",
       "</table>\n",
       "</div>"
      ],
      "text/plain": [
       "   Feature train_mean test_mean  train_median  test_median  train_diff  \\\n",
       "0       Mr       30.2      29.9          28.0         27.0         2.2   \n",
       "1      Mrs       36.0      38.9          35.0         36.5         1.0   \n",
       "2     Miss       21.8      21.8          21.0         22.0         0.8   \n",
       "3    Other       43.7      43.8          47.0         44.0        -3.3   \n",
       "4        S       29.4      28.8          28.0         26.0         1.4   \n",
       "5        C       30.8      34.7          29.0         35.0         1.8   \n",
       "6        Q       28.1      29.3          27.0         26.5         1.1   \n",
       "7      NaN        nan       nan           NaN          NaN         NaN   \n",
       "8        3       25.1      24.0          24.0         24.0         1.1   \n",
       "9        1       38.2      40.9          37.0         42.0         1.2   \n",
       "10       2       29.9      28.8          29.0         26.5         0.9   \n",
       "11    male       30.7      30.3          29.0         27.0         1.7   \n",
       "12  female       27.9      30.3          27.0         27.0         0.9   \n",
       "\n",
       "    test_diff  \n",
       "0         2.9  \n",
       "1         2.4  \n",
       "2        -0.2  \n",
       "3        -0.2  \n",
       "4         2.8  \n",
       "5        -0.3  \n",
       "6         2.8  \n",
       "7         NaN  \n",
       "8         0.0  \n",
       "9        -1.1  \n",
       "10        2.3  \n",
       "11        3.3  \n",
       "12        3.3  "
      ]
     },
     "execution_count": 23,
     "metadata": {},
     "output_type": "execute_result"
    }
   ],
   "source": [
    "centralized_df = pd.DataFrame(columns=['Feature', 'train_mean', 'test_mean', 'train_median', 'test_median'])\n",
    "\n",
    "feature_list = ['Title', 'Embarked', 'Pclass', 'Sex']\n",
    "\n",
    "for i in feature_list:\n",
    "    for j in train_df[i].unique():\n",
    "        new_df = pd.DataFrame({\n",
    "            'Feature':[j],\n",
    "            'train_mean': [format(train_df[train_df[i] == j]['Age'].mean(), '.1f')],\n",
    "            'test_mean': [format(test_df[test_df[i] == j]['Age'].mean(), '.1f')],\n",
    "            'train_median': [train_df[train_df[i] == j]['Age'].median()],\n",
    "            'test_median': [test_df[test_df[i] == j]['Age'].median()]\n",
    "        })\n",
    "        centralized_df = pd.concat([centralized_df, new_df], ignore_index=True)\n",
    "\n",
    "centralized_df['train_diff'] = centralized_df.train_mean.astype('float') - centralized_df.train_median\n",
    "centralized_df['test_diff'] = centralized_df.test_mean.astype('float') - centralized_df.test_median\n",
    "\n",
    "centralized_df"
   ]
  },
  {
   "cell_type": "code",
   "execution_count": null,
   "id": "6beb4633",
   "metadata": {},
   "outputs": [],
   "source": []
  },
  {
   "cell_type": "code",
   "execution_count": 24,
   "id": "b0142727",
   "metadata": {},
   "outputs": [
    {
     "data": {
      "text/plain": [
       "array([[0., 0., 0.],\n",
       "       [0., 0., 0.],\n",
       "       [0., 0., 0.],\n",
       "       [0., 0., 0.],\n",
       "       [0., 0., 0.]])"
      ]
     },
     "execution_count": 24,
     "metadata": {},
     "output_type": "execute_result"
    }
   ],
   "source": [
    "guess_ages = np.zeros((5,3))\n",
    "guess_ages"
   ]
  },
  {
   "cell_type": "code",
   "execution_count": 25,
   "id": "03248aa9",
   "metadata": {},
   "outputs": [
    {
     "name": "stdout",
     "output_type": "stream",
     "text": [
      "count    891.000000\n",
      "mean      29.176207\n",
      "std       13.488544\n",
      "min        0.000000\n",
      "25%       21.000000\n",
      "50%       26.000000\n",
      "75%       36.500000\n",
      "max       80.000000\n",
      "Name: Age, dtype: float64\n",
      "count    418.000000\n",
      "mean      29.370813\n",
      "std       13.056373\n",
      "min        0.000000\n",
      "25%       22.000000\n",
      "50%       26.000000\n",
      "75%       36.000000\n",
      "max       76.000000\n",
      "Name: Age, dtype: float64\n"
     ]
    }
   ],
   "source": [
    "Titles = train_df['Title'].unique()\n",
    "\n",
    "for data in [train_df, test_df]:\n",
    "    for i in range(len(Titles)):\n",
    "        for j in range(0, 3):\n",
    "            guess_data = data[(data['Title'] == Titles[i]) & (data['Pclass'] == j+1)]['Age'].dropna()\n",
    "            \n",
    "            if len(guess_data) == 0:\n",
    "                age_guess = 500 #Since there is no passenger with Other title in Pclass3, set an impossible age\n",
    "            else:\n",
    "                age_guess = guess_data.mean()\n",
    "            # Convert random age float to nearest .5 age\n",
    "            guess_ages[i,j] = int( age_guess/0.5 + 0.5 ) * 0.5\n",
    "            \n",
    "\n",
    "            data.loc[ (data['Age'].isnull()) & (data['Title'] == Titles[i]) & (data['Pclass'] == j+1), 'Age'] = guess_ages[i,j]\n",
    "\n",
    "    data['Age'] = data['Age'].astype(int)\n",
    "    \n",
    "    # As we set an incridiable age for special situation, check whether we write this age into the dataset\n",
    "    print(data['Age'].describe())"
   ]
  },
  {
   "cell_type": "code",
   "execution_count": 26,
   "id": "185d9825",
   "metadata": {},
   "outputs": [
    {
     "data": {
      "text/plain": [
       "PassengerId    0\n",
       "Pclass         0\n",
       "Name           0\n",
       "Sex            0\n",
       "Age            0\n",
       "SibSp          0\n",
       "Parch          0\n",
       "Ticket         0\n",
       "Fare           1\n",
       "Embarked       0\n",
       "Title          0\n",
       "dtype: int64"
      ]
     },
     "execution_count": 26,
     "metadata": {},
     "output_type": "execute_result"
    }
   ],
   "source": [
    "data.isnull().sum()"
   ]
  },
  {
   "cell_type": "markdown",
   "id": "1e259463",
   "metadata": {},
   "source": [
    "We can see that age has been filled up"
   ]
  },
  {
   "cell_type": "code",
   "execution_count": 27,
   "id": "fd1f6ec2",
   "metadata": {},
   "outputs": [
    {
     "data": {
      "text/plain": [
       "(891, 12)"
      ]
     },
     "execution_count": 27,
     "metadata": {},
     "output_type": "execute_result"
    }
   ],
   "source": [
    "train_df.shape"
   ]
  },
  {
   "cell_type": "markdown",
   "id": "a026ddf5",
   "metadata": {},
   "source": [
    "##### Age further processing\n",
    "\n",
    "We need to group age data, to avoid bouncing by gradient descent"
   ]
  },
  {
   "cell_type": "code",
   "execution_count": 28,
   "id": "abbc5ee7",
   "metadata": {},
   "outputs": [
    {
     "data": {
      "text/plain": [
       "Youth          454\n",
       "Adult          224\n",
       "Child          133\n",
       "Middle Aged     69\n",
       "Elderly         11\n",
       "Name: Age_group, dtype: int64"
      ]
     },
     "execution_count": 28,
     "metadata": {},
     "output_type": "execute_result"
    },
    {
     "data": {
      "image/png": "[encoded data removed]",
      "text/plain": [
       "<Figure size 432x288 with 1 Axes>"
      ]
     },
     "metadata": {
      "needs_background": "light"
     },
     "output_type": "display_data"
    }
   ],
   "source": [
    "chart = sns.histplot(data = train_df, x = 'Age',\n",
    "                    kde = True, bins = 40,\n",
    "                    stat = 'frequency')\n",
    "\n",
    "# create labels for age groups\n",
    "labels = ['Child','Youth', 'Adult', 'Middle Aged', 'Elderly']\n",
    "train_df['Age_group'] = pd.cut(train_df['Age'], bins = 5, labels = labels)\n",
    "train_df['Age_group'].value_counts()"
   ]
  },
  {
   "cell_type": "code",
   "execution_count": 29,
   "id": "3d22c3cf",
   "metadata": {
    "scrolled": true
   },
   "outputs": [
    {
     "data": {
      "text/html": [
       "<div>\n",
       "<style scoped>\n",
       "    .dataframe tbody tr th:only-of-type {\n",
       "        vertical-align: middle;\n",
       "    }\n",
       "\n",
       "    .dataframe tbody tr th {\n",
       "        vertical-align: top;\n",
       "    }\n",
       "\n",
       "    .dataframe thead th {\n",
       "        text-align: right;\n",
       "    }\n",
       "</style>\n",
       "<table border=\"1\" class=\"dataframe\">\n",
       "  <thead>\n",
       "    <tr style=\"text-align: right;\">\n",
       "      <th></th>\n",
       "      <th>PassengerId</th>\n",
       "      <th>Survived</th>\n",
       "      <th>Pclass</th>\n",
       "      <th>Name</th>\n",
       "      <th>Sex</th>\n",
       "      <th>Age</th>\n",
       "      <th>SibSp</th>\n",
       "      <th>Parch</th>\n",
       "      <th>Ticket</th>\n",
       "      <th>Fare</th>\n",
       "      <th>Embarked</th>\n",
       "      <th>Title</th>\n",
       "      <th>Age_group</th>\n",
       "    </tr>\n",
       "  </thead>\n",
       "  <tbody>\n",
       "    <tr>\n",
       "      <th>0</th>\n",
       "      <td>1</td>\n",
       "      <td>0</td>\n",
       "      <td>3</td>\n",
       "      <td>Braund, Mr. Owen Harris</td>\n",
       "      <td>male</td>\n",
       "      <td>22</td>\n",
       "      <td>1</td>\n",
       "      <td>0</td>\n",
       "      <td>A/5 21171</td>\n",
       "      <td>7.2500</td>\n",
       "      <td>S</td>\n",
       "      <td>Mr</td>\n",
       "      <td>Youth</td>\n",
       "    </tr>\n",
       "    <tr>\n",
       "      <th>1</th>\n",
       "      <td>2</td>\n",
       "      <td>1</td>\n",
       "      <td>1</td>\n",
       "      <td>Cumings, Mrs. John Bradley (Florence Briggs Th...</td>\n",
       "      <td>female</td>\n",
       "      <td>38</td>\n",
       "      <td>1</td>\n",
       "      <td>0</td>\n",
       "      <td>PC 17599</td>\n",
       "      <td>71.2833</td>\n",
       "      <td>C</td>\n",
       "      <td>Mrs</td>\n",
       "      <td>Adult</td>\n",
       "    </tr>\n",
       "    <tr>\n",
       "      <th>2</th>\n",
       "      <td>3</td>\n",
       "      <td>1</td>\n",
       "      <td>3</td>\n",
       "      <td>Heikkinen, Miss. Laina</td>\n",
       "      <td>female</td>\n",
       "      <td>26</td>\n",
       "      <td>0</td>\n",
       "      <td>0</td>\n",
       "      <td>STON/O2. 3101282</td>\n",
       "      <td>7.9250</td>\n",
       "      <td>S</td>\n",
       "      <td>Miss</td>\n",
       "      <td>Youth</td>\n",
       "    </tr>\n",
       "    <tr>\n",
       "      <th>3</th>\n",
       "      <td>4</td>\n",
       "      <td>1</td>\n",
       "      <td>1</td>\n",
       "      <td>Futrelle, Mrs. Jacques Heath (Lily May Peel)</td>\n",
       "      <td>female</td>\n",
       "      <td>35</td>\n",
       "      <td>1</td>\n",
       "      <td>0</td>\n",
       "      <td>113803</td>\n",
       "      <td>53.1000</td>\n",
       "      <td>S</td>\n",
       "      <td>Mrs</td>\n",
       "      <td>Adult</td>\n",
       "    </tr>\n",
       "    <tr>\n",
       "      <th>4</th>\n",
       "      <td>5</td>\n",
       "      <td>0</td>\n",
       "      <td>3</td>\n",
       "      <td>Allen, Mr. William Henry</td>\n",
       "      <td>male</td>\n",
       "      <td>35</td>\n",
       "      <td>0</td>\n",
       "      <td>0</td>\n",
       "      <td>373450</td>\n",
       "      <td>8.0500</td>\n",
       "      <td>S</td>\n",
       "      <td>Mr</td>\n",
       "      <td>Adult</td>\n",
       "    </tr>\n",
       "  </tbody>\n",
       "</table>\n",
       "</div>"
      ],
      "text/plain": [
       "   PassengerId  Survived  Pclass  \\\n",
       "0            1         0       3   \n",
       "1            2         1       1   \n",
       "2            3         1       3   \n",
       "3            4         1       1   \n",
       "4            5         0       3   \n",
       "\n",
       "                                                Name     Sex  Age  SibSp  \\\n",
       "0                            Braund, Mr. Owen Harris    male   22      1   \n",
       "1  Cumings, Mrs. John Bradley (Florence Briggs Th...  female   38      1   \n",
       "2                             Heikkinen, Miss. Laina  female   26      0   \n",
       "3       Futrelle, Mrs. Jacques Heath (Lily May Peel)  female   35      1   \n",
       "4                           Allen, Mr. William Henry    male   35      0   \n",
       "\n",
       "   Parch            Ticket     Fare Embarked Title Age_group  \n",
       "0      0         A/5 21171   7.2500        S    Mr     Youth  \n",
       "1      0          PC 17599  71.2833        C   Mrs     Adult  \n",
       "2      0  STON/O2. 3101282   7.9250        S  Miss     Youth  \n",
       "3      0            113803  53.1000        S   Mrs     Adult  \n",
       "4      0            373450   8.0500        S    Mr     Adult  "
      ]
     },
     "execution_count": 29,
     "metadata": {},
     "output_type": "execute_result"
    }
   ],
   "source": [
    "train_df.head()"
   ]
  },
  {
   "cell_type": "markdown",
   "id": "da587099",
   "metadata": {},
   "source": [
    "### Filling missing values on embarked column"
   ]
  },
  {
   "cell_type": "code",
   "execution_count": 30,
   "id": "7c665df8",
   "metadata": {},
   "outputs": [
    {
     "data": {
      "text/html": [
       "<div>\n",
       "<style scoped>\n",
       "    .dataframe tbody tr th:only-of-type {\n",
       "        vertical-align: middle;\n",
       "    }\n",
       "\n",
       "    .dataframe tbody tr th {\n",
       "        vertical-align: top;\n",
       "    }\n",
       "\n",
       "    .dataframe thead th {\n",
       "        text-align: right;\n",
       "    }\n",
       "</style>\n",
       "<table border=\"1\" class=\"dataframe\">\n",
       "  <thead>\n",
       "    <tr style=\"text-align: right;\">\n",
       "      <th></th>\n",
       "      <th>PassengerId</th>\n",
       "      <th>Survived</th>\n",
       "      <th>Pclass</th>\n",
       "      <th>Name</th>\n",
       "      <th>Sex</th>\n",
       "      <th>Age</th>\n",
       "      <th>SibSp</th>\n",
       "      <th>Parch</th>\n",
       "      <th>Ticket</th>\n",
       "      <th>Fare</th>\n",
       "      <th>Embarked</th>\n",
       "      <th>Title</th>\n",
       "      <th>Age_group</th>\n",
       "    </tr>\n",
       "  </thead>\n",
       "  <tbody>\n",
       "    <tr>\n",
       "      <th>61</th>\n",
       "      <td>62</td>\n",
       "      <td>1</td>\n",
       "      <td>1</td>\n",
       "      <td>Icard, Miss. Amelie</td>\n",
       "      <td>female</td>\n",
       "      <td>38</td>\n",
       "      <td>0</td>\n",
       "      <td>0</td>\n",
       "      <td>113572</td>\n",
       "      <td>80.0</td>\n",
       "      <td>NaN</td>\n",
       "      <td>Miss</td>\n",
       "      <td>Adult</td>\n",
       "    </tr>\n",
       "    <tr>\n",
       "      <th>829</th>\n",
       "      <td>830</td>\n",
       "      <td>1</td>\n",
       "      <td>1</td>\n",
       "      <td>Stone, Mrs. George Nelson (Martha Evelyn)</td>\n",
       "      <td>female</td>\n",
       "      <td>62</td>\n",
       "      <td>0</td>\n",
       "      <td>0</td>\n",
       "      <td>113572</td>\n",
       "      <td>80.0</td>\n",
       "      <td>NaN</td>\n",
       "      <td>Mrs</td>\n",
       "      <td>Middle Aged</td>\n",
       "    </tr>\n",
       "  </tbody>\n",
       "</table>\n",
       "</div>"
      ],
      "text/plain": [
       "     PassengerId  Survived  Pclass                                       Name  \\\n",
       "61            62         1       1                        Icard, Miss. Amelie   \n",
       "829          830         1       1  Stone, Mrs. George Nelson (Martha Evelyn)   \n",
       "\n",
       "        Sex  Age  SibSp  Parch  Ticket  Fare Embarked Title    Age_group  \n",
       "61   female   38      0      0  113572  80.0      NaN  Miss        Adult  \n",
       "829  female   62      0      0  113572  80.0      NaN   Mrs  Middle Aged  "
      ]
     },
     "execution_count": 30,
     "metadata": {},
     "output_type": "execute_result"
    }
   ],
   "source": [
    "train_df[train_df['Embarked'].isnull()]"
   ]
  },
  {
   "cell_type": "markdown",
   "id": "55eb60bb",
   "metadata": {},
   "source": [
    "We can realize that both passangers are females, were both in first class (pclass 1), had paid a fare of 80 and they both survived. <br> This makes filling the nan values easier"
   ]
  },
  {
   "cell_type": "code",
   "execution_count": 31,
   "id": "baf02fc8",
   "metadata": {},
   "outputs": [
    {
     "data": {
      "text/plain": [
       "Sex     Pclass  Embarked\n",
       "female  1       C           83.1583\n",
       "                Q           90.0000\n",
       "                S           79.6500\n",
       "Name: Fare, dtype: float64"
      ]
     },
     "metadata": {},
     "output_type": "display_data"
    }
   ],
   "source": [
    "# Lets display values with the above characteristics\n",
    "\n",
    "display(train_df[(train_df['Sex'] == 'female') & (train_df['Pclass'] == 1)].groupby(['Sex','Pclass','Embarked'])['Fare'].median())"
   ]
  },
  {
   "cell_type": "markdown",
   "id": "9fc59761",
   "metadata": {},
   "source": [
    "We can see that most people who paid approximately 80 pounds, embarked at Southamtom (S).<br>\n",
    "Therefore, we assign the empty values to <strong>Southampton (S)</strong>"
   ]
  },
  {
   "cell_type": "code",
   "execution_count": 32,
   "id": "2dfaa55c",
   "metadata": {},
   "outputs": [
    {
     "data": {
      "text/plain": [
       "0"
      ]
     },
     "execution_count": 32,
     "metadata": {},
     "output_type": "execute_result"
    }
   ],
   "source": [
    "train_df['Embarked'].fillna('S', inplace = True)\n",
    "train_df['Embarked'].isna().sum()"
   ]
  },
  {
   "cell_type": "markdown",
   "id": "efad3c65",
   "metadata": {},
   "source": [
    "### Dropping columns that are not useful anymore"
   ]
  },
  {
   "cell_type": "code",
   "execution_count": 33,
   "id": "ddc5d8d9",
   "metadata": {},
   "outputs": [
    {
     "data": {
      "text/html": [
       "<div>\n",
       "<style scoped>\n",
       "    .dataframe tbody tr th:only-of-type {\n",
       "        vertical-align: middle;\n",
       "    }\n",
       "\n",
       "    .dataframe tbody tr th {\n",
       "        vertical-align: top;\n",
       "    }\n",
       "\n",
       "    .dataframe thead th {\n",
       "        text-align: right;\n",
       "    }\n",
       "</style>\n",
       "<table border=\"1\" class=\"dataframe\">\n",
       "  <thead>\n",
       "    <tr style=\"text-align: right;\">\n",
       "      <th></th>\n",
       "      <th>PassengerId</th>\n",
       "      <th>Survived</th>\n",
       "      <th>Pclass</th>\n",
       "      <th>Name</th>\n",
       "      <th>Sex</th>\n",
       "      <th>Age</th>\n",
       "      <th>SibSp</th>\n",
       "      <th>Parch</th>\n",
       "      <th>Ticket</th>\n",
       "      <th>Fare</th>\n",
       "      <th>Embarked</th>\n",
       "      <th>Title</th>\n",
       "      <th>Age_group</th>\n",
       "    </tr>\n",
       "  </thead>\n",
       "  <tbody>\n",
       "    <tr>\n",
       "      <th>0</th>\n",
       "      <td>1</td>\n",
       "      <td>0</td>\n",
       "      <td>3</td>\n",
       "      <td>Braund, Mr. Owen Harris</td>\n",
       "      <td>male</td>\n",
       "      <td>22</td>\n",
       "      <td>1</td>\n",
       "      <td>0</td>\n",
       "      <td>A/5 21171</td>\n",
       "      <td>7.2500</td>\n",
       "      <td>S</td>\n",
       "      <td>Mr</td>\n",
       "      <td>Youth</td>\n",
       "    </tr>\n",
       "    <tr>\n",
       "      <th>1</th>\n",
       "      <td>2</td>\n",
       "      <td>1</td>\n",
       "      <td>1</td>\n",
       "      <td>Cumings, Mrs. John Bradley (Florence Briggs Th...</td>\n",
       "      <td>female</td>\n",
       "      <td>38</td>\n",
       "      <td>1</td>\n",
       "      <td>0</td>\n",
       "      <td>PC 17599</td>\n",
       "      <td>71.2833</td>\n",
       "      <td>C</td>\n",
       "      <td>Mrs</td>\n",
       "      <td>Adult</td>\n",
       "    </tr>\n",
       "    <tr>\n",
       "      <th>2</th>\n",
       "      <td>3</td>\n",
       "      <td>1</td>\n",
       "      <td>3</td>\n",
       "      <td>Heikkinen, Miss. Laina</td>\n",
       "      <td>female</td>\n",
       "      <td>26</td>\n",
       "      <td>0</td>\n",
       "      <td>0</td>\n",
       "      <td>STON/O2. 3101282</td>\n",
       "      <td>7.9250</td>\n",
       "      <td>S</td>\n",
       "      <td>Miss</td>\n",
       "      <td>Youth</td>\n",
       "    </tr>\n",
       "    <tr>\n",
       "      <th>3</th>\n",
       "      <td>4</td>\n",
       "      <td>1</td>\n",
       "      <td>1</td>\n",
       "      <td>Futrelle, Mrs. Jacques Heath (Lily May Peel)</td>\n",
       "      <td>female</td>\n",
       "      <td>35</td>\n",
       "      <td>1</td>\n",
       "      <td>0</td>\n",
       "      <td>113803</td>\n",
       "      <td>53.1000</td>\n",
       "      <td>S</td>\n",
       "      <td>Mrs</td>\n",
       "      <td>Adult</td>\n",
       "    </tr>\n",
       "    <tr>\n",
       "      <th>4</th>\n",
       "      <td>5</td>\n",
       "      <td>0</td>\n",
       "      <td>3</td>\n",
       "      <td>Allen, Mr. William Henry</td>\n",
       "      <td>male</td>\n",
       "      <td>35</td>\n",
       "      <td>0</td>\n",
       "      <td>0</td>\n",
       "      <td>373450</td>\n",
       "      <td>8.0500</td>\n",
       "      <td>S</td>\n",
       "      <td>Mr</td>\n",
       "      <td>Adult</td>\n",
       "    </tr>\n",
       "  </tbody>\n",
       "</table>\n",
       "</div>"
      ],
      "text/plain": [
       "   PassengerId  Survived  Pclass  \\\n",
       "0            1         0       3   \n",
       "1            2         1       1   \n",
       "2            3         1       3   \n",
       "3            4         1       1   \n",
       "4            5         0       3   \n",
       "\n",
       "                                                Name     Sex  Age  SibSp  \\\n",
       "0                            Braund, Mr. Owen Harris    male   22      1   \n",
       "1  Cumings, Mrs. John Bradley (Florence Briggs Th...  female   38      1   \n",
       "2                             Heikkinen, Miss. Laina  female   26      0   \n",
       "3       Futrelle, Mrs. Jacques Heath (Lily May Peel)  female   35      1   \n",
       "4                           Allen, Mr. William Henry    male   35      0   \n",
       "\n",
       "   Parch            Ticket     Fare Embarked Title Age_group  \n",
       "0      0         A/5 21171   7.2500        S    Mr     Youth  \n",
       "1      0          PC 17599  71.2833        C   Mrs     Adult  \n",
       "2      0  STON/O2. 3101282   7.9250        S  Miss     Youth  \n",
       "3      0            113803  53.1000        S   Mrs     Adult  \n",
       "4      0            373450   8.0500        S    Mr     Adult  "
      ]
     },
     "execution_count": 33,
     "metadata": {},
     "output_type": "execute_result"
    }
   ],
   "source": [
    "train_df.head()"
   ]
  },
  {
   "cell_type": "code",
   "execution_count": 34,
   "id": "b83eb446",
   "metadata": {},
   "outputs": [
    {
     "data": {
      "text/html": [
       "<div>\n",
       "<style scoped>\n",
       "    .dataframe tbody tr th:only-of-type {\n",
       "        vertical-align: middle;\n",
       "    }\n",
       "\n",
       "    .dataframe tbody tr th {\n",
       "        vertical-align: top;\n",
       "    }\n",
       "\n",
       "    .dataframe thead th {\n",
       "        text-align: right;\n",
       "    }\n",
       "</style>\n",
       "<table border=\"1\" class=\"dataframe\">\n",
       "  <thead>\n",
       "    <tr style=\"text-align: right;\">\n",
       "      <th></th>\n",
       "      <th>Survived</th>\n",
       "      <th>Pclass</th>\n",
       "      <th>Sex</th>\n",
       "      <th>SibSp</th>\n",
       "      <th>Parch</th>\n",
       "      <th>Embarked</th>\n",
       "      <th>Title</th>\n",
       "      <th>Age_group</th>\n",
       "    </tr>\n",
       "  </thead>\n",
       "  <tbody>\n",
       "    <tr>\n",
       "      <th>0</th>\n",
       "      <td>0</td>\n",
       "      <td>3</td>\n",
       "      <td>male</td>\n",
       "      <td>1</td>\n",
       "      <td>0</td>\n",
       "      <td>S</td>\n",
       "      <td>Mr</td>\n",
       "      <td>Youth</td>\n",
       "    </tr>\n",
       "    <tr>\n",
       "      <th>1</th>\n",
       "      <td>1</td>\n",
       "      <td>1</td>\n",
       "      <td>female</td>\n",
       "      <td>1</td>\n",
       "      <td>0</td>\n",
       "      <td>C</td>\n",
       "      <td>Mrs</td>\n",
       "      <td>Adult</td>\n",
       "    </tr>\n",
       "    <tr>\n",
       "      <th>2</th>\n",
       "      <td>1</td>\n",
       "      <td>3</td>\n",
       "      <td>female</td>\n",
       "      <td>0</td>\n",
       "      <td>0</td>\n",
       "      <td>S</td>\n",
       "      <td>Miss</td>\n",
       "      <td>Youth</td>\n",
       "    </tr>\n",
       "    <tr>\n",
       "      <th>3</th>\n",
       "      <td>1</td>\n",
       "      <td>1</td>\n",
       "      <td>female</td>\n",
       "      <td>1</td>\n",
       "      <td>0</td>\n",
       "      <td>S</td>\n",
       "      <td>Mrs</td>\n",
       "      <td>Adult</td>\n",
       "    </tr>\n",
       "    <tr>\n",
       "      <th>4</th>\n",
       "      <td>0</td>\n",
       "      <td>3</td>\n",
       "      <td>male</td>\n",
       "      <td>0</td>\n",
       "      <td>0</td>\n",
       "      <td>S</td>\n",
       "      <td>Mr</td>\n",
       "      <td>Adult</td>\n",
       "    </tr>\n",
       "  </tbody>\n",
       "</table>\n",
       "</div>"
      ],
      "text/plain": [
       "   Survived  Pclass     Sex  SibSp  Parch Embarked Title Age_group\n",
       "0         0       3    male      1      0        S    Mr     Youth\n",
       "1         1       1  female      1      0        C   Mrs     Adult\n",
       "2         1       3  female      0      0        S  Miss     Youth\n",
       "3         1       1  female      1      0        S   Mrs     Adult\n",
       "4         0       3    male      0      0        S    Mr     Adult"
      ]
     },
     "execution_count": 34,
     "metadata": {},
     "output_type": "execute_result"
    }
   ],
   "source": [
    "train_df.drop(['PassengerId', 'Name', 'Age', 'Ticket', 'Fare'], axis = 1, inplace = True)\n",
    "train_df.head()"
   ]
  },
  {
   "cell_type": "markdown",
   "id": "3ff3285f",
   "metadata": {},
   "source": [
    "### creating dummies"
   ]
  },
  {
   "cell_type": "code",
   "execution_count": 35,
   "id": "03dcb5de",
   "metadata": {},
   "outputs": [
    {
     "data": {
      "text/html": [
       "<div>\n",
       "<style scoped>\n",
       "    .dataframe tbody tr th:only-of-type {\n",
       "        vertical-align: middle;\n",
       "    }\n",
       "\n",
       "    .dataframe tbody tr th {\n",
       "        vertical-align: top;\n",
       "    }\n",
       "\n",
       "    .dataframe thead th {\n",
       "        text-align: right;\n",
       "    }\n",
       "</style>\n",
       "<table border=\"1\" class=\"dataframe\">\n",
       "  <thead>\n",
       "    <tr style=\"text-align: right;\">\n",
       "      <th></th>\n",
       "      <th>Survived</th>\n",
       "      <th>Pclass</th>\n",
       "      <th>SibSp</th>\n",
       "      <th>Parch</th>\n",
       "      <th>Sex_female</th>\n",
       "      <th>Sex_male</th>\n",
       "      <th>Embarked_C</th>\n",
       "      <th>Embarked_Q</th>\n",
       "      <th>Embarked_S</th>\n",
       "      <th>Title_Miss</th>\n",
       "      <th>Title_Mr</th>\n",
       "      <th>Title_Mrs</th>\n",
       "      <th>Title_Other</th>\n",
       "      <th>Age_group_Child</th>\n",
       "      <th>Age_group_Youth</th>\n",
       "      <th>Age_group_Adult</th>\n",
       "      <th>Age_group_Middle Aged</th>\n",
       "      <th>Age_group_Elderly</th>\n",
       "    </tr>\n",
       "  </thead>\n",
       "  <tbody>\n",
       "    <tr>\n",
       "      <th>0</th>\n",
       "      <td>0</td>\n",
       "      <td>3</td>\n",
       "      <td>1</td>\n",
       "      <td>0</td>\n",
       "      <td>0</td>\n",
       "      <td>1</td>\n",
       "      <td>0</td>\n",
       "      <td>0</td>\n",
       "      <td>1</td>\n",
       "      <td>0</td>\n",
       "      <td>1</td>\n",
       "      <td>0</td>\n",
       "      <td>0</td>\n",
       "      <td>0</td>\n",
       "      <td>1</td>\n",
       "      <td>0</td>\n",
       "      <td>0</td>\n",
       "      <td>0</td>\n",
       "    </tr>\n",
       "    <tr>\n",
       "      <th>1</th>\n",
       "      <td>1</td>\n",
       "      <td>1</td>\n",
       "      <td>1</td>\n",
       "      <td>0</td>\n",
       "      <td>1</td>\n",
       "      <td>0</td>\n",
       "      <td>1</td>\n",
       "      <td>0</td>\n",
       "      <td>0</td>\n",
       "      <td>0</td>\n",
       "      <td>0</td>\n",
       "      <td>1</td>\n",
       "      <td>0</td>\n",
       "      <td>0</td>\n",
       "      <td>0</td>\n",
       "      <td>1</td>\n",
       "      <td>0</td>\n",
       "      <td>0</td>\n",
       "    </tr>\n",
       "    <tr>\n",
       "      <th>2</th>\n",
       "      <td>1</td>\n",
       "      <td>3</td>\n",
       "      <td>0</td>\n",
       "      <td>0</td>\n",
       "      <td>1</td>\n",
       "      <td>0</td>\n",
       "      <td>0</td>\n",
       "      <td>0</td>\n",
       "      <td>1</td>\n",
       "      <td>1</td>\n",
       "      <td>0</td>\n",
       "      <td>0</td>\n",
       "      <td>0</td>\n",
       "      <td>0</td>\n",
       "      <td>1</td>\n",
       "      <td>0</td>\n",
       "      <td>0</td>\n",
       "      <td>0</td>\n",
       "    </tr>\n",
       "    <tr>\n",
       "      <th>3</th>\n",
       "      <td>1</td>\n",
       "      <td>1</td>\n",
       "      <td>1</td>\n",
       "      <td>0</td>\n",
       "      <td>1</td>\n",
       "      <td>0</td>\n",
       "      <td>0</td>\n",
       "      <td>0</td>\n",
       "      <td>1</td>\n",
       "      <td>0</td>\n",
       "      <td>0</td>\n",
       "      <td>1</td>\n",
       "      <td>0</td>\n",
       "      <td>0</td>\n",
       "      <td>0</td>\n",
       "      <td>1</td>\n",
       "      <td>0</td>\n",
       "      <td>0</td>\n",
       "    </tr>\n",
       "    <tr>\n",
       "      <th>4</th>\n",
       "      <td>0</td>\n",
       "      <td>3</td>\n",
       "      <td>0</td>\n",
       "      <td>0</td>\n",
       "      <td>0</td>\n",
       "      <td>1</td>\n",
       "      <td>0</td>\n",
       "      <td>0</td>\n",
       "      <td>1</td>\n",
       "      <td>0</td>\n",
       "      <td>1</td>\n",
       "      <td>0</td>\n",
       "      <td>0</td>\n",
       "      <td>0</td>\n",
       "      <td>0</td>\n",
       "      <td>1</td>\n",
       "      <td>0</td>\n",
       "      <td>0</td>\n",
       "    </tr>\n",
       "    <tr>\n",
       "      <th>...</th>\n",
       "      <td>...</td>\n",
       "      <td>...</td>\n",
       "      <td>...</td>\n",
       "      <td>...</td>\n",
       "      <td>...</td>\n",
       "      <td>...</td>\n",
       "      <td>...</td>\n",
       "      <td>...</td>\n",
       "      <td>...</td>\n",
       "      <td>...</td>\n",
       "      <td>...</td>\n",
       "      <td>...</td>\n",
       "      <td>...</td>\n",
       "      <td>...</td>\n",
       "      <td>...</td>\n",
       "      <td>...</td>\n",
       "      <td>...</td>\n",
       "      <td>...</td>\n",
       "    </tr>\n",
       "    <tr>\n",
       "      <th>886</th>\n",
       "      <td>0</td>\n",
       "      <td>2</td>\n",
       "      <td>0</td>\n",
       "      <td>0</td>\n",
       "      <td>0</td>\n",
       "      <td>1</td>\n",
       "      <td>0</td>\n",
       "      <td>0</td>\n",
       "      <td>1</td>\n",
       "      <td>0</td>\n",
       "      <td>0</td>\n",
       "      <td>0</td>\n",
       "      <td>1</td>\n",
       "      <td>0</td>\n",
       "      <td>1</td>\n",
       "      <td>0</td>\n",
       "      <td>0</td>\n",
       "      <td>0</td>\n",
       "    </tr>\n",
       "    <tr>\n",
       "      <th>887</th>\n",
       "      <td>1</td>\n",
       "      <td>1</td>\n",
       "      <td>0</td>\n",
       "      <td>0</td>\n",
       "      <td>1</td>\n",
       "      <td>0</td>\n",
       "      <td>0</td>\n",
       "      <td>0</td>\n",
       "      <td>1</td>\n",
       "      <td>1</td>\n",
       "      <td>0</td>\n",
       "      <td>0</td>\n",
       "      <td>0</td>\n",
       "      <td>0</td>\n",
       "      <td>1</td>\n",
       "      <td>0</td>\n",
       "      <td>0</td>\n",
       "      <td>0</td>\n",
       "    </tr>\n",
       "    <tr>\n",
       "      <th>888</th>\n",
       "      <td>0</td>\n",
       "      <td>3</td>\n",
       "      <td>1</td>\n",
       "      <td>2</td>\n",
       "      <td>1</td>\n",
       "      <td>0</td>\n",
       "      <td>0</td>\n",
       "      <td>0</td>\n",
       "      <td>1</td>\n",
       "      <td>1</td>\n",
       "      <td>0</td>\n",
       "      <td>0</td>\n",
       "      <td>0</td>\n",
       "      <td>1</td>\n",
       "      <td>0</td>\n",
       "      <td>0</td>\n",
       "      <td>0</td>\n",
       "      <td>0</td>\n",
       "    </tr>\n",
       "    <tr>\n",
       "      <th>889</th>\n",
       "      <td>1</td>\n",
       "      <td>1</td>\n",
       "      <td>0</td>\n",
       "      <td>0</td>\n",
       "      <td>0</td>\n",
       "      <td>1</td>\n",
       "      <td>1</td>\n",
       "      <td>0</td>\n",
       "      <td>0</td>\n",
       "      <td>0</td>\n",
       "      <td>1</td>\n",
       "      <td>0</td>\n",
       "      <td>0</td>\n",
       "      <td>0</td>\n",
       "      <td>1</td>\n",
       "      <td>0</td>\n",
       "      <td>0</td>\n",
       "      <td>0</td>\n",
       "    </tr>\n",
       "    <tr>\n",
       "      <th>890</th>\n",
       "      <td>0</td>\n",
       "      <td>3</td>\n",
       "      <td>0</td>\n",
       "      <td>0</td>\n",
       "      <td>0</td>\n",
       "      <td>1</td>\n",
       "      <td>0</td>\n",
       "      <td>1</td>\n",
       "      <td>0</td>\n",
       "      <td>0</td>\n",
       "      <td>1</td>\n",
       "      <td>0</td>\n",
       "      <td>0</td>\n",
       "      <td>0</td>\n",
       "      <td>1</td>\n",
       "      <td>0</td>\n",
       "      <td>0</td>\n",
       "      <td>0</td>\n",
       "    </tr>\n",
       "  </tbody>\n",
       "</table>\n",
       "<p>891 rows × 18 columns</p>\n",
       "</div>"
      ],
      "text/plain": [
       "     Survived  Pclass  SibSp  Parch  Sex_female  Sex_male  Embarked_C  \\\n",
       "0           0       3      1      0           0         1           0   \n",
       "1           1       1      1      0           1         0           1   \n",
       "2           1       3      0      0           1         0           0   \n",
       "3           1       1      1      0           1         0           0   \n",
       "4           0       3      0      0           0         1           0   \n",
       "..        ...     ...    ...    ...         ...       ...         ...   \n",
       "886         0       2      0      0           0         1           0   \n",
       "887         1       1      0      0           1         0           0   \n",
       "888         0       3      1      2           1         0           0   \n",
       "889         1       1      0      0           0         1           1   \n",
       "890         0       3      0      0           0         1           0   \n",
       "\n",
       "     Embarked_Q  Embarked_S  Title_Miss  Title_Mr  Title_Mrs  Title_Other  \\\n",
       "0             0           1           0         1          0            0   \n",
       "1             0           0           0         0          1            0   \n",
       "2             0           1           1         0          0            0   \n",
       "3             0           1           0         0          1            0   \n",
       "4             0           1           0         1          0            0   \n",
       "..          ...         ...         ...       ...        ...          ...   \n",
       "886           0           1           0         0          0            1   \n",
       "887           0           1           1         0          0            0   \n",
       "888           0           1           1         0          0            0   \n",
       "889           0           0           0         1          0            0   \n",
       "890           1           0           0         1          0            0   \n",
       "\n",
       "     Age_group_Child  Age_group_Youth  Age_group_Adult  Age_group_Middle Aged  \\\n",
       "0                  0                1                0                      0   \n",
       "1                  0                0                1                      0   \n",
       "2                  0                1                0                      0   \n",
       "3                  0                0                1                      0   \n",
       "4                  0                0                1                      0   \n",
       "..               ...              ...              ...                    ...   \n",
       "886                0                1                0                      0   \n",
       "887                0                1                0                      0   \n",
       "888                1                0                0                      0   \n",
       "889                0                1                0                      0   \n",
       "890                0                1                0                      0   \n",
       "\n",
       "     Age_group_Elderly  \n",
       "0                    0  \n",
       "1                    0  \n",
       "2                    0  \n",
       "3                    0  \n",
       "4                    0  \n",
       "..                 ...  \n",
       "886                  0  \n",
       "887                  0  \n",
       "888                  0  \n",
       "889                  0  \n",
       "890                  0  \n",
       "\n",
       "[891 rows x 18 columns]"
      ]
     },
     "execution_count": 35,
     "metadata": {},
     "output_type": "execute_result"
    }
   ],
   "source": [
    "train_data = pd.get_dummies(data = train_df, dummy_na = False)\n",
    "train_data"
   ]
  },
  {
   "cell_type": "markdown",
   "id": "4984a47c",
   "metadata": {},
   "source": [
    "# Modelling"
   ]
  },
  {
   "cell_type": "code",
   "execution_count": 36,
   "id": "cf60dd66",
   "metadata": {},
   "outputs": [],
   "source": [
    "from sklearn.ensemble import RandomForestClassifier, AdaBoostClassifier , GradientBoostingClassifier, ExtraTreesClassifier, VotingClassifier\n",
    "from sklearn.discriminant_analysis import LinearDiscriminantAnalysis\n",
    "from sklearn.linear_model import LogisticRegression, Perceptron, SGDClassifier\n",
    "from sklearn.neighbors import KNeighborsClassifier\n",
    "from sklearn.tree import DecisionTreeClassifier, ExtraTreeClassifier\n",
    "from sklearn.neural_network import MLPClassifier\n",
    "from sklearn.naive_bayes import GaussianNB\n",
    "from sklearn.svm import SVC, LinearSVC\n",
    "from sklearn.model_selection import GridSearchCV, cross_validate, cross_val_score, StratifiedKFold, learning_curve\n",
    "from tqdm import tqdm"
   ]
  },
  {
   "cell_type": "code",
   "execution_count": 37,
   "id": "7cbfeadb",
   "metadata": {},
   "outputs": [
    {
     "data": {
      "text/plain": [
       "((891,), (891, 17), (418, 11), (418, 10))"
      ]
     },
     "execution_count": 37,
     "metadata": {},
     "output_type": "execute_result"
    }
   ],
   "source": [
    "# Data splitting\n",
    "\n",
    "y_train = train_data['Survived']\n",
    "X_train = train_data.drop('Survived', axis=1)\n",
    "X_test = test_df.drop('PassengerId', axis=1)\n",
    "y_test = test_df\n",
    "\n",
    "y_train.shape, X_train.shape, y_test.shape, X_test.shape"
   ]
  },
  {
   "cell_type": "code",
   "execution_count": 38,
   "id": "2039da36",
   "metadata": {},
   "outputs": [
    {
     "name": "stderr",
     "output_type": "stream",
     "text": [
      "100%|██████████| 13/13 [00:35<00:00,  2.74s/it]\n"
     ]
    },
    {
     "data": {
      "image/png": "[encoded data removed]",
      "text/plain": [
       "<Figure size 576x360 with 1 Axes>"
      ]
     },
     "metadata": {
      "needs_background": "light"
     },
     "output_type": "display_data"
    }
   ],
   "source": [
    "# Cross validating with Kfold stratified crossval\n",
    "\n",
    "\n",
    "from statistics import mean\n",
    "\n",
    "\n",
    "Kfold = StratifiedKFold(n_splits=10)\n",
    "\n",
    "random_state = 2\n",
    "\n",
    "classifiers = {\n",
    "    \"RF\" : RandomForestClassifier(random_state=random_state),\n",
    "    \"GBC\": GradientBoostingClassifier(random_state=random_state),\n",
    "    \"ETC\": ExtraTreesClassifier(random_state=random_state),\n",
    "    \"LDA\": LinearDiscriminantAnalysis(),\n",
    "    \"LR\" : LogisticRegression(),\n",
    "    \"Pcp\" : Perceptron(random_state=random_state),\n",
    "    \"SGDC\" : SGDClassifier(random_state=random_state),\n",
    "    \"KNN\": KNeighborsClassifier(),\n",
    "    \"DTC\": DecisionTreeClassifier(random_state=random_state),\n",
    "    \"MLPC\": MLPClassifier(),\n",
    "    \"SVM\": SVC(random_state=random_state),\n",
    "    \"LSVC\": LinearSVC(random_state=random_state),\n",
    "    \"GNB\" : GaussianNB()\n",
    "}\n",
    "\n",
    "classifier_results = pd.DataFrame(columns=[\"classifier\", \"Avg_Accuracy\"])\n",
    "for name, clf in tqdm(classifiers.items()):\n",
    "    model = clf\n",
    "    cv_results = cross_validate(model,X_train, y_train, cv = Kfold,scoring=(['accuracy', 'f1']))\n",
    "    classifier_results = classifier_results.append({\n",
    "        \"classifier\":name,\n",
    "        \"Avg_Accuracy\" : cv_results['test_accuracy'].mean()\n",
    "    \n",
    "    }, ignore_index = True)\n",
    "\n",
    "classifier_results = classifier_results.sort_values(\"Avg_Accuracy\", ascending=False)\n",
    "\n",
    "classifier_results\n",
    "\n",
    "fig = plt.figure(figsize=(8,5))\n",
    "chart = sns.barplot(x=\"Avg_Accuracy\", y=\"classifier\", data = classifier_results, palette='RdYlBu')\n",
    "chart.bar_label(chart.containers[0], fmt='%.3f')\n",
    "plt.title(\"Accuracy of different models\")\n",
    "plt.show()\n"
   ]
  },
  {
   "cell_type": "markdown",
   "id": "529700a1",
   "metadata": {},
   "source": [
    "We can see that SVM has the best accuracy with 82%"
   ]
  },
  {
   "cell_type": "markdown",
   "id": "84dd6f30",
   "metadata": {},
   "source": [
    "## Model hyperparameter tuning\n",
    "\n",
    "### SVM"
   ]
  },
  {
   "cell_type": "code",
   "execution_count": 42,
   "id": "1acb30d5",
   "metadata": {},
   "outputs": [
    {
     "name": "stdout",
     "output_type": "stream",
     "text": [
      "Fitting 10 folds for each of 27 candidates, totalling 270 fits\n",
      "0.8181897627965042 SVC(C=1, gamma=0.1, kernel='poly', probability=True, random_state=0)\n"
     ]
    }
   ],
   "source": [
    "SVM = SVC(probability=True)\n",
    "SVM_Params = {\n",
    "    'kernel':['poly'],\n",
    "    'C':[0.01,0.1,1],\n",
    "    'gamma':[0.01,0.1,1],\n",
    "    'random_state':[0,2,42]\n",
    "}\n",
    "SVM_grid = GridSearchCV(\n",
    "    SVM, SVM_Params, refit=True,\n",
    "    scoring=\"accuracy\", verbose=1, cv=Kfold\n",
    ")\n",
    "\n",
    "SVM_grid.fit(X_train, y_train)\n",
    "\n",
    "SVM_best = SVM_grid.best_estimator_\n",
    "print(SVM_grid.best_score_, SVM_best)"
   ]
  },
  {
   "cell_type": "markdown",
   "id": "be09e1b8",
   "metadata": {},
   "source": [
    "### GBC"
   ]
  },
  {
   "cell_type": "code",
   "execution_count": 43,
   "id": "22f07677",
   "metadata": {},
   "outputs": [
    {
     "name": "stdout",
     "output_type": "stream",
     "text": [
      "Fitting 10 folds for each of 36 candidates, totalling 360 fits\n",
      "0.8170911360799001 GradientBoostingClassifier(n_estimators=50, random_state=0)\n"
     ]
    }
   ],
   "source": [
    "GBC = GradientBoostingClassifier()\n",
    "GBC_params = {'n_estimators':[5,10,50],\n",
    "                'learning_rate':[0.01,0.1,1],\n",
    "                'random_state': [0,1,2,3]}\n",
    "\n",
    "GBC_grid = GridSearchCV(GBC, GBC_params, \n",
    "                        refit=True, scoring=\"accuracy\", verbose=1, cv=Kfold)\n",
    "GBC_grid.fit(X_train,y_train)\n",
    "\n",
    "GBC_best = GBC_grid.best_estimator_\n",
    "\n",
    "print(GBC_grid.best_score_, GBC_grid.best_estimator_)"
   ]
  },
  {
   "cell_type": "markdown",
   "id": "3a831919",
   "metadata": {},
   "source": [
    "### Linear regression"
   ]
  },
  {
   "cell_type": "code",
   "execution_count": 44,
   "id": "e7ca406f",
   "metadata": {},
   "outputs": [
    {
     "name": "stdout",
     "output_type": "stream",
     "text": [
      "Fitting 10 folds for each of 15 candidates, totalling 150 fits\n",
      "0.7990886392009987 LogisticRegression(C=0.1, solver='newton-cg')\n"
     ]
    }
   ],
   "source": [
    "LR = LogisticRegression()\n",
    "LR_params = {'solver':['newton-cg','lbfgs','liblinear'],\n",
    "            'C':[0.001,0.01,0.1,1,10]}\n",
    "\n",
    "LR_grid = GridSearchCV(LR, LR_params, \n",
    "                    refit=True, scoring=\"accuracy\", verbose=1, cv=Kfold)\n",
    "LR_grid.fit(X_train,y_train)\n",
    "\n",
    "LR_best = LR_grid.best_estimator_\n",
    "\n",
    "print(LR_grid.best_score_, LR_grid.best_estimator_)"
   ]
  },
  {
   "cell_type": "markdown",
   "id": "2dcb2536",
   "metadata": {},
   "source": [
    "### LDA"
   ]
  },
  {
   "cell_type": "code",
   "execution_count": 46,
   "id": "350a116d",
   "metadata": {},
   "outputs": [
    {
     "name": "stdout",
     "output_type": "stream",
     "text": [
      "Fitting 10 folds for each of 3 candidates, totalling 30 fits\n",
      "0.7946317103620475 LinearDiscriminantAnalysis()\n"
     ]
    }
   ],
   "source": [
    "LDA = LinearDiscriminantAnalysis()\n",
    "LDA_params = {'solver': ['svd', 'lsqr', 'eigen']}\n",
    "\n",
    "LDA_grid = GridSearchCV(LDA, LDA_params, \n",
    "                        refit=True, scoring=\"accuracy\", verbose=1, cv=Kfold)\n",
    "LDA_grid.fit(X_train,y_train)\n",
    "\n",
    "LDA_best = LDA_grid.best_estimator_\n",
    "\n",
    "print(LDA_grid.best_score_,LDA_grid.best_estimator_)"
   ]
  },
  {
   "cell_type": "markdown",
   "id": "6b339f0e",
   "metadata": {},
   "source": [
    "  #                                           The End"
   ]
  }
 ],
 "metadata": {
  "kernelspec": {
   "display_name": "Python 3",
   "language": "python",
   "name": "python3"
  },
  "language_info": {
   "codemirror_mode": {
    "name": "ipython",
    "version": 3
   },
   "file_extension": ".py",
   "mimetype": "text/x-python",
   "name": "python",
   "nbconvert_exporter": "python",
   "pygments_lexer": "ipython3",
   "version": "3.8.8"
  },
  "vscode": {
   "interpreter": {
    "hash": "04b2e48da8715d0e03ed003238e610aa18fc3abec3b418b1e66df75f2c0e936e"
   }
  }
 },
 "nbformat": 4,
 "nbformat_minor": 5
}
